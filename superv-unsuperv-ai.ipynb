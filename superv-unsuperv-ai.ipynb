{
  "nbformat": 4,
  "nbformat_minor": 0,
  "metadata": {
    "colab": {
      "name": "prova2-ia-franklin.ipynb",
      "provenance": [],
      "collapsed_sections": [
        "cQBaa9aj8IwT"
      ],
      "authorship_tag": "ABX9TyMwTIl0CSqPYbs1IMDShNI1",
      "include_colab_link": true
    },
    "kernelspec": {
      "name": "python3",
      "display_name": "Python 3"
    },
    "accelerator": "GPU"
  },
  "cells": [
    {
      "cell_type": "markdown",
      "metadata": {
        "id": "view-in-github",
        "colab_type": "text"
      },
      "source": [
        "<a href=\"https://colab.research.google.com/github/franklinthony/superv-unsuperv-ai/blob/main/superv-unsuperv-ai.ipynb\" target=\"_parent\"><img src=\"https://colab.research.google.com/assets/colab-badge.svg\" alt=\"Open In Colab\"/></a>"
      ]
    },
    {
      "cell_type": "markdown",
      "metadata": {
        "id": "WdMfDXUJB9rC"
      },
      "source": [
        "# **Desenvolvimento de métodos supervisionados e não supervisionados**\n",
        "\n",
        "\n",
        "\n",
        "---"
      ]
    },
    {
      "cell_type": "markdown",
      "metadata": {
        "id": "-FpfAU8XK3da"
      },
      "source": [
        "Foram desenvolvidas, neste notebook, como segunda avaliação da disciplina _Introdução à Inteligência Artificial_:\n",
        "\n",
        "* 2 aplicações envolvendo aprendizagem supervisionada. Como base de dados, foi utilizada a [HCV Data Set](https://archive.ics.uci.edu/ml/datasets/HCV+data#), que consiste na classificação de vinhos em três classes existentes\n",
        "\n",
        "* 2 aplicações envolvendo aprendizagem não supervisionada. Como base de dados, foi utilizada a [Wine Data Set](https://archive.ics.uci.edu/ml/datasets/wine), que trata de pacientes com hepatice C, fibrose ou cirrose, e que podem ser classificados como doadores ou não doadores\n",
        "\n",
        "Por fim, foram mostrados os resultados (através de diferentes métricas) para cada algoritmo, bem como breves discussões acerca dos mesmos"
      ]
    },
    {
      "cell_type": "markdown",
      "metadata": {
        "id": "3BZQv315NlBO"
      },
      "source": [
        "## **Aprendizagem supervisionada** \n",
        "---\n",
        "As duas abordagens escolhidas foram _Multilayer Perceptron_ e _Random Forest_. Primeiramenta, seguiremos para a realização do pré-processamento da base de dados, seguindo para a aplicação dos modelos mencionados"
      ]
    },
    {
      "cell_type": "markdown",
      "metadata": {
        "id": "7ot9Fw6I8m4R"
      },
      "source": [
        "### **Pré-processamento dos dados**\n",
        "---\n"
      ]
    },
    {
      "cell_type": "markdown",
      "metadata": {
        "id": "lxtA8ESC8m4R"
      },
      "source": [
        "Vamos importar a biblioteca `pandas`, para importar a base de dados e realizar o pré-processamento da mesma"
      ]
    },
    {
      "cell_type": "code",
      "metadata": {
        "id": "CaPyjkjC8m4R"
      },
      "source": [
        "import pandas as pd"
      ],
      "execution_count": null,
      "outputs": []
    },
    {
      "cell_type": "markdown",
      "metadata": {
        "id": "0ooCxhcd8m4R"
      },
      "source": [
        "Relizando o upload do arquivo `.csv`"
      ]
    },
    {
      "cell_type": "code",
      "metadata": {
        "colab": {
          "base_uri": "https://localhost:8080/",
          "height": 419
        },
        "id": "OV4Y31t_8m4S",
        "outputId": "a5b391a1-4390-4d53-eb2d-06b3f906f56d"
      },
      "source": [
        "# Carregamento da base de dados\n",
        "hcv_dataset = pd.read_csv(\"https://raw.githubusercontent.com/franklinthony/dataset/master/hcv.csv\", sep = ',')\n",
        "hcv_dataset"
      ],
      "execution_count": null,
      "outputs": [
        {
          "output_type": "execute_result",
          "data": {
            "text/html": [
              "<div>\n",
              "<style scoped>\n",
              "    .dataframe tbody tr th:only-of-type {\n",
              "        vertical-align: middle;\n",
              "    }\n",
              "\n",
              "    .dataframe tbody tr th {\n",
              "        vertical-align: top;\n",
              "    }\n",
              "\n",
              "    .dataframe thead th {\n",
              "        text-align: right;\n",
              "    }\n",
              "</style>\n",
              "<table border=\"1\" class=\"dataframe\">\n",
              "  <thead>\n",
              "    <tr style=\"text-align: right;\">\n",
              "      <th></th>\n",
              "      <th>Unnamed: 0</th>\n",
              "      <th>Category</th>\n",
              "      <th>Age</th>\n",
              "      <th>Sex</th>\n",
              "      <th>ALB</th>\n",
              "      <th>ALP</th>\n",
              "      <th>ALT</th>\n",
              "      <th>AST</th>\n",
              "      <th>BIL</th>\n",
              "      <th>CHE</th>\n",
              "      <th>CHOL</th>\n",
              "      <th>CREA</th>\n",
              "      <th>GGT</th>\n",
              "      <th>PROT</th>\n",
              "    </tr>\n",
              "  </thead>\n",
              "  <tbody>\n",
              "    <tr>\n",
              "      <th>0</th>\n",
              "      <td>1</td>\n",
              "      <td>0=Blood Donor</td>\n",
              "      <td>32</td>\n",
              "      <td>m</td>\n",
              "      <td>38.5</td>\n",
              "      <td>52.5</td>\n",
              "      <td>7.7</td>\n",
              "      <td>22.1</td>\n",
              "      <td>7.5</td>\n",
              "      <td>6.93</td>\n",
              "      <td>3.23</td>\n",
              "      <td>106.0</td>\n",
              "      <td>12.1</td>\n",
              "      <td>69.0</td>\n",
              "    </tr>\n",
              "    <tr>\n",
              "      <th>1</th>\n",
              "      <td>2</td>\n",
              "      <td>0=Blood Donor</td>\n",
              "      <td>32</td>\n",
              "      <td>m</td>\n",
              "      <td>38.5</td>\n",
              "      <td>70.3</td>\n",
              "      <td>18.0</td>\n",
              "      <td>24.7</td>\n",
              "      <td>3.9</td>\n",
              "      <td>11.17</td>\n",
              "      <td>4.80</td>\n",
              "      <td>74.0</td>\n",
              "      <td>15.6</td>\n",
              "      <td>76.5</td>\n",
              "    </tr>\n",
              "    <tr>\n",
              "      <th>2</th>\n",
              "      <td>3</td>\n",
              "      <td>0=Blood Donor</td>\n",
              "      <td>32</td>\n",
              "      <td>m</td>\n",
              "      <td>46.9</td>\n",
              "      <td>74.7</td>\n",
              "      <td>36.2</td>\n",
              "      <td>52.6</td>\n",
              "      <td>6.1</td>\n",
              "      <td>8.84</td>\n",
              "      <td>5.20</td>\n",
              "      <td>86.0</td>\n",
              "      <td>33.2</td>\n",
              "      <td>79.3</td>\n",
              "    </tr>\n",
              "    <tr>\n",
              "      <th>3</th>\n",
              "      <td>4</td>\n",
              "      <td>0=Blood Donor</td>\n",
              "      <td>32</td>\n",
              "      <td>m</td>\n",
              "      <td>43.2</td>\n",
              "      <td>52.0</td>\n",
              "      <td>30.6</td>\n",
              "      <td>22.6</td>\n",
              "      <td>18.9</td>\n",
              "      <td>7.33</td>\n",
              "      <td>4.74</td>\n",
              "      <td>80.0</td>\n",
              "      <td>33.8</td>\n",
              "      <td>75.7</td>\n",
              "    </tr>\n",
              "    <tr>\n",
              "      <th>4</th>\n",
              "      <td>5</td>\n",
              "      <td>0=Blood Donor</td>\n",
              "      <td>32</td>\n",
              "      <td>m</td>\n",
              "      <td>39.2</td>\n",
              "      <td>74.1</td>\n",
              "      <td>32.6</td>\n",
              "      <td>24.8</td>\n",
              "      <td>9.6</td>\n",
              "      <td>9.15</td>\n",
              "      <td>4.32</td>\n",
              "      <td>76.0</td>\n",
              "      <td>29.9</td>\n",
              "      <td>68.7</td>\n",
              "    </tr>\n",
              "    <tr>\n",
              "      <th>...</th>\n",
              "      <td>...</td>\n",
              "      <td>...</td>\n",
              "      <td>...</td>\n",
              "      <td>...</td>\n",
              "      <td>...</td>\n",
              "      <td>...</td>\n",
              "      <td>...</td>\n",
              "      <td>...</td>\n",
              "      <td>...</td>\n",
              "      <td>...</td>\n",
              "      <td>...</td>\n",
              "      <td>...</td>\n",
              "      <td>...</td>\n",
              "      <td>...</td>\n",
              "    </tr>\n",
              "    <tr>\n",
              "      <th>610</th>\n",
              "      <td>611</td>\n",
              "      <td>3=Cirrhosis</td>\n",
              "      <td>62</td>\n",
              "      <td>f</td>\n",
              "      <td>32.0</td>\n",
              "      <td>416.6</td>\n",
              "      <td>5.9</td>\n",
              "      <td>110.3</td>\n",
              "      <td>50.0</td>\n",
              "      <td>5.57</td>\n",
              "      <td>6.30</td>\n",
              "      <td>55.7</td>\n",
              "      <td>650.9</td>\n",
              "      <td>68.5</td>\n",
              "    </tr>\n",
              "    <tr>\n",
              "      <th>611</th>\n",
              "      <td>612</td>\n",
              "      <td>3=Cirrhosis</td>\n",
              "      <td>64</td>\n",
              "      <td>f</td>\n",
              "      <td>24.0</td>\n",
              "      <td>102.8</td>\n",
              "      <td>2.9</td>\n",
              "      <td>44.4</td>\n",
              "      <td>20.0</td>\n",
              "      <td>1.54</td>\n",
              "      <td>3.02</td>\n",
              "      <td>63.0</td>\n",
              "      <td>35.9</td>\n",
              "      <td>71.3</td>\n",
              "    </tr>\n",
              "    <tr>\n",
              "      <th>612</th>\n",
              "      <td>613</td>\n",
              "      <td>3=Cirrhosis</td>\n",
              "      <td>64</td>\n",
              "      <td>f</td>\n",
              "      <td>29.0</td>\n",
              "      <td>87.3</td>\n",
              "      <td>3.5</td>\n",
              "      <td>99.0</td>\n",
              "      <td>48.0</td>\n",
              "      <td>1.66</td>\n",
              "      <td>3.63</td>\n",
              "      <td>66.7</td>\n",
              "      <td>64.2</td>\n",
              "      <td>82.0</td>\n",
              "    </tr>\n",
              "    <tr>\n",
              "      <th>613</th>\n",
              "      <td>614</td>\n",
              "      <td>3=Cirrhosis</td>\n",
              "      <td>46</td>\n",
              "      <td>f</td>\n",
              "      <td>33.0</td>\n",
              "      <td>NaN</td>\n",
              "      <td>39.0</td>\n",
              "      <td>62.0</td>\n",
              "      <td>20.0</td>\n",
              "      <td>3.56</td>\n",
              "      <td>4.20</td>\n",
              "      <td>52.0</td>\n",
              "      <td>50.0</td>\n",
              "      <td>71.0</td>\n",
              "    </tr>\n",
              "    <tr>\n",
              "      <th>614</th>\n",
              "      <td>615</td>\n",
              "      <td>3=Cirrhosis</td>\n",
              "      <td>59</td>\n",
              "      <td>f</td>\n",
              "      <td>36.0</td>\n",
              "      <td>NaN</td>\n",
              "      <td>100.0</td>\n",
              "      <td>80.0</td>\n",
              "      <td>12.0</td>\n",
              "      <td>9.07</td>\n",
              "      <td>5.30</td>\n",
              "      <td>67.0</td>\n",
              "      <td>34.0</td>\n",
              "      <td>68.0</td>\n",
              "    </tr>\n",
              "  </tbody>\n",
              "</table>\n",
              "<p>615 rows × 14 columns</p>\n",
              "</div>"
            ],
            "text/plain": [
              "     Unnamed: 0       Category  Age Sex   ALB  ...    CHE  CHOL   CREA    GGT  PROT\n",
              "0             1  0=Blood Donor   32   m  38.5  ...   6.93  3.23  106.0   12.1  69.0\n",
              "1             2  0=Blood Donor   32   m  38.5  ...  11.17  4.80   74.0   15.6  76.5\n",
              "2             3  0=Blood Donor   32   m  46.9  ...   8.84  5.20   86.0   33.2  79.3\n",
              "3             4  0=Blood Donor   32   m  43.2  ...   7.33  4.74   80.0   33.8  75.7\n",
              "4             5  0=Blood Donor   32   m  39.2  ...   9.15  4.32   76.0   29.9  68.7\n",
              "..          ...            ...  ...  ..   ...  ...    ...   ...    ...    ...   ...\n",
              "610         611    3=Cirrhosis   62   f  32.0  ...   5.57  6.30   55.7  650.9  68.5\n",
              "611         612    3=Cirrhosis   64   f  24.0  ...   1.54  3.02   63.0   35.9  71.3\n",
              "612         613    3=Cirrhosis   64   f  29.0  ...   1.66  3.63   66.7   64.2  82.0\n",
              "613         614    3=Cirrhosis   46   f  33.0  ...   3.56  4.20   52.0   50.0  71.0\n",
              "614         615    3=Cirrhosis   59   f  36.0  ...   9.07  5.30   67.0   34.0  68.0\n",
              "\n",
              "[615 rows x 14 columns]"
            ]
          },
          "metadata": {
            "tags": []
          },
          "execution_count": 8
        }
      ]
    },
    {
      "cell_type": "markdown",
      "metadata": {
        "id": "qH-K8LQM8m4S"
      },
      "source": [
        "Podemos notar que a base é composta por 13 atributos previsores e a classe. Precisamos, antes de tudo, remover a coluna **Unnamed: 0** que trata do índice das instâncias, o que não é relevante para o processamento do nosso modelo. Para isso, vamos utilizar o método `pop`"
      ]
    },
    {
      "cell_type": "code",
      "metadata": {
        "colab": {
          "base_uri": "https://localhost:8080/"
        },
        "id": "Y-OX6boWAc8H",
        "outputId": "4ec1888e-0c84-4809-deb0-6df62e691a89"
      },
      "source": [
        "hcv_dataset.pop('Unnamed: 0')"
      ],
      "execution_count": null,
      "outputs": [
        {
          "output_type": "execute_result",
          "data": {
            "text/plain": [
              "0        1\n",
              "1        2\n",
              "2        3\n",
              "3        4\n",
              "4        5\n",
              "      ... \n",
              "610    611\n",
              "611    612\n",
              "612    613\n",
              "613    614\n",
              "614    615\n",
              "Name: Unnamed: 0, Length: 615, dtype: int64"
            ]
          },
          "metadata": {
            "tags": []
          },
          "execution_count": 3
        }
      ]
    },
    {
      "cell_type": "markdown",
      "metadata": {
        "id": "Tto5BWfb8m4T"
      },
      "source": [
        "Agora, vamos verificar se há alguma ocorrência de valores nulos"
      ]
    },
    {
      "cell_type": "code",
      "metadata": {
        "colab": {
          "base_uri": "https://localhost:8080/"
        },
        "id": "k-53xBcn8m4T",
        "outputId": "3f205a8b-233a-4ac9-f0af-7bb6eeb9fc9d"
      },
      "source": [
        "# Verificação de valores nulos\n",
        "pd.isnull(hcv_dataset).sum()"
      ],
      "execution_count": null,
      "outputs": [
        {
          "output_type": "execute_result",
          "data": {
            "text/plain": [
              "Category     0\n",
              "Age          0\n",
              "Sex          0\n",
              "ALB          1\n",
              "ALP         18\n",
              "ALT          1\n",
              "AST          0\n",
              "BIL          0\n",
              "CHE          0\n",
              "CHOL        10\n",
              "CREA         0\n",
              "GGT          0\n",
              "PROT         1\n",
              "dtype: int64"
            ]
          },
          "metadata": {
            "tags": []
          },
          "execution_count": 4
        }
      ]
    },
    {
      "cell_type": "markdown",
      "metadata": {
        "id": "wCRfBhDL8m4T"
      },
      "source": [
        "Podemos notar que a base possui valores nulos em sua composição. Em seguida, vamos remover as instâncias que possuem atributos nulos"
      ]
    },
    {
      "cell_type": "code",
      "metadata": {
        "colab": {
          "base_uri": "https://localhost:8080/"
        },
        "id": "Hzch010GCevJ",
        "outputId": "592c8e51-3412-4666-c042-2e8fd830cec6"
      },
      "source": [
        "# Retirando instâncias com valores nulos em alguma coluna\n",
        "hcv_dataset = hcv_dataset.dropna(axis = 0)\n",
        "pd.isnull(hcv_dataset).sum()"
      ],
      "execution_count": null,
      "outputs": [
        {
          "output_type": "execute_result",
          "data": {
            "text/plain": [
              "Category    0\n",
              "Age         0\n",
              "Sex         0\n",
              "ALB         0\n",
              "ALP         0\n",
              "ALT         0\n",
              "AST         0\n",
              "BIL         0\n",
              "CHE         0\n",
              "CHOL        0\n",
              "CREA        0\n",
              "GGT         0\n",
              "PROT        0\n",
              "dtype: int64"
            ]
          },
          "metadata": {
            "tags": []
          },
          "execution_count": 5
        }
      ]
    },
    {
      "cell_type": "markdown",
      "metadata": {
        "id": "i6_bEeo5DF7M"
      },
      "source": [
        "Visualizando novamente a base de dados"
      ]
    },
    {
      "cell_type": "code",
      "metadata": {
        "colab": {
          "base_uri": "https://localhost:8080/",
          "height": 419
        },
        "id": "Q6WN63a0DFIz",
        "outputId": "4886f505-709f-4726-f61e-7c328686fa25"
      },
      "source": [
        "hcv_dataset"
      ],
      "execution_count": null,
      "outputs": [
        {
          "output_type": "execute_result",
          "data": {
            "text/html": [
              "<div>\n",
              "<style scoped>\n",
              "    .dataframe tbody tr th:only-of-type {\n",
              "        vertical-align: middle;\n",
              "    }\n",
              "\n",
              "    .dataframe tbody tr th {\n",
              "        vertical-align: top;\n",
              "    }\n",
              "\n",
              "    .dataframe thead th {\n",
              "        text-align: right;\n",
              "    }\n",
              "</style>\n",
              "<table border=\"1\" class=\"dataframe\">\n",
              "  <thead>\n",
              "    <tr style=\"text-align: right;\">\n",
              "      <th></th>\n",
              "      <th>Category</th>\n",
              "      <th>Age</th>\n",
              "      <th>Sex</th>\n",
              "      <th>ALB</th>\n",
              "      <th>ALP</th>\n",
              "      <th>ALT</th>\n",
              "      <th>AST</th>\n",
              "      <th>BIL</th>\n",
              "      <th>CHE</th>\n",
              "      <th>CHOL</th>\n",
              "      <th>CREA</th>\n",
              "      <th>GGT</th>\n",
              "      <th>PROT</th>\n",
              "    </tr>\n",
              "  </thead>\n",
              "  <tbody>\n",
              "    <tr>\n",
              "      <th>0</th>\n",
              "      <td>0=Blood Donor</td>\n",
              "      <td>32</td>\n",
              "      <td>m</td>\n",
              "      <td>38.5</td>\n",
              "      <td>52.5</td>\n",
              "      <td>7.7</td>\n",
              "      <td>22.1</td>\n",
              "      <td>7.5</td>\n",
              "      <td>6.93</td>\n",
              "      <td>3.23</td>\n",
              "      <td>106.0</td>\n",
              "      <td>12.1</td>\n",
              "      <td>69.0</td>\n",
              "    </tr>\n",
              "    <tr>\n",
              "      <th>1</th>\n",
              "      <td>0=Blood Donor</td>\n",
              "      <td>32</td>\n",
              "      <td>m</td>\n",
              "      <td>38.5</td>\n",
              "      <td>70.3</td>\n",
              "      <td>18.0</td>\n",
              "      <td>24.7</td>\n",
              "      <td>3.9</td>\n",
              "      <td>11.17</td>\n",
              "      <td>4.80</td>\n",
              "      <td>74.0</td>\n",
              "      <td>15.6</td>\n",
              "      <td>76.5</td>\n",
              "    </tr>\n",
              "    <tr>\n",
              "      <th>2</th>\n",
              "      <td>0=Blood Donor</td>\n",
              "      <td>32</td>\n",
              "      <td>m</td>\n",
              "      <td>46.9</td>\n",
              "      <td>74.7</td>\n",
              "      <td>36.2</td>\n",
              "      <td>52.6</td>\n",
              "      <td>6.1</td>\n",
              "      <td>8.84</td>\n",
              "      <td>5.20</td>\n",
              "      <td>86.0</td>\n",
              "      <td>33.2</td>\n",
              "      <td>79.3</td>\n",
              "    </tr>\n",
              "    <tr>\n",
              "      <th>3</th>\n",
              "      <td>0=Blood Donor</td>\n",
              "      <td>32</td>\n",
              "      <td>m</td>\n",
              "      <td>43.2</td>\n",
              "      <td>52.0</td>\n",
              "      <td>30.6</td>\n",
              "      <td>22.6</td>\n",
              "      <td>18.9</td>\n",
              "      <td>7.33</td>\n",
              "      <td>4.74</td>\n",
              "      <td>80.0</td>\n",
              "      <td>33.8</td>\n",
              "      <td>75.7</td>\n",
              "    </tr>\n",
              "    <tr>\n",
              "      <th>4</th>\n",
              "      <td>0=Blood Donor</td>\n",
              "      <td>32</td>\n",
              "      <td>m</td>\n",
              "      <td>39.2</td>\n",
              "      <td>74.1</td>\n",
              "      <td>32.6</td>\n",
              "      <td>24.8</td>\n",
              "      <td>9.6</td>\n",
              "      <td>9.15</td>\n",
              "      <td>4.32</td>\n",
              "      <td>76.0</td>\n",
              "      <td>29.9</td>\n",
              "      <td>68.7</td>\n",
              "    </tr>\n",
              "    <tr>\n",
              "      <th>...</th>\n",
              "      <td>...</td>\n",
              "      <td>...</td>\n",
              "      <td>...</td>\n",
              "      <td>...</td>\n",
              "      <td>...</td>\n",
              "      <td>...</td>\n",
              "      <td>...</td>\n",
              "      <td>...</td>\n",
              "      <td>...</td>\n",
              "      <td>...</td>\n",
              "      <td>...</td>\n",
              "      <td>...</td>\n",
              "      <td>...</td>\n",
              "    </tr>\n",
              "    <tr>\n",
              "      <th>608</th>\n",
              "      <td>3=Cirrhosis</td>\n",
              "      <td>58</td>\n",
              "      <td>f</td>\n",
              "      <td>34.0</td>\n",
              "      <td>46.4</td>\n",
              "      <td>15.0</td>\n",
              "      <td>150.0</td>\n",
              "      <td>8.0</td>\n",
              "      <td>6.26</td>\n",
              "      <td>3.98</td>\n",
              "      <td>56.0</td>\n",
              "      <td>49.7</td>\n",
              "      <td>80.6</td>\n",
              "    </tr>\n",
              "    <tr>\n",
              "      <th>609</th>\n",
              "      <td>3=Cirrhosis</td>\n",
              "      <td>59</td>\n",
              "      <td>f</td>\n",
              "      <td>39.0</td>\n",
              "      <td>51.3</td>\n",
              "      <td>19.6</td>\n",
              "      <td>285.8</td>\n",
              "      <td>40.0</td>\n",
              "      <td>5.77</td>\n",
              "      <td>4.51</td>\n",
              "      <td>136.1</td>\n",
              "      <td>101.1</td>\n",
              "      <td>70.5</td>\n",
              "    </tr>\n",
              "    <tr>\n",
              "      <th>610</th>\n",
              "      <td>3=Cirrhosis</td>\n",
              "      <td>62</td>\n",
              "      <td>f</td>\n",
              "      <td>32.0</td>\n",
              "      <td>416.6</td>\n",
              "      <td>5.9</td>\n",
              "      <td>110.3</td>\n",
              "      <td>50.0</td>\n",
              "      <td>5.57</td>\n",
              "      <td>6.30</td>\n",
              "      <td>55.7</td>\n",
              "      <td>650.9</td>\n",
              "      <td>68.5</td>\n",
              "    </tr>\n",
              "    <tr>\n",
              "      <th>611</th>\n",
              "      <td>3=Cirrhosis</td>\n",
              "      <td>64</td>\n",
              "      <td>f</td>\n",
              "      <td>24.0</td>\n",
              "      <td>102.8</td>\n",
              "      <td>2.9</td>\n",
              "      <td>44.4</td>\n",
              "      <td>20.0</td>\n",
              "      <td>1.54</td>\n",
              "      <td>3.02</td>\n",
              "      <td>63.0</td>\n",
              "      <td>35.9</td>\n",
              "      <td>71.3</td>\n",
              "    </tr>\n",
              "    <tr>\n",
              "      <th>612</th>\n",
              "      <td>3=Cirrhosis</td>\n",
              "      <td>64</td>\n",
              "      <td>f</td>\n",
              "      <td>29.0</td>\n",
              "      <td>87.3</td>\n",
              "      <td>3.5</td>\n",
              "      <td>99.0</td>\n",
              "      <td>48.0</td>\n",
              "      <td>1.66</td>\n",
              "      <td>3.63</td>\n",
              "      <td>66.7</td>\n",
              "      <td>64.2</td>\n",
              "      <td>82.0</td>\n",
              "    </tr>\n",
              "  </tbody>\n",
              "</table>\n",
              "<p>589 rows × 13 columns</p>\n",
              "</div>"
            ],
            "text/plain": [
              "          Category  Age Sex   ALB    ALP  ...    CHE  CHOL   CREA    GGT  PROT\n",
              "0    0=Blood Donor   32   m  38.5   52.5  ...   6.93  3.23  106.0   12.1  69.0\n",
              "1    0=Blood Donor   32   m  38.5   70.3  ...  11.17  4.80   74.0   15.6  76.5\n",
              "2    0=Blood Donor   32   m  46.9   74.7  ...   8.84  5.20   86.0   33.2  79.3\n",
              "3    0=Blood Donor   32   m  43.2   52.0  ...   7.33  4.74   80.0   33.8  75.7\n",
              "4    0=Blood Donor   32   m  39.2   74.1  ...   9.15  4.32   76.0   29.9  68.7\n",
              "..             ...  ...  ..   ...    ...  ...    ...   ...    ...    ...   ...\n",
              "608    3=Cirrhosis   58   f  34.0   46.4  ...   6.26  3.98   56.0   49.7  80.6\n",
              "609    3=Cirrhosis   59   f  39.0   51.3  ...   5.77  4.51  136.1  101.1  70.5\n",
              "610    3=Cirrhosis   62   f  32.0  416.6  ...   5.57  6.30   55.7  650.9  68.5\n",
              "611    3=Cirrhosis   64   f  24.0  102.8  ...   1.54  3.02   63.0   35.9  71.3\n",
              "612    3=Cirrhosis   64   f  29.0   87.3  ...   1.66  3.63   66.7   64.2  82.0\n",
              "\n",
              "[589 rows x 13 columns]"
            ]
          },
          "metadata": {
            "tags": []
          },
          "execution_count": 6
        }
      ]
    },
    {
      "cell_type": "markdown",
      "metadata": {
        "id": "D7ru3cv3DUPF"
      },
      "source": [
        "Podemos notar que houve uma redução no número de instâncias: de 615 para 589, isto é, 26 instâncias com algum atributo nulo foram removidas"
      ]
    },
    {
      "cell_type": "markdown",
      "metadata": {
        "id": "LdVx1_---B2y"
      },
      "source": [
        "Vamos retirar as instâncias correspondentes à **0s=suspect Blood Donor** e atribuir à uma nova variável, uma vez que as mesmas serão usadas para validar o nosso modelo"
      ]
    },
    {
      "cell_type": "code",
      "metadata": {
        "colab": {
          "base_uri": "https://localhost:8080/",
          "height": 266
        },
        "id": "r5rw0TSM-BfQ",
        "outputId": "82219755-6e19-49ed-db32-65d6804803a5"
      },
      "source": [
        "hcv_dataset_suspect = hcv_dataset\n",
        "hcv_dataset_suspect = hcv_dataset[hcv_dataset['Category'] == '0s=suspect Blood Donor']\n",
        "hcv_dataset = hcv_dataset[hcv_dataset['Category'] != '0s=suspect Blood Donor']\n",
        "hcv_dataset_suspect"
      ],
      "execution_count": null,
      "outputs": [
        {
          "output_type": "execute_result",
          "data": {
            "text/html": [
              "<div>\n",
              "<style scoped>\n",
              "    .dataframe tbody tr th:only-of-type {\n",
              "        vertical-align: middle;\n",
              "    }\n",
              "\n",
              "    .dataframe tbody tr th {\n",
              "        vertical-align: top;\n",
              "    }\n",
              "\n",
              "    .dataframe thead th {\n",
              "        text-align: right;\n",
              "    }\n",
              "</style>\n",
              "<table border=\"1\" class=\"dataframe\">\n",
              "  <thead>\n",
              "    <tr style=\"text-align: right;\">\n",
              "      <th></th>\n",
              "      <th>Category</th>\n",
              "      <th>Age</th>\n",
              "      <th>Sex</th>\n",
              "      <th>ALB</th>\n",
              "      <th>ALP</th>\n",
              "      <th>ALT</th>\n",
              "      <th>AST</th>\n",
              "      <th>BIL</th>\n",
              "      <th>CHE</th>\n",
              "      <th>CHOL</th>\n",
              "      <th>CREA</th>\n",
              "      <th>GGT</th>\n",
              "      <th>PROT</th>\n",
              "    </tr>\n",
              "  </thead>\n",
              "  <tbody>\n",
              "    <tr>\n",
              "      <th>533</th>\n",
              "      <td>0s=suspect Blood Donor</td>\n",
              "      <td>47</td>\n",
              "      <td>m</td>\n",
              "      <td>22.5</td>\n",
              "      <td>124.0</td>\n",
              "      <td>79.5</td>\n",
              "      <td>46.7</td>\n",
              "      <td>2.3</td>\n",
              "      <td>6.83</td>\n",
              "      <td>4.30</td>\n",
              "      <td>170.0</td>\n",
              "      <td>345.6</td>\n",
              "      <td>58.6</td>\n",
              "    </tr>\n",
              "    <tr>\n",
              "      <th>534</th>\n",
              "      <td>0s=suspect Blood Donor</td>\n",
              "      <td>48</td>\n",
              "      <td>m</td>\n",
              "      <td>24.9</td>\n",
              "      <td>116.9</td>\n",
              "      <td>49.2</td>\n",
              "      <td>24.3</td>\n",
              "      <td>4.9</td>\n",
              "      <td>3.44</td>\n",
              "      <td>5.25</td>\n",
              "      <td>29.0</td>\n",
              "      <td>83.0</td>\n",
              "      <td>47.8</td>\n",
              "    </tr>\n",
              "    <tr>\n",
              "      <th>535</th>\n",
              "      <td>0s=suspect Blood Donor</td>\n",
              "      <td>49</td>\n",
              "      <td>m</td>\n",
              "      <td>21.6</td>\n",
              "      <td>42.2</td>\n",
              "      <td>9.5</td>\n",
              "      <td>10.6</td>\n",
              "      <td>2.4</td>\n",
              "      <td>3.75</td>\n",
              "      <td>3.01</td>\n",
              "      <td>64.0</td>\n",
              "      <td>38.9</td>\n",
              "      <td>44.8</td>\n",
              "    </tr>\n",
              "    <tr>\n",
              "      <th>536</th>\n",
              "      <td>0s=suspect Blood Donor</td>\n",
              "      <td>55</td>\n",
              "      <td>m</td>\n",
              "      <td>47.3</td>\n",
              "      <td>106.0</td>\n",
              "      <td>208.8</td>\n",
              "      <td>130.6</td>\n",
              "      <td>0.8</td>\n",
              "      <td>14.80</td>\n",
              "      <td>8.08</td>\n",
              "      <td>76.0</td>\n",
              "      <td>71.6</td>\n",
              "      <td>78.3</td>\n",
              "    </tr>\n",
              "    <tr>\n",
              "      <th>537</th>\n",
              "      <td>0s=suspect Blood Donor</td>\n",
              "      <td>71</td>\n",
              "      <td>m</td>\n",
              "      <td>14.9</td>\n",
              "      <td>69.8</td>\n",
              "      <td>19.7</td>\n",
              "      <td>95.2</td>\n",
              "      <td>9.8</td>\n",
              "      <td>13.30</td>\n",
              "      <td>2.61</td>\n",
              "      <td>9.0</td>\n",
              "      <td>7.6</td>\n",
              "      <td>47.0</td>\n",
              "    </tr>\n",
              "    <tr>\n",
              "      <th>538</th>\n",
              "      <td>0s=suspect Blood Donor</td>\n",
              "      <td>74</td>\n",
              "      <td>m</td>\n",
              "      <td>20.3</td>\n",
              "      <td>84.0</td>\n",
              "      <td>22.8</td>\n",
              "      <td>43.0</td>\n",
              "      <td>5.7</td>\n",
              "      <td>4.91</td>\n",
              "      <td>3.19</td>\n",
              "      <td>52.0</td>\n",
              "      <td>218.3</td>\n",
              "      <td>47.8</td>\n",
              "    </tr>\n",
              "    <tr>\n",
              "      <th>539</th>\n",
              "      <td>0s=suspect Blood Donor</td>\n",
              "      <td>59</td>\n",
              "      <td>f</td>\n",
              "      <td>19.3</td>\n",
              "      <td>208.2</td>\n",
              "      <td>325.3</td>\n",
              "      <td>146.6</td>\n",
              "      <td>6.9</td>\n",
              "      <td>5.33</td>\n",
              "      <td>4.72</td>\n",
              "      <td>32.0</td>\n",
              "      <td>295.6</td>\n",
              "      <td>53.1</td>\n",
              "    </tr>\n",
              "  </tbody>\n",
              "</table>\n",
              "</div>"
            ],
            "text/plain": [
              "                   Category  Age Sex   ALB  ...  CHOL   CREA    GGT  PROT\n",
              "533  0s=suspect Blood Donor   47   m  22.5  ...  4.30  170.0  345.6  58.6\n",
              "534  0s=suspect Blood Donor   48   m  24.9  ...  5.25   29.0   83.0  47.8\n",
              "535  0s=suspect Blood Donor   49   m  21.6  ...  3.01   64.0   38.9  44.8\n",
              "536  0s=suspect Blood Donor   55   m  47.3  ...  8.08   76.0   71.6  78.3\n",
              "537  0s=suspect Blood Donor   71   m  14.9  ...  2.61    9.0    7.6  47.0\n",
              "538  0s=suspect Blood Donor   74   m  20.3  ...  3.19   52.0  218.3  47.8\n",
              "539  0s=suspect Blood Donor   59   f  19.3  ...  4.72   32.0  295.6  53.1\n",
              "\n",
              "[7 rows x 13 columns]"
            ]
          },
          "metadata": {
            "tags": []
          },
          "execution_count": 7
        }
      ]
    },
    {
      "cell_type": "code",
      "metadata": {
        "colab": {
          "base_uri": "https://localhost:8080/",
          "height": 419
        },
        "id": "ngY0Q2RtQQCb",
        "outputId": "a850436e-0ae2-424a-fbc9-8e92a497c95c"
      },
      "source": [
        "hcv_dataset"
      ],
      "execution_count": null,
      "outputs": [
        {
          "output_type": "execute_result",
          "data": {
            "text/html": [
              "<div>\n",
              "<style scoped>\n",
              "    .dataframe tbody tr th:only-of-type {\n",
              "        vertical-align: middle;\n",
              "    }\n",
              "\n",
              "    .dataframe tbody tr th {\n",
              "        vertical-align: top;\n",
              "    }\n",
              "\n",
              "    .dataframe thead th {\n",
              "        text-align: right;\n",
              "    }\n",
              "</style>\n",
              "<table border=\"1\" class=\"dataframe\">\n",
              "  <thead>\n",
              "    <tr style=\"text-align: right;\">\n",
              "      <th></th>\n",
              "      <th>Category</th>\n",
              "      <th>Age</th>\n",
              "      <th>Sex</th>\n",
              "      <th>ALB</th>\n",
              "      <th>ALP</th>\n",
              "      <th>ALT</th>\n",
              "      <th>AST</th>\n",
              "      <th>BIL</th>\n",
              "      <th>CHE</th>\n",
              "      <th>CHOL</th>\n",
              "      <th>CREA</th>\n",
              "      <th>GGT</th>\n",
              "      <th>PROT</th>\n",
              "    </tr>\n",
              "  </thead>\n",
              "  <tbody>\n",
              "    <tr>\n",
              "      <th>0</th>\n",
              "      <td>0=Blood Donor</td>\n",
              "      <td>32</td>\n",
              "      <td>m</td>\n",
              "      <td>38.5</td>\n",
              "      <td>52.5</td>\n",
              "      <td>7.7</td>\n",
              "      <td>22.1</td>\n",
              "      <td>7.5</td>\n",
              "      <td>6.93</td>\n",
              "      <td>3.23</td>\n",
              "      <td>106.0</td>\n",
              "      <td>12.1</td>\n",
              "      <td>69.0</td>\n",
              "    </tr>\n",
              "    <tr>\n",
              "      <th>1</th>\n",
              "      <td>0=Blood Donor</td>\n",
              "      <td>32</td>\n",
              "      <td>m</td>\n",
              "      <td>38.5</td>\n",
              "      <td>70.3</td>\n",
              "      <td>18.0</td>\n",
              "      <td>24.7</td>\n",
              "      <td>3.9</td>\n",
              "      <td>11.17</td>\n",
              "      <td>4.80</td>\n",
              "      <td>74.0</td>\n",
              "      <td>15.6</td>\n",
              "      <td>76.5</td>\n",
              "    </tr>\n",
              "    <tr>\n",
              "      <th>2</th>\n",
              "      <td>0=Blood Donor</td>\n",
              "      <td>32</td>\n",
              "      <td>m</td>\n",
              "      <td>46.9</td>\n",
              "      <td>74.7</td>\n",
              "      <td>36.2</td>\n",
              "      <td>52.6</td>\n",
              "      <td>6.1</td>\n",
              "      <td>8.84</td>\n",
              "      <td>5.20</td>\n",
              "      <td>86.0</td>\n",
              "      <td>33.2</td>\n",
              "      <td>79.3</td>\n",
              "    </tr>\n",
              "    <tr>\n",
              "      <th>3</th>\n",
              "      <td>0=Blood Donor</td>\n",
              "      <td>32</td>\n",
              "      <td>m</td>\n",
              "      <td>43.2</td>\n",
              "      <td>52.0</td>\n",
              "      <td>30.6</td>\n",
              "      <td>22.6</td>\n",
              "      <td>18.9</td>\n",
              "      <td>7.33</td>\n",
              "      <td>4.74</td>\n",
              "      <td>80.0</td>\n",
              "      <td>33.8</td>\n",
              "      <td>75.7</td>\n",
              "    </tr>\n",
              "    <tr>\n",
              "      <th>4</th>\n",
              "      <td>0=Blood Donor</td>\n",
              "      <td>32</td>\n",
              "      <td>m</td>\n",
              "      <td>39.2</td>\n",
              "      <td>74.1</td>\n",
              "      <td>32.6</td>\n",
              "      <td>24.8</td>\n",
              "      <td>9.6</td>\n",
              "      <td>9.15</td>\n",
              "      <td>4.32</td>\n",
              "      <td>76.0</td>\n",
              "      <td>29.9</td>\n",
              "      <td>68.7</td>\n",
              "    </tr>\n",
              "    <tr>\n",
              "      <th>...</th>\n",
              "      <td>...</td>\n",
              "      <td>...</td>\n",
              "      <td>...</td>\n",
              "      <td>...</td>\n",
              "      <td>...</td>\n",
              "      <td>...</td>\n",
              "      <td>...</td>\n",
              "      <td>...</td>\n",
              "      <td>...</td>\n",
              "      <td>...</td>\n",
              "      <td>...</td>\n",
              "      <td>...</td>\n",
              "      <td>...</td>\n",
              "    </tr>\n",
              "    <tr>\n",
              "      <th>608</th>\n",
              "      <td>3=Cirrhosis</td>\n",
              "      <td>58</td>\n",
              "      <td>f</td>\n",
              "      <td>34.0</td>\n",
              "      <td>46.4</td>\n",
              "      <td>15.0</td>\n",
              "      <td>150.0</td>\n",
              "      <td>8.0</td>\n",
              "      <td>6.26</td>\n",
              "      <td>3.98</td>\n",
              "      <td>56.0</td>\n",
              "      <td>49.7</td>\n",
              "      <td>80.6</td>\n",
              "    </tr>\n",
              "    <tr>\n",
              "      <th>609</th>\n",
              "      <td>3=Cirrhosis</td>\n",
              "      <td>59</td>\n",
              "      <td>f</td>\n",
              "      <td>39.0</td>\n",
              "      <td>51.3</td>\n",
              "      <td>19.6</td>\n",
              "      <td>285.8</td>\n",
              "      <td>40.0</td>\n",
              "      <td>5.77</td>\n",
              "      <td>4.51</td>\n",
              "      <td>136.1</td>\n",
              "      <td>101.1</td>\n",
              "      <td>70.5</td>\n",
              "    </tr>\n",
              "    <tr>\n",
              "      <th>610</th>\n",
              "      <td>3=Cirrhosis</td>\n",
              "      <td>62</td>\n",
              "      <td>f</td>\n",
              "      <td>32.0</td>\n",
              "      <td>416.6</td>\n",
              "      <td>5.9</td>\n",
              "      <td>110.3</td>\n",
              "      <td>50.0</td>\n",
              "      <td>5.57</td>\n",
              "      <td>6.30</td>\n",
              "      <td>55.7</td>\n",
              "      <td>650.9</td>\n",
              "      <td>68.5</td>\n",
              "    </tr>\n",
              "    <tr>\n",
              "      <th>611</th>\n",
              "      <td>3=Cirrhosis</td>\n",
              "      <td>64</td>\n",
              "      <td>f</td>\n",
              "      <td>24.0</td>\n",
              "      <td>102.8</td>\n",
              "      <td>2.9</td>\n",
              "      <td>44.4</td>\n",
              "      <td>20.0</td>\n",
              "      <td>1.54</td>\n",
              "      <td>3.02</td>\n",
              "      <td>63.0</td>\n",
              "      <td>35.9</td>\n",
              "      <td>71.3</td>\n",
              "    </tr>\n",
              "    <tr>\n",
              "      <th>612</th>\n",
              "      <td>3=Cirrhosis</td>\n",
              "      <td>64</td>\n",
              "      <td>f</td>\n",
              "      <td>29.0</td>\n",
              "      <td>87.3</td>\n",
              "      <td>3.5</td>\n",
              "      <td>99.0</td>\n",
              "      <td>48.0</td>\n",
              "      <td>1.66</td>\n",
              "      <td>3.63</td>\n",
              "      <td>66.7</td>\n",
              "      <td>64.2</td>\n",
              "      <td>82.0</td>\n",
              "    </tr>\n",
              "  </tbody>\n",
              "</table>\n",
              "<p>582 rows × 13 columns</p>\n",
              "</div>"
            ],
            "text/plain": [
              "          Category  Age Sex   ALB    ALP  ...    CHE  CHOL   CREA    GGT  PROT\n",
              "0    0=Blood Donor   32   m  38.5   52.5  ...   6.93  3.23  106.0   12.1  69.0\n",
              "1    0=Blood Donor   32   m  38.5   70.3  ...  11.17  4.80   74.0   15.6  76.5\n",
              "2    0=Blood Donor   32   m  46.9   74.7  ...   8.84  5.20   86.0   33.2  79.3\n",
              "3    0=Blood Donor   32   m  43.2   52.0  ...   7.33  4.74   80.0   33.8  75.7\n",
              "4    0=Blood Donor   32   m  39.2   74.1  ...   9.15  4.32   76.0   29.9  68.7\n",
              "..             ...  ...  ..   ...    ...  ...    ...   ...    ...    ...   ...\n",
              "608    3=Cirrhosis   58   f  34.0   46.4  ...   6.26  3.98   56.0   49.7  80.6\n",
              "609    3=Cirrhosis   59   f  39.0   51.3  ...   5.77  4.51  136.1  101.1  70.5\n",
              "610    3=Cirrhosis   62   f  32.0  416.6  ...   5.57  6.30   55.7  650.9  68.5\n",
              "611    3=Cirrhosis   64   f  24.0  102.8  ...   1.54  3.02   63.0   35.9  71.3\n",
              "612    3=Cirrhosis   64   f  29.0   87.3  ...   1.66  3.63   66.7   64.2  82.0\n",
              "\n",
              "[582 rows x 13 columns]"
            ]
          },
          "metadata": {
            "tags": []
          },
          "execution_count": 8
        }
      ]
    },
    {
      "cell_type": "markdown",
      "metadata": {
        "id": "cfq3TfEbooit"
      },
      "source": [
        "Precisamos, agora, atribuir \"Não doador\" para as instâncias **1=Hepatitis**, **2=Fibrosis** e **3=Cirrhosis**, e atribuir \"Doador\" para a instância **0=Blood Donor**. Para facilitar, vamos atribuir 0 para \"Não doador\" e 1 para \"Doador\""
      ]
    },
    {
      "cell_type": "markdown",
      "metadata": {
        "id": "SB6_oqYcAmUr"
      },
      "source": [
        "Agora, iremos converter os atributos categóricas **Category** e **Sex** em numéricos. Para isso, usaremos a função `LabelEncoder`"
      ]
    },
    {
      "cell_type": "code",
      "metadata": {
        "id": "Nl0i85EsBdqC"
      },
      "source": [
        "from sklearn.preprocessing import LabelEncoder"
      ],
      "execution_count": null,
      "outputs": []
    },
    {
      "cell_type": "markdown",
      "metadata": {
        "id": "TQxgdCVqBgwS"
      },
      "source": [
        "Convertendo os atributos categóricos em numéricos"
      ]
    },
    {
      "cell_type": "code",
      "metadata": {
        "colab": {
          "base_uri": "https://localhost:8080/",
          "height": 623
        },
        "id": "a-FZ88VbBluj",
        "outputId": "89bd91f1-5539-46b9-e20a-1b3b45226882"
      },
      "source": [
        "to_number = LabelEncoder()\n",
        "# Transformando os dados categorizados da coluna 'Category' e 'Sex' em dados numéricos\n",
        "hcv_dataset['Category'] = to_number.fit_transform(hcv_dataset['Category'] == '0=Blood Donor')\n",
        "hcv_dataset['Sex'] = to_number.fit_transform(hcv_dataset['Sex'])\n",
        "hcv_dataset"
      ],
      "execution_count": null,
      "outputs": [
        {
          "output_type": "stream",
          "text": [
            "/usr/local/lib/python3.6/dist-packages/ipykernel_launcher.py:3: SettingWithCopyWarning: \n",
            "A value is trying to be set on a copy of a slice from a DataFrame.\n",
            "Try using .loc[row_indexer,col_indexer] = value instead\n",
            "\n",
            "See the caveats in the documentation: https://pandas.pydata.org/pandas-docs/stable/user_guide/indexing.html#returning-a-view-versus-a-copy\n",
            "  This is separate from the ipykernel package so we can avoid doing imports until\n",
            "/usr/local/lib/python3.6/dist-packages/ipykernel_launcher.py:4: SettingWithCopyWarning: \n",
            "A value is trying to be set on a copy of a slice from a DataFrame.\n",
            "Try using .loc[row_indexer,col_indexer] = value instead\n",
            "\n",
            "See the caveats in the documentation: https://pandas.pydata.org/pandas-docs/stable/user_guide/indexing.html#returning-a-view-versus-a-copy\n",
            "  after removing the cwd from sys.path.\n"
          ],
          "name": "stderr"
        },
        {
          "output_type": "execute_result",
          "data": {
            "text/html": [
              "<div>\n",
              "<style scoped>\n",
              "    .dataframe tbody tr th:only-of-type {\n",
              "        vertical-align: middle;\n",
              "    }\n",
              "\n",
              "    .dataframe tbody tr th {\n",
              "        vertical-align: top;\n",
              "    }\n",
              "\n",
              "    .dataframe thead th {\n",
              "        text-align: right;\n",
              "    }\n",
              "</style>\n",
              "<table border=\"1\" class=\"dataframe\">\n",
              "  <thead>\n",
              "    <tr style=\"text-align: right;\">\n",
              "      <th></th>\n",
              "      <th>Category</th>\n",
              "      <th>Age</th>\n",
              "      <th>Sex</th>\n",
              "      <th>ALB</th>\n",
              "      <th>ALP</th>\n",
              "      <th>ALT</th>\n",
              "      <th>AST</th>\n",
              "      <th>BIL</th>\n",
              "      <th>CHE</th>\n",
              "      <th>CHOL</th>\n",
              "      <th>CREA</th>\n",
              "      <th>GGT</th>\n",
              "      <th>PROT</th>\n",
              "    </tr>\n",
              "  </thead>\n",
              "  <tbody>\n",
              "    <tr>\n",
              "      <th>0</th>\n",
              "      <td>1</td>\n",
              "      <td>32</td>\n",
              "      <td>1</td>\n",
              "      <td>38.5</td>\n",
              "      <td>52.5</td>\n",
              "      <td>7.7</td>\n",
              "      <td>22.1</td>\n",
              "      <td>7.5</td>\n",
              "      <td>6.93</td>\n",
              "      <td>3.23</td>\n",
              "      <td>106.0</td>\n",
              "      <td>12.1</td>\n",
              "      <td>69.0</td>\n",
              "    </tr>\n",
              "    <tr>\n",
              "      <th>1</th>\n",
              "      <td>1</td>\n",
              "      <td>32</td>\n",
              "      <td>1</td>\n",
              "      <td>38.5</td>\n",
              "      <td>70.3</td>\n",
              "      <td>18.0</td>\n",
              "      <td>24.7</td>\n",
              "      <td>3.9</td>\n",
              "      <td>11.17</td>\n",
              "      <td>4.80</td>\n",
              "      <td>74.0</td>\n",
              "      <td>15.6</td>\n",
              "      <td>76.5</td>\n",
              "    </tr>\n",
              "    <tr>\n",
              "      <th>2</th>\n",
              "      <td>1</td>\n",
              "      <td>32</td>\n",
              "      <td>1</td>\n",
              "      <td>46.9</td>\n",
              "      <td>74.7</td>\n",
              "      <td>36.2</td>\n",
              "      <td>52.6</td>\n",
              "      <td>6.1</td>\n",
              "      <td>8.84</td>\n",
              "      <td>5.20</td>\n",
              "      <td>86.0</td>\n",
              "      <td>33.2</td>\n",
              "      <td>79.3</td>\n",
              "    </tr>\n",
              "    <tr>\n",
              "      <th>3</th>\n",
              "      <td>1</td>\n",
              "      <td>32</td>\n",
              "      <td>1</td>\n",
              "      <td>43.2</td>\n",
              "      <td>52.0</td>\n",
              "      <td>30.6</td>\n",
              "      <td>22.6</td>\n",
              "      <td>18.9</td>\n",
              "      <td>7.33</td>\n",
              "      <td>4.74</td>\n",
              "      <td>80.0</td>\n",
              "      <td>33.8</td>\n",
              "      <td>75.7</td>\n",
              "    </tr>\n",
              "    <tr>\n",
              "      <th>4</th>\n",
              "      <td>1</td>\n",
              "      <td>32</td>\n",
              "      <td>1</td>\n",
              "      <td>39.2</td>\n",
              "      <td>74.1</td>\n",
              "      <td>32.6</td>\n",
              "      <td>24.8</td>\n",
              "      <td>9.6</td>\n",
              "      <td>9.15</td>\n",
              "      <td>4.32</td>\n",
              "      <td>76.0</td>\n",
              "      <td>29.9</td>\n",
              "      <td>68.7</td>\n",
              "    </tr>\n",
              "    <tr>\n",
              "      <th>...</th>\n",
              "      <td>...</td>\n",
              "      <td>...</td>\n",
              "      <td>...</td>\n",
              "      <td>...</td>\n",
              "      <td>...</td>\n",
              "      <td>...</td>\n",
              "      <td>...</td>\n",
              "      <td>...</td>\n",
              "      <td>...</td>\n",
              "      <td>...</td>\n",
              "      <td>...</td>\n",
              "      <td>...</td>\n",
              "      <td>...</td>\n",
              "    </tr>\n",
              "    <tr>\n",
              "      <th>608</th>\n",
              "      <td>0</td>\n",
              "      <td>58</td>\n",
              "      <td>0</td>\n",
              "      <td>34.0</td>\n",
              "      <td>46.4</td>\n",
              "      <td>15.0</td>\n",
              "      <td>150.0</td>\n",
              "      <td>8.0</td>\n",
              "      <td>6.26</td>\n",
              "      <td>3.98</td>\n",
              "      <td>56.0</td>\n",
              "      <td>49.7</td>\n",
              "      <td>80.6</td>\n",
              "    </tr>\n",
              "    <tr>\n",
              "      <th>609</th>\n",
              "      <td>0</td>\n",
              "      <td>59</td>\n",
              "      <td>0</td>\n",
              "      <td>39.0</td>\n",
              "      <td>51.3</td>\n",
              "      <td>19.6</td>\n",
              "      <td>285.8</td>\n",
              "      <td>40.0</td>\n",
              "      <td>5.77</td>\n",
              "      <td>4.51</td>\n",
              "      <td>136.1</td>\n",
              "      <td>101.1</td>\n",
              "      <td>70.5</td>\n",
              "    </tr>\n",
              "    <tr>\n",
              "      <th>610</th>\n",
              "      <td>0</td>\n",
              "      <td>62</td>\n",
              "      <td>0</td>\n",
              "      <td>32.0</td>\n",
              "      <td>416.6</td>\n",
              "      <td>5.9</td>\n",
              "      <td>110.3</td>\n",
              "      <td>50.0</td>\n",
              "      <td>5.57</td>\n",
              "      <td>6.30</td>\n",
              "      <td>55.7</td>\n",
              "      <td>650.9</td>\n",
              "      <td>68.5</td>\n",
              "    </tr>\n",
              "    <tr>\n",
              "      <th>611</th>\n",
              "      <td>0</td>\n",
              "      <td>64</td>\n",
              "      <td>0</td>\n",
              "      <td>24.0</td>\n",
              "      <td>102.8</td>\n",
              "      <td>2.9</td>\n",
              "      <td>44.4</td>\n",
              "      <td>20.0</td>\n",
              "      <td>1.54</td>\n",
              "      <td>3.02</td>\n",
              "      <td>63.0</td>\n",
              "      <td>35.9</td>\n",
              "      <td>71.3</td>\n",
              "    </tr>\n",
              "    <tr>\n",
              "      <th>612</th>\n",
              "      <td>0</td>\n",
              "      <td>64</td>\n",
              "      <td>0</td>\n",
              "      <td>29.0</td>\n",
              "      <td>87.3</td>\n",
              "      <td>3.5</td>\n",
              "      <td>99.0</td>\n",
              "      <td>48.0</td>\n",
              "      <td>1.66</td>\n",
              "      <td>3.63</td>\n",
              "      <td>66.7</td>\n",
              "      <td>64.2</td>\n",
              "      <td>82.0</td>\n",
              "    </tr>\n",
              "  </tbody>\n",
              "</table>\n",
              "<p>582 rows × 13 columns</p>\n",
              "</div>"
            ],
            "text/plain": [
              "     Category  Age  Sex   ALB    ALP  ...    CHE  CHOL   CREA    GGT  PROT\n",
              "0           1   32    1  38.5   52.5  ...   6.93  3.23  106.0   12.1  69.0\n",
              "1           1   32    1  38.5   70.3  ...  11.17  4.80   74.0   15.6  76.5\n",
              "2           1   32    1  46.9   74.7  ...   8.84  5.20   86.0   33.2  79.3\n",
              "3           1   32    1  43.2   52.0  ...   7.33  4.74   80.0   33.8  75.7\n",
              "4           1   32    1  39.2   74.1  ...   9.15  4.32   76.0   29.9  68.7\n",
              "..        ...  ...  ...   ...    ...  ...    ...   ...    ...    ...   ...\n",
              "608         0   58    0  34.0   46.4  ...   6.26  3.98   56.0   49.7  80.6\n",
              "609         0   59    0  39.0   51.3  ...   5.77  4.51  136.1  101.1  70.5\n",
              "610         0   62    0  32.0  416.6  ...   5.57  6.30   55.7  650.9  68.5\n",
              "611         0   64    0  24.0  102.8  ...   1.54  3.02   63.0   35.9  71.3\n",
              "612         0   64    0  29.0   87.3  ...   1.66  3.63   66.7   64.2  82.0\n",
              "\n",
              "[582 rows x 13 columns]"
            ]
          },
          "metadata": {
            "tags": []
          },
          "execution_count": 10
        }
      ]
    },
    {
      "cell_type": "markdown",
      "metadata": {
        "id": "hVBio48jHivY"
      },
      "source": [
        "Pronto! Agora, podemos notar que as instâncias com **Category** 0 correspondem aos não doadores e as instâncias com **Category** 1 correspondem aos doadores. Vamos verificar o balanceamento entre as classes"
      ]
    },
    {
      "cell_type": "code",
      "metadata": {
        "colab": {
          "base_uri": "https://localhost:8080/",
          "height": 142
        },
        "id": "zImcXw-HGp9G",
        "outputId": "44e4e808-88f8-4a27-d351-33f4d37ad937"
      },
      "source": [
        "hcv_dataset.groupby('Category').count()"
      ],
      "execution_count": null,
      "outputs": [
        {
          "output_type": "execute_result",
          "data": {
            "text/html": [
              "<div>\n",
              "<style scoped>\n",
              "    .dataframe tbody tr th:only-of-type {\n",
              "        vertical-align: middle;\n",
              "    }\n",
              "\n",
              "    .dataframe tbody tr th {\n",
              "        vertical-align: top;\n",
              "    }\n",
              "\n",
              "    .dataframe thead th {\n",
              "        text-align: right;\n",
              "    }\n",
              "</style>\n",
              "<table border=\"1\" class=\"dataframe\">\n",
              "  <thead>\n",
              "    <tr style=\"text-align: right;\">\n",
              "      <th></th>\n",
              "      <th>Age</th>\n",
              "      <th>Sex</th>\n",
              "      <th>ALB</th>\n",
              "      <th>ALP</th>\n",
              "      <th>ALT</th>\n",
              "      <th>AST</th>\n",
              "      <th>BIL</th>\n",
              "      <th>CHE</th>\n",
              "      <th>CHOL</th>\n",
              "      <th>CREA</th>\n",
              "      <th>GGT</th>\n",
              "      <th>PROT</th>\n",
              "    </tr>\n",
              "    <tr>\n",
              "      <th>Category</th>\n",
              "      <th></th>\n",
              "      <th></th>\n",
              "      <th></th>\n",
              "      <th></th>\n",
              "      <th></th>\n",
              "      <th></th>\n",
              "      <th></th>\n",
              "      <th></th>\n",
              "      <th></th>\n",
              "      <th></th>\n",
              "      <th></th>\n",
              "      <th></th>\n",
              "    </tr>\n",
              "  </thead>\n",
              "  <tbody>\n",
              "    <tr>\n",
              "      <th>0</th>\n",
              "      <td>56</td>\n",
              "      <td>56</td>\n",
              "      <td>56</td>\n",
              "      <td>56</td>\n",
              "      <td>56</td>\n",
              "      <td>56</td>\n",
              "      <td>56</td>\n",
              "      <td>56</td>\n",
              "      <td>56</td>\n",
              "      <td>56</td>\n",
              "      <td>56</td>\n",
              "      <td>56</td>\n",
              "    </tr>\n",
              "    <tr>\n",
              "      <th>1</th>\n",
              "      <td>526</td>\n",
              "      <td>526</td>\n",
              "      <td>526</td>\n",
              "      <td>526</td>\n",
              "      <td>526</td>\n",
              "      <td>526</td>\n",
              "      <td>526</td>\n",
              "      <td>526</td>\n",
              "      <td>526</td>\n",
              "      <td>526</td>\n",
              "      <td>526</td>\n",
              "      <td>526</td>\n",
              "    </tr>\n",
              "  </tbody>\n",
              "</table>\n",
              "</div>"
            ],
            "text/plain": [
              "          Age  Sex  ALB  ALP  ALT  AST  BIL  CHE  CHOL  CREA  GGT  PROT\n",
              "Category                                                               \n",
              "0          56   56   56   56   56   56   56   56    56    56   56    56\n",
              "1         526  526  526  526  526  526  526  526   526   526  526   526"
            ]
          },
          "metadata": {
            "tags": []
          },
          "execution_count": 11
        }
      ]
    },
    {
      "cell_type": "markdown",
      "metadata": {
        "id": "jMVoOQmOH9l2"
      },
      "source": [
        "Podemos notar que a classe _doador_ possui um número de instâncias muito maior do que a classe _não doador_. Nesse caso, precisamos reduzir as instâncias _doador_, até que tenhamos um equilíbrio entre as classes"
      ]
    },
    {
      "cell_type": "code",
      "metadata": {
        "colab": {
          "base_uri": "https://localhost:8080/",
          "height": 419
        },
        "id": "-c99AAPqPsQE",
        "outputId": "f0965f6f-3f6e-4755-cd0a-24efe71d4974"
      },
      "source": [
        "hcv_dataset.head(470)"
      ],
      "execution_count": null,
      "outputs": [
        {
          "output_type": "execute_result",
          "data": {
            "text/html": [
              "<div>\n",
              "<style scoped>\n",
              "    .dataframe tbody tr th:only-of-type {\n",
              "        vertical-align: middle;\n",
              "    }\n",
              "\n",
              "    .dataframe tbody tr th {\n",
              "        vertical-align: top;\n",
              "    }\n",
              "\n",
              "    .dataframe thead th {\n",
              "        text-align: right;\n",
              "    }\n",
              "</style>\n",
              "<table border=\"1\" class=\"dataframe\">\n",
              "  <thead>\n",
              "    <tr style=\"text-align: right;\">\n",
              "      <th></th>\n",
              "      <th>Category</th>\n",
              "      <th>Age</th>\n",
              "      <th>Sex</th>\n",
              "      <th>ALB</th>\n",
              "      <th>ALP</th>\n",
              "      <th>ALT</th>\n",
              "      <th>AST</th>\n",
              "      <th>BIL</th>\n",
              "      <th>CHE</th>\n",
              "      <th>CHOL</th>\n",
              "      <th>CREA</th>\n",
              "      <th>GGT</th>\n",
              "      <th>PROT</th>\n",
              "    </tr>\n",
              "  </thead>\n",
              "  <tbody>\n",
              "    <tr>\n",
              "      <th>0</th>\n",
              "      <td>1</td>\n",
              "      <td>32</td>\n",
              "      <td>1</td>\n",
              "      <td>38.5</td>\n",
              "      <td>52.5</td>\n",
              "      <td>7.7</td>\n",
              "      <td>22.1</td>\n",
              "      <td>7.5</td>\n",
              "      <td>6.93</td>\n",
              "      <td>3.23</td>\n",
              "      <td>106.0</td>\n",
              "      <td>12.1</td>\n",
              "      <td>69.0</td>\n",
              "    </tr>\n",
              "    <tr>\n",
              "      <th>1</th>\n",
              "      <td>1</td>\n",
              "      <td>32</td>\n",
              "      <td>1</td>\n",
              "      <td>38.5</td>\n",
              "      <td>70.3</td>\n",
              "      <td>18.0</td>\n",
              "      <td>24.7</td>\n",
              "      <td>3.9</td>\n",
              "      <td>11.17</td>\n",
              "      <td>4.80</td>\n",
              "      <td>74.0</td>\n",
              "      <td>15.6</td>\n",
              "      <td>76.5</td>\n",
              "    </tr>\n",
              "    <tr>\n",
              "      <th>2</th>\n",
              "      <td>1</td>\n",
              "      <td>32</td>\n",
              "      <td>1</td>\n",
              "      <td>46.9</td>\n",
              "      <td>74.7</td>\n",
              "      <td>36.2</td>\n",
              "      <td>52.6</td>\n",
              "      <td>6.1</td>\n",
              "      <td>8.84</td>\n",
              "      <td>5.20</td>\n",
              "      <td>86.0</td>\n",
              "      <td>33.2</td>\n",
              "      <td>79.3</td>\n",
              "    </tr>\n",
              "    <tr>\n",
              "      <th>3</th>\n",
              "      <td>1</td>\n",
              "      <td>32</td>\n",
              "      <td>1</td>\n",
              "      <td>43.2</td>\n",
              "      <td>52.0</td>\n",
              "      <td>30.6</td>\n",
              "      <td>22.6</td>\n",
              "      <td>18.9</td>\n",
              "      <td>7.33</td>\n",
              "      <td>4.74</td>\n",
              "      <td>80.0</td>\n",
              "      <td>33.8</td>\n",
              "      <td>75.7</td>\n",
              "    </tr>\n",
              "    <tr>\n",
              "      <th>4</th>\n",
              "      <td>1</td>\n",
              "      <td>32</td>\n",
              "      <td>1</td>\n",
              "      <td>39.2</td>\n",
              "      <td>74.1</td>\n",
              "      <td>32.6</td>\n",
              "      <td>24.8</td>\n",
              "      <td>9.6</td>\n",
              "      <td>9.15</td>\n",
              "      <td>4.32</td>\n",
              "      <td>76.0</td>\n",
              "      <td>29.9</td>\n",
              "      <td>68.7</td>\n",
              "    </tr>\n",
              "    <tr>\n",
              "      <th>...</th>\n",
              "      <td>...</td>\n",
              "      <td>...</td>\n",
              "      <td>...</td>\n",
              "      <td>...</td>\n",
              "      <td>...</td>\n",
              "      <td>...</td>\n",
              "      <td>...</td>\n",
              "      <td>...</td>\n",
              "      <td>...</td>\n",
              "      <td>...</td>\n",
              "      <td>...</td>\n",
              "      <td>...</td>\n",
              "      <td>...</td>\n",
              "    </tr>\n",
              "    <tr>\n",
              "      <th>471</th>\n",
              "      <td>1</td>\n",
              "      <td>52</td>\n",
              "      <td>0</td>\n",
              "      <td>41.3</td>\n",
              "      <td>77.4</td>\n",
              "      <td>16.6</td>\n",
              "      <td>22.2</td>\n",
              "      <td>5.0</td>\n",
              "      <td>7.57</td>\n",
              "      <td>7.80</td>\n",
              "      <td>66.0</td>\n",
              "      <td>10.8</td>\n",
              "      <td>70.0</td>\n",
              "    </tr>\n",
              "    <tr>\n",
              "      <th>472</th>\n",
              "      <td>1</td>\n",
              "      <td>52</td>\n",
              "      <td>0</td>\n",
              "      <td>38.2</td>\n",
              "      <td>70.3</td>\n",
              "      <td>19.5</td>\n",
              "      <td>17.5</td>\n",
              "      <td>2.7</td>\n",
              "      <td>10.02</td>\n",
              "      <td>6.17</td>\n",
              "      <td>65.0</td>\n",
              "      <td>35.5</td>\n",
              "      <td>71.1</td>\n",
              "    </tr>\n",
              "    <tr>\n",
              "      <th>473</th>\n",
              "      <td>1</td>\n",
              "      <td>53</td>\n",
              "      <td>0</td>\n",
              "      <td>42.4</td>\n",
              "      <td>55.0</td>\n",
              "      <td>20.9</td>\n",
              "      <td>42.4</td>\n",
              "      <td>7.7</td>\n",
              "      <td>6.60</td>\n",
              "      <td>4.26</td>\n",
              "      <td>67.0</td>\n",
              "      <td>14.2</td>\n",
              "      <td>70.9</td>\n",
              "    </tr>\n",
              "    <tr>\n",
              "      <th>474</th>\n",
              "      <td>1</td>\n",
              "      <td>53</td>\n",
              "      <td>0</td>\n",
              "      <td>39.0</td>\n",
              "      <td>76.0</td>\n",
              "      <td>25.9</td>\n",
              "      <td>20.7</td>\n",
              "      <td>2.8</td>\n",
              "      <td>11.11</td>\n",
              "      <td>6.38</td>\n",
              "      <td>66.0</td>\n",
              "      <td>50.1</td>\n",
              "      <td>70.8</td>\n",
              "    </tr>\n",
              "    <tr>\n",
              "      <th>475</th>\n",
              "      <td>1</td>\n",
              "      <td>53</td>\n",
              "      <td>0</td>\n",
              "      <td>40.1</td>\n",
              "      <td>84.6</td>\n",
              "      <td>23.0</td>\n",
              "      <td>22.1</td>\n",
              "      <td>7.1</td>\n",
              "      <td>8.40</td>\n",
              "      <td>5.16</td>\n",
              "      <td>70.0</td>\n",
              "      <td>82.6</td>\n",
              "      <td>74.6</td>\n",
              "    </tr>\n",
              "  </tbody>\n",
              "</table>\n",
              "<p>470 rows × 13 columns</p>\n",
              "</div>"
            ],
            "text/plain": [
              "     Category  Age  Sex   ALB   ALP   ALT  ...   BIL    CHE  CHOL   CREA   GGT  PROT\n",
              "0           1   32    1  38.5  52.5   7.7  ...   7.5   6.93  3.23  106.0  12.1  69.0\n",
              "1           1   32    1  38.5  70.3  18.0  ...   3.9  11.17  4.80   74.0  15.6  76.5\n",
              "2           1   32    1  46.9  74.7  36.2  ...   6.1   8.84  5.20   86.0  33.2  79.3\n",
              "3           1   32    1  43.2  52.0  30.6  ...  18.9   7.33  4.74   80.0  33.8  75.7\n",
              "4           1   32    1  39.2  74.1  32.6  ...   9.6   9.15  4.32   76.0  29.9  68.7\n",
              "..        ...  ...  ...   ...   ...   ...  ...   ...    ...   ...    ...   ...   ...\n",
              "471         1   52    0  41.3  77.4  16.6  ...   5.0   7.57  7.80   66.0  10.8  70.0\n",
              "472         1   52    0  38.2  70.3  19.5  ...   2.7  10.02  6.17   65.0  35.5  71.1\n",
              "473         1   53    0  42.4  55.0  20.9  ...   7.7   6.60  4.26   67.0  14.2  70.9\n",
              "474         1   53    0  39.0  76.0  25.9  ...   2.8  11.11  6.38   66.0  50.1  70.8\n",
              "475         1   53    0  40.1  84.6  23.0  ...   7.1   8.40  5.16   70.0  82.6  74.6\n",
              "\n",
              "[470 rows x 13 columns]"
            ]
          },
          "metadata": {
            "tags": []
          },
          "execution_count": 12
        }
      ]
    },
    {
      "cell_type": "markdown",
      "metadata": {
        "id": "VhJdr53POVeb"
      },
      "source": [
        "Retirando as primeiras 470 instâncias da classe _doador_"
      ]
    },
    {
      "cell_type": "code",
      "metadata": {
        "colab": {
          "base_uri": "https://localhost:8080/",
          "height": 504
        },
        "id": "m37kiGtFIVYN",
        "outputId": "a473bc0a-33ac-4df0-d260-e4cfce3050ac"
      },
      "source": [
        "hcv_dataset.drop(hcv_dataset.head(470).index, inplace = True) \n",
        "hcv_dataset"
      ],
      "execution_count": null,
      "outputs": [
        {
          "output_type": "stream",
          "text": [
            "/usr/local/lib/python3.6/dist-packages/pandas/core/frame.py:4174: SettingWithCopyWarning: \n",
            "A value is trying to be set on a copy of a slice from a DataFrame\n",
            "\n",
            "See the caveats in the documentation: https://pandas.pydata.org/pandas-docs/stable/user_guide/indexing.html#returning-a-view-versus-a-copy\n",
            "  errors=errors,\n"
          ],
          "name": "stderr"
        },
        {
          "output_type": "execute_result",
          "data": {
            "text/html": [
              "<div>\n",
              "<style scoped>\n",
              "    .dataframe tbody tr th:only-of-type {\n",
              "        vertical-align: middle;\n",
              "    }\n",
              "\n",
              "    .dataframe tbody tr th {\n",
              "        vertical-align: top;\n",
              "    }\n",
              "\n",
              "    .dataframe thead th {\n",
              "        text-align: right;\n",
              "    }\n",
              "</style>\n",
              "<table border=\"1\" class=\"dataframe\">\n",
              "  <thead>\n",
              "    <tr style=\"text-align: right;\">\n",
              "      <th></th>\n",
              "      <th>Category</th>\n",
              "      <th>Age</th>\n",
              "      <th>Sex</th>\n",
              "      <th>ALB</th>\n",
              "      <th>ALP</th>\n",
              "      <th>ALT</th>\n",
              "      <th>AST</th>\n",
              "      <th>BIL</th>\n",
              "      <th>CHE</th>\n",
              "      <th>CHOL</th>\n",
              "      <th>CREA</th>\n",
              "      <th>GGT</th>\n",
              "      <th>PROT</th>\n",
              "    </tr>\n",
              "  </thead>\n",
              "  <tbody>\n",
              "    <tr>\n",
              "      <th>476</th>\n",
              "      <td>1</td>\n",
              "      <td>53</td>\n",
              "      <td>0</td>\n",
              "      <td>43.7</td>\n",
              "      <td>84.3</td>\n",
              "      <td>18.8</td>\n",
              "      <td>18.6</td>\n",
              "      <td>8.5</td>\n",
              "      <td>10.22</td>\n",
              "      <td>6.65</td>\n",
              "      <td>56.0</td>\n",
              "      <td>16.5</td>\n",
              "      <td>76.9</td>\n",
              "    </tr>\n",
              "    <tr>\n",
              "      <th>477</th>\n",
              "      <td>1</td>\n",
              "      <td>53</td>\n",
              "      <td>0</td>\n",
              "      <td>43.5</td>\n",
              "      <td>61.7</td>\n",
              "      <td>16.9</td>\n",
              "      <td>20.3</td>\n",
              "      <td>7.0</td>\n",
              "      <td>7.19</td>\n",
              "      <td>6.97</td>\n",
              "      <td>74.0</td>\n",
              "      <td>12.3</td>\n",
              "      <td>69.2</td>\n",
              "    </tr>\n",
              "    <tr>\n",
              "      <th>478</th>\n",
              "      <td>1</td>\n",
              "      <td>53</td>\n",
              "      <td>0</td>\n",
              "      <td>41.1</td>\n",
              "      <td>91.7</td>\n",
              "      <td>13.8</td>\n",
              "      <td>19.6</td>\n",
              "      <td>3.4</td>\n",
              "      <td>7.87</td>\n",
              "      <td>5.48</td>\n",
              "      <td>72.0</td>\n",
              "      <td>77.3</td>\n",
              "      <td>77.3</td>\n",
              "    </tr>\n",
              "    <tr>\n",
              "      <th>479</th>\n",
              "      <td>1</td>\n",
              "      <td>53</td>\n",
              "      <td>0</td>\n",
              "      <td>38.0</td>\n",
              "      <td>84.7</td>\n",
              "      <td>23.5</td>\n",
              "      <td>19.8</td>\n",
              "      <td>10.8</td>\n",
              "      <td>7.30</td>\n",
              "      <td>4.82</td>\n",
              "      <td>62.0</td>\n",
              "      <td>11.4</td>\n",
              "      <td>68.5</td>\n",
              "    </tr>\n",
              "    <tr>\n",
              "      <th>480</th>\n",
              "      <td>1</td>\n",
              "      <td>53</td>\n",
              "      <td>0</td>\n",
              "      <td>47.4</td>\n",
              "      <td>66.9</td>\n",
              "      <td>24.3</td>\n",
              "      <td>32.6</td>\n",
              "      <td>14.9</td>\n",
              "      <td>10.51</td>\n",
              "      <td>6.03</td>\n",
              "      <td>81.0</td>\n",
              "      <td>25.2</td>\n",
              "      <td>75.0</td>\n",
              "    </tr>\n",
              "    <tr>\n",
              "      <th>...</th>\n",
              "      <td>...</td>\n",
              "      <td>...</td>\n",
              "      <td>...</td>\n",
              "      <td>...</td>\n",
              "      <td>...</td>\n",
              "      <td>...</td>\n",
              "      <td>...</td>\n",
              "      <td>...</td>\n",
              "      <td>...</td>\n",
              "      <td>...</td>\n",
              "      <td>...</td>\n",
              "      <td>...</td>\n",
              "      <td>...</td>\n",
              "    </tr>\n",
              "    <tr>\n",
              "      <th>608</th>\n",
              "      <td>0</td>\n",
              "      <td>58</td>\n",
              "      <td>0</td>\n",
              "      <td>34.0</td>\n",
              "      <td>46.4</td>\n",
              "      <td>15.0</td>\n",
              "      <td>150.0</td>\n",
              "      <td>8.0</td>\n",
              "      <td>6.26</td>\n",
              "      <td>3.98</td>\n",
              "      <td>56.0</td>\n",
              "      <td>49.7</td>\n",
              "      <td>80.6</td>\n",
              "    </tr>\n",
              "    <tr>\n",
              "      <th>609</th>\n",
              "      <td>0</td>\n",
              "      <td>59</td>\n",
              "      <td>0</td>\n",
              "      <td>39.0</td>\n",
              "      <td>51.3</td>\n",
              "      <td>19.6</td>\n",
              "      <td>285.8</td>\n",
              "      <td>40.0</td>\n",
              "      <td>5.77</td>\n",
              "      <td>4.51</td>\n",
              "      <td>136.1</td>\n",
              "      <td>101.1</td>\n",
              "      <td>70.5</td>\n",
              "    </tr>\n",
              "    <tr>\n",
              "      <th>610</th>\n",
              "      <td>0</td>\n",
              "      <td>62</td>\n",
              "      <td>0</td>\n",
              "      <td>32.0</td>\n",
              "      <td>416.6</td>\n",
              "      <td>5.9</td>\n",
              "      <td>110.3</td>\n",
              "      <td>50.0</td>\n",
              "      <td>5.57</td>\n",
              "      <td>6.30</td>\n",
              "      <td>55.7</td>\n",
              "      <td>650.9</td>\n",
              "      <td>68.5</td>\n",
              "    </tr>\n",
              "    <tr>\n",
              "      <th>611</th>\n",
              "      <td>0</td>\n",
              "      <td>64</td>\n",
              "      <td>0</td>\n",
              "      <td>24.0</td>\n",
              "      <td>102.8</td>\n",
              "      <td>2.9</td>\n",
              "      <td>44.4</td>\n",
              "      <td>20.0</td>\n",
              "      <td>1.54</td>\n",
              "      <td>3.02</td>\n",
              "      <td>63.0</td>\n",
              "      <td>35.9</td>\n",
              "      <td>71.3</td>\n",
              "    </tr>\n",
              "    <tr>\n",
              "      <th>612</th>\n",
              "      <td>0</td>\n",
              "      <td>64</td>\n",
              "      <td>0</td>\n",
              "      <td>29.0</td>\n",
              "      <td>87.3</td>\n",
              "      <td>3.5</td>\n",
              "      <td>99.0</td>\n",
              "      <td>48.0</td>\n",
              "      <td>1.66</td>\n",
              "      <td>3.63</td>\n",
              "      <td>66.7</td>\n",
              "      <td>64.2</td>\n",
              "      <td>82.0</td>\n",
              "    </tr>\n",
              "  </tbody>\n",
              "</table>\n",
              "<p>112 rows × 13 columns</p>\n",
              "</div>"
            ],
            "text/plain": [
              "     Category  Age  Sex   ALB    ALP  ...    CHE  CHOL   CREA    GGT  PROT\n",
              "476         1   53    0  43.7   84.3  ...  10.22  6.65   56.0   16.5  76.9\n",
              "477         1   53    0  43.5   61.7  ...   7.19  6.97   74.0   12.3  69.2\n",
              "478         1   53    0  41.1   91.7  ...   7.87  5.48   72.0   77.3  77.3\n",
              "479         1   53    0  38.0   84.7  ...   7.30  4.82   62.0   11.4  68.5\n",
              "480         1   53    0  47.4   66.9  ...  10.51  6.03   81.0   25.2  75.0\n",
              "..        ...  ...  ...   ...    ...  ...    ...   ...    ...    ...   ...\n",
              "608         0   58    0  34.0   46.4  ...   6.26  3.98   56.0   49.7  80.6\n",
              "609         0   59    0  39.0   51.3  ...   5.77  4.51  136.1  101.1  70.5\n",
              "610         0   62    0  32.0  416.6  ...   5.57  6.30   55.7  650.9  68.5\n",
              "611         0   64    0  24.0  102.8  ...   1.54  3.02   63.0   35.9  71.3\n",
              "612         0   64    0  29.0   87.3  ...   1.66  3.63   66.7   64.2  82.0\n",
              "\n",
              "[112 rows x 13 columns]"
            ]
          },
          "metadata": {
            "tags": []
          },
          "execution_count": 13
        }
      ]
    },
    {
      "cell_type": "code",
      "metadata": {
        "colab": {
          "base_uri": "https://localhost:8080/",
          "height": 142
        },
        "id": "c4drpic7QZUJ",
        "outputId": "6995e8a1-dd93-455d-9814-6a09fd7ab337"
      },
      "source": [
        "hcv_dataset.groupby('Category').count()"
      ],
      "execution_count": null,
      "outputs": [
        {
          "output_type": "execute_result",
          "data": {
            "text/html": [
              "<div>\n",
              "<style scoped>\n",
              "    .dataframe tbody tr th:only-of-type {\n",
              "        vertical-align: middle;\n",
              "    }\n",
              "\n",
              "    .dataframe tbody tr th {\n",
              "        vertical-align: top;\n",
              "    }\n",
              "\n",
              "    .dataframe thead th {\n",
              "        text-align: right;\n",
              "    }\n",
              "</style>\n",
              "<table border=\"1\" class=\"dataframe\">\n",
              "  <thead>\n",
              "    <tr style=\"text-align: right;\">\n",
              "      <th></th>\n",
              "      <th>Age</th>\n",
              "      <th>Sex</th>\n",
              "      <th>ALB</th>\n",
              "      <th>ALP</th>\n",
              "      <th>ALT</th>\n",
              "      <th>AST</th>\n",
              "      <th>BIL</th>\n",
              "      <th>CHE</th>\n",
              "      <th>CHOL</th>\n",
              "      <th>CREA</th>\n",
              "      <th>GGT</th>\n",
              "      <th>PROT</th>\n",
              "    </tr>\n",
              "    <tr>\n",
              "      <th>Category</th>\n",
              "      <th></th>\n",
              "      <th></th>\n",
              "      <th></th>\n",
              "      <th></th>\n",
              "      <th></th>\n",
              "      <th></th>\n",
              "      <th></th>\n",
              "      <th></th>\n",
              "      <th></th>\n",
              "      <th></th>\n",
              "      <th></th>\n",
              "      <th></th>\n",
              "    </tr>\n",
              "  </thead>\n",
              "  <tbody>\n",
              "    <tr>\n",
              "      <th>0</th>\n",
              "      <td>56</td>\n",
              "      <td>56</td>\n",
              "      <td>56</td>\n",
              "      <td>56</td>\n",
              "      <td>56</td>\n",
              "      <td>56</td>\n",
              "      <td>56</td>\n",
              "      <td>56</td>\n",
              "      <td>56</td>\n",
              "      <td>56</td>\n",
              "      <td>56</td>\n",
              "      <td>56</td>\n",
              "    </tr>\n",
              "    <tr>\n",
              "      <th>1</th>\n",
              "      <td>56</td>\n",
              "      <td>56</td>\n",
              "      <td>56</td>\n",
              "      <td>56</td>\n",
              "      <td>56</td>\n",
              "      <td>56</td>\n",
              "      <td>56</td>\n",
              "      <td>56</td>\n",
              "      <td>56</td>\n",
              "      <td>56</td>\n",
              "      <td>56</td>\n",
              "      <td>56</td>\n",
              "    </tr>\n",
              "  </tbody>\n",
              "</table>\n",
              "</div>"
            ],
            "text/plain": [
              "          Age  Sex  ALB  ALP  ALT  AST  BIL  CHE  CHOL  CREA  GGT  PROT\n",
              "Category                                                               \n",
              "0          56   56   56   56   56   56   56   56    56    56   56    56\n",
              "1          56   56   56   56   56   56   56   56    56    56   56    56"
            ]
          },
          "metadata": {
            "tags": []
          },
          "execution_count": 14
        }
      ]
    },
    {
      "cell_type": "markdown",
      "metadata": {
        "id": "Tuzc1--78m4S"
      },
      "source": [
        "Verificando informações estatísticas (como valores máximo e mínimo, quartis, média e desvio padrão) sobre o dataset"
      ]
    },
    {
      "cell_type": "code",
      "metadata": {
        "colab": {
          "base_uri": "https://localhost:8080/",
          "height": 297
        },
        "id": "W7fVCxU78m4T",
        "outputId": "bbdbc0c7-5349-4158-a16e-ff84c2325362"
      },
      "source": [
        "hcv_dataset.describe()"
      ],
      "execution_count": null,
      "outputs": [
        {
          "output_type": "execute_result",
          "data": {
            "text/html": [
              "<div>\n",
              "<style scoped>\n",
              "    .dataframe tbody tr th:only-of-type {\n",
              "        vertical-align: middle;\n",
              "    }\n",
              "\n",
              "    .dataframe tbody tr th {\n",
              "        vertical-align: top;\n",
              "    }\n",
              "\n",
              "    .dataframe thead th {\n",
              "        text-align: right;\n",
              "    }\n",
              "</style>\n",
              "<table border=\"1\" class=\"dataframe\">\n",
              "  <thead>\n",
              "    <tr style=\"text-align: right;\">\n",
              "      <th></th>\n",
              "      <th>Category</th>\n",
              "      <th>Age</th>\n",
              "      <th>Sex</th>\n",
              "      <th>ALB</th>\n",
              "      <th>ALP</th>\n",
              "      <th>ALT</th>\n",
              "      <th>AST</th>\n",
              "      <th>BIL</th>\n",
              "      <th>CHE</th>\n",
              "      <th>CHOL</th>\n",
              "      <th>CREA</th>\n",
              "      <th>GGT</th>\n",
              "      <th>PROT</th>\n",
              "    </tr>\n",
              "  </thead>\n",
              "  <tbody>\n",
              "    <tr>\n",
              "      <th>count</th>\n",
              "      <td>112.000000</td>\n",
              "      <td>112.000000</td>\n",
              "      <td>112.000000</td>\n",
              "      <td>112.000000</td>\n",
              "      <td>112.000000</td>\n",
              "      <td>112.000000</td>\n",
              "      <td>112.000000</td>\n",
              "      <td>112.000000</td>\n",
              "      <td>112.000000</td>\n",
              "      <td>112.000000</td>\n",
              "      <td>112.000000</td>\n",
              "      <td>112.000000</td>\n",
              "      <td>112.000000</td>\n",
              "    </tr>\n",
              "    <tr>\n",
              "      <th>mean</th>\n",
              "      <td>0.500000</td>\n",
              "      <td>53.250000</td>\n",
              "      <td>0.357143</td>\n",
              "      <td>39.249107</td>\n",
              "      <td>68.005357</td>\n",
              "      <td>18.551786</td>\n",
              "      <td>61.181250</td>\n",
              "      <td>20.750000</td>\n",
              "      <td>7.431161</td>\n",
              "      <td>5.221786</td>\n",
              "      <td>86.893750</td>\n",
              "      <td>67.097321</td>\n",
              "      <td>71.141071</td>\n",
              "    </tr>\n",
              "    <tr>\n",
              "      <th>std</th>\n",
              "      <td>0.502247</td>\n",
              "      <td>10.029237</td>\n",
              "      <td>0.481311</td>\n",
              "      <td>6.349860</td>\n",
              "      <td>43.974798</td>\n",
              "      <td>12.659861</td>\n",
              "      <td>63.424673</td>\n",
              "      <td>36.273466</td>\n",
              "      <td>2.843921</td>\n",
              "      <td>1.342236</td>\n",
              "      <td>112.075263</td>\n",
              "      <td>100.135306</td>\n",
              "      <td>6.406606</td>\n",
              "    </tr>\n",
              "    <tr>\n",
              "      <th>min</th>\n",
              "      <td>0.000000</td>\n",
              "      <td>23.000000</td>\n",
              "      <td>0.000000</td>\n",
              "      <td>23.000000</td>\n",
              "      <td>11.300000</td>\n",
              "      <td>0.900000</td>\n",
              "      <td>12.200000</td>\n",
              "      <td>2.000000</td>\n",
              "      <td>1.420000</td>\n",
              "      <td>1.430000</td>\n",
              "      <td>40.000000</td>\n",
              "      <td>7.200000</td>\n",
              "      <td>51.000000</td>\n",
              "    </tr>\n",
              "    <tr>\n",
              "      <th>25%</th>\n",
              "      <td>0.000000</td>\n",
              "      <td>50.000000</td>\n",
              "      <td>0.000000</td>\n",
              "      <td>35.700000</td>\n",
              "      <td>40.250000</td>\n",
              "      <td>9.300000</td>\n",
              "      <td>22.625000</td>\n",
              "      <td>5.800000</td>\n",
              "      <td>6.312500</td>\n",
              "      <td>4.215000</td>\n",
              "      <td>61.000000</td>\n",
              "      <td>16.275000</td>\n",
              "      <td>68.500000</td>\n",
              "    </tr>\n",
              "    <tr>\n",
              "      <th>50%</th>\n",
              "      <td>0.500000</td>\n",
              "      <td>56.000000</td>\n",
              "      <td>0.000000</td>\n",
              "      <td>40.000000</td>\n",
              "      <td>64.450000</td>\n",
              "      <td>16.000000</td>\n",
              "      <td>32.200000</td>\n",
              "      <td>8.900000</td>\n",
              "      <td>7.525000</td>\n",
              "      <td>5.100000</td>\n",
              "      <td>66.950000</td>\n",
              "      <td>31.600000</td>\n",
              "      <td>71.400000</td>\n",
              "    </tr>\n",
              "    <tr>\n",
              "      <th>75%</th>\n",
              "      <td>1.000000</td>\n",
              "      <td>59.000000</td>\n",
              "      <td>1.000000</td>\n",
              "      <td>43.425000</td>\n",
              "      <td>84.400000</td>\n",
              "      <td>24.425000</td>\n",
              "      <td>75.175000</td>\n",
              "      <td>17.000000</td>\n",
              "      <td>9.260000</td>\n",
              "      <td>6.065000</td>\n",
              "      <td>74.325000</td>\n",
              "      <td>70.250000</td>\n",
              "      <td>75.250000</td>\n",
              "    </tr>\n",
              "    <tr>\n",
              "      <th>max</th>\n",
              "      <td>1.000000</td>\n",
              "      <td>74.000000</td>\n",
              "      <td>1.000000</td>\n",
              "      <td>52.400000</td>\n",
              "      <td>416.600000</td>\n",
              "      <td>67.100000</td>\n",
              "      <td>324.000000</td>\n",
              "      <td>209.000000</td>\n",
              "      <td>16.410000</td>\n",
              "      <td>9.670000</td>\n",
              "      <td>1079.100000</td>\n",
              "      <td>650.900000</td>\n",
              "      <td>86.000000</td>\n",
              "    </tr>\n",
              "  </tbody>\n",
              "</table>\n",
              "</div>"
            ],
            "text/plain": [
              "         Category         Age         Sex  ...         CREA         GGT        PROT\n",
              "count  112.000000  112.000000  112.000000  ...   112.000000  112.000000  112.000000\n",
              "mean     0.500000   53.250000    0.357143  ...    86.893750   67.097321   71.141071\n",
              "std      0.502247   10.029237    0.481311  ...   112.075263  100.135306    6.406606\n",
              "min      0.000000   23.000000    0.000000  ...    40.000000    7.200000   51.000000\n",
              "25%      0.000000   50.000000    0.000000  ...    61.000000   16.275000   68.500000\n",
              "50%      0.500000   56.000000    0.000000  ...    66.950000   31.600000   71.400000\n",
              "75%      1.000000   59.000000    1.000000  ...    74.325000   70.250000   75.250000\n",
              "max      1.000000   74.000000    1.000000  ...  1079.100000  650.900000   86.000000\n",
              "\n",
              "[8 rows x 13 columns]"
            ]
          },
          "metadata": {
            "tags": []
          },
          "execution_count": 15
        }
      ]
    },
    {
      "cell_type": "markdown",
      "metadata": {
        "id": "5lyDk5gJduyW"
      },
      "source": [
        "Podemos notar, dentre todos os atributos previsores, que a maioria possui média e desvio padrão muito distantes entre si, o que pode caracterizar a presença de _outliers_"
      ]
    },
    {
      "cell_type": "markdown",
      "metadata": {
        "id": "zQgiUGB9d_Rh"
      },
      "source": [
        "Vamos verificar a correlação entre os atributos, isto é, o quão eles estão relacionados"
      ]
    },
    {
      "cell_type": "code",
      "metadata": {
        "id": "UbIHFV32AAsj"
      },
      "source": [
        "import matplotlib.pyplot as plt\n",
        "import seaborn as sn"
      ],
      "execution_count": null,
      "outputs": []
    },
    {
      "cell_type": "code",
      "metadata": {
        "colab": {
          "base_uri": "https://localhost:8080/",
          "height": 693
        },
        "id": "cijFxcwceLRc",
        "outputId": "49bde91a-9bd3-4ee9-c49d-cdd3f76c2301"
      },
      "source": [
        "sn.set(style='ticks', color_codes=True)\n",
        "plt.figure(figsize=(14, 12))\n",
        "sn.heatmap(hcv_dataset.corr(), \n",
        "            linewidths=0.1, \n",
        "            square=True, \n",
        "            linecolor='white', \n",
        "            annot=True)\n",
        "plt.show()"
      ],
      "execution_count": null,
      "outputs": [
        {
          "output_type": "display_data",
          "data": {
            "image/png": "[encoded data removed]",
            "text/plain": [
              "<Figure size 1008x864 with 2 Axes>"
            ]
          },
          "metadata": {
            "tags": []
          }
        }
      ]
    },
    {
      "cell_type": "markdown",
      "metadata": {
        "id": "n8n3P9eUCfPn"
      },
      "source": [
        "Vamos verificar a ocorrência de possíveis _outliers_, isto é, dados que se distanciam drasticamente dos demais dados da amostra. Para isso, iremos plotar um _boxplot_"
      ]
    },
    {
      "cell_type": "code",
      "metadata": {
        "colab": {
          "base_uri": "https://localhost:8080/",
          "height": 282
        },
        "id": "djasYcyf8m4T",
        "outputId": "7f7a6a58-e42e-4ef8-db17-3ac24c3812ca"
      },
      "source": [
        "hcv_dataset.boxplot()"
      ],
      "execution_count": null,
      "outputs": [
        {
          "output_type": "execute_result",
          "data": {
            "text/plain": [
              "<matplotlib.axes._subplots.AxesSubplot at 0x7fd4f5942358>"
            ]
          },
          "metadata": {
            "tags": []
          },
          "execution_count": 17
        },
        {
          "output_type": "display_data",
          "data": {
            "image/png": "[encoded data removed]",
            "text/plain": [
              "<Figure size 432x288 with 1 Axes>"
            ]
          },
          "metadata": {
            "tags": [],
            "needs_background": "light"
          }
        }
      ]
    },
    {
      "cell_type": "markdown",
      "metadata": {
        "id": "BR-pi7J38m4T"
      },
      "source": [
        "Após uma verificação em toda a base de dados, foi constatado a existência de vários _outliers_ em vários atributos, o que pode comprometer os resultados obtidos através do modelo"
      ]
    },
    {
      "cell_type": "markdown",
      "metadata": {
        "id": "xOIt5dHO8m4T"
      },
      "source": [
        "Agora, iremos realizar a normalização dos atributos da base de dados, visando o contorno de possíveis problemas existentes pelos _outliers_. Vamos visualizar novamente o nosso dataset"
      ]
    },
    {
      "cell_type": "code",
      "metadata": {
        "colab": {
          "base_uri": "https://localhost:8080/",
          "height": 419
        },
        "id": "neYGpITa8m4T",
        "outputId": "4fb1954a-82e0-4bf9-979f-1e0b7256f84e"
      },
      "source": [
        "hcv_dataset"
      ],
      "execution_count": null,
      "outputs": [
        {
          "output_type": "execute_result",
          "data": {
            "text/html": [
              "<div>\n",
              "<style scoped>\n",
              "    .dataframe tbody tr th:only-of-type {\n",
              "        vertical-align: middle;\n",
              "    }\n",
              "\n",
              "    .dataframe tbody tr th {\n",
              "        vertical-align: top;\n",
              "    }\n",
              "\n",
              "    .dataframe thead th {\n",
              "        text-align: right;\n",
              "    }\n",
              "</style>\n",
              "<table border=\"1\" class=\"dataframe\">\n",
              "  <thead>\n",
              "    <tr style=\"text-align: right;\">\n",
              "      <th></th>\n",
              "      <th>Category</th>\n",
              "      <th>Age</th>\n",
              "      <th>Sex</th>\n",
              "      <th>ALB</th>\n",
              "      <th>ALP</th>\n",
              "      <th>ALT</th>\n",
              "      <th>AST</th>\n",
              "      <th>BIL</th>\n",
              "      <th>CHE</th>\n",
              "      <th>CHOL</th>\n",
              "      <th>CREA</th>\n",
              "      <th>GGT</th>\n",
              "      <th>PROT</th>\n",
              "    </tr>\n",
              "  </thead>\n",
              "  <tbody>\n",
              "    <tr>\n",
              "      <th>476</th>\n",
              "      <td>1</td>\n",
              "      <td>53</td>\n",
              "      <td>0</td>\n",
              "      <td>43.7</td>\n",
              "      <td>84.3</td>\n",
              "      <td>18.8</td>\n",
              "      <td>18.6</td>\n",
              "      <td>8.5</td>\n",
              "      <td>10.22</td>\n",
              "      <td>6.65</td>\n",
              "      <td>56.0</td>\n",
              "      <td>16.5</td>\n",
              "      <td>76.9</td>\n",
              "    </tr>\n",
              "    <tr>\n",
              "      <th>477</th>\n",
              "      <td>1</td>\n",
              "      <td>53</td>\n",
              "      <td>0</td>\n",
              "      <td>43.5</td>\n",
              "      <td>61.7</td>\n",
              "      <td>16.9</td>\n",
              "      <td>20.3</td>\n",
              "      <td>7.0</td>\n",
              "      <td>7.19</td>\n",
              "      <td>6.97</td>\n",
              "      <td>74.0</td>\n",
              "      <td>12.3</td>\n",
              "      <td>69.2</td>\n",
              "    </tr>\n",
              "    <tr>\n",
              "      <th>478</th>\n",
              "      <td>1</td>\n",
              "      <td>53</td>\n",
              "      <td>0</td>\n",
              "      <td>41.1</td>\n",
              "      <td>91.7</td>\n",
              "      <td>13.8</td>\n",
              "      <td>19.6</td>\n",
              "      <td>3.4</td>\n",
              "      <td>7.87</td>\n",
              "      <td>5.48</td>\n",
              "      <td>72.0</td>\n",
              "      <td>77.3</td>\n",
              "      <td>77.3</td>\n",
              "    </tr>\n",
              "    <tr>\n",
              "      <th>479</th>\n",
              "      <td>1</td>\n",
              "      <td>53</td>\n",
              "      <td>0</td>\n",
              "      <td>38.0</td>\n",
              "      <td>84.7</td>\n",
              "      <td>23.5</td>\n",
              "      <td>19.8</td>\n",
              "      <td>10.8</td>\n",
              "      <td>7.30</td>\n",
              "      <td>4.82</td>\n",
              "      <td>62.0</td>\n",
              "      <td>11.4</td>\n",
              "      <td>68.5</td>\n",
              "    </tr>\n",
              "    <tr>\n",
              "      <th>480</th>\n",
              "      <td>1</td>\n",
              "      <td>53</td>\n",
              "      <td>0</td>\n",
              "      <td>47.4</td>\n",
              "      <td>66.9</td>\n",
              "      <td>24.3</td>\n",
              "      <td>32.6</td>\n",
              "      <td>14.9</td>\n",
              "      <td>10.51</td>\n",
              "      <td>6.03</td>\n",
              "      <td>81.0</td>\n",
              "      <td>25.2</td>\n",
              "      <td>75.0</td>\n",
              "    </tr>\n",
              "    <tr>\n",
              "      <th>...</th>\n",
              "      <td>...</td>\n",
              "      <td>...</td>\n",
              "      <td>...</td>\n",
              "      <td>...</td>\n",
              "      <td>...</td>\n",
              "      <td>...</td>\n",
              "      <td>...</td>\n",
              "      <td>...</td>\n",
              "      <td>...</td>\n",
              "      <td>...</td>\n",
              "      <td>...</td>\n",
              "      <td>...</td>\n",
              "      <td>...</td>\n",
              "    </tr>\n",
              "    <tr>\n",
              "      <th>608</th>\n",
              "      <td>0</td>\n",
              "      <td>58</td>\n",
              "      <td>0</td>\n",
              "      <td>34.0</td>\n",
              "      <td>46.4</td>\n",
              "      <td>15.0</td>\n",
              "      <td>150.0</td>\n",
              "      <td>8.0</td>\n",
              "      <td>6.26</td>\n",
              "      <td>3.98</td>\n",
              "      <td>56.0</td>\n",
              "      <td>49.7</td>\n",
              "      <td>80.6</td>\n",
              "    </tr>\n",
              "    <tr>\n",
              "      <th>609</th>\n",
              "      <td>0</td>\n",
              "      <td>59</td>\n",
              "      <td>0</td>\n",
              "      <td>39.0</td>\n",
              "      <td>51.3</td>\n",
              "      <td>19.6</td>\n",
              "      <td>285.8</td>\n",
              "      <td>40.0</td>\n",
              "      <td>5.77</td>\n",
              "      <td>4.51</td>\n",
              "      <td>136.1</td>\n",
              "      <td>101.1</td>\n",
              "      <td>70.5</td>\n",
              "    </tr>\n",
              "    <tr>\n",
              "      <th>610</th>\n",
              "      <td>0</td>\n",
              "      <td>62</td>\n",
              "      <td>0</td>\n",
              "      <td>32.0</td>\n",
              "      <td>416.6</td>\n",
              "      <td>5.9</td>\n",
              "      <td>110.3</td>\n",
              "      <td>50.0</td>\n",
              "      <td>5.57</td>\n",
              "      <td>6.30</td>\n",
              "      <td>55.7</td>\n",
              "      <td>650.9</td>\n",
              "      <td>68.5</td>\n",
              "    </tr>\n",
              "    <tr>\n",
              "      <th>611</th>\n",
              "      <td>0</td>\n",
              "      <td>64</td>\n",
              "      <td>0</td>\n",
              "      <td>24.0</td>\n",
              "      <td>102.8</td>\n",
              "      <td>2.9</td>\n",
              "      <td>44.4</td>\n",
              "      <td>20.0</td>\n",
              "      <td>1.54</td>\n",
              "      <td>3.02</td>\n",
              "      <td>63.0</td>\n",
              "      <td>35.9</td>\n",
              "      <td>71.3</td>\n",
              "    </tr>\n",
              "    <tr>\n",
              "      <th>612</th>\n",
              "      <td>0</td>\n",
              "      <td>64</td>\n",
              "      <td>0</td>\n",
              "      <td>29.0</td>\n",
              "      <td>87.3</td>\n",
              "      <td>3.5</td>\n",
              "      <td>99.0</td>\n",
              "      <td>48.0</td>\n",
              "      <td>1.66</td>\n",
              "      <td>3.63</td>\n",
              "      <td>66.7</td>\n",
              "      <td>64.2</td>\n",
              "      <td>82.0</td>\n",
              "    </tr>\n",
              "  </tbody>\n",
              "</table>\n",
              "<p>112 rows × 13 columns</p>\n",
              "</div>"
            ],
            "text/plain": [
              "     Category  Age  Sex   ALB    ALP  ...    CHE  CHOL   CREA    GGT  PROT\n",
              "476         1   53    0  43.7   84.3  ...  10.22  6.65   56.0   16.5  76.9\n",
              "477         1   53    0  43.5   61.7  ...   7.19  6.97   74.0   12.3  69.2\n",
              "478         1   53    0  41.1   91.7  ...   7.87  5.48   72.0   77.3  77.3\n",
              "479         1   53    0  38.0   84.7  ...   7.30  4.82   62.0   11.4  68.5\n",
              "480         1   53    0  47.4   66.9  ...  10.51  6.03   81.0   25.2  75.0\n",
              "..        ...  ...  ...   ...    ...  ...    ...   ...    ...    ...   ...\n",
              "608         0   58    0  34.0   46.4  ...   6.26  3.98   56.0   49.7  80.6\n",
              "609         0   59    0  39.0   51.3  ...   5.77  4.51  136.1  101.1  70.5\n",
              "610         0   62    0  32.0  416.6  ...   5.57  6.30   55.7  650.9  68.5\n",
              "611         0   64    0  24.0  102.8  ...   1.54  3.02   63.0   35.9  71.3\n",
              "612         0   64    0  29.0   87.3  ...   1.66  3.63   66.7   64.2  82.0\n",
              "\n",
              "[112 rows x 13 columns]"
            ]
          },
          "metadata": {
            "tags": []
          },
          "execution_count": 18
        }
      ]
    },
    {
      "cell_type": "markdown",
      "metadata": {
        "id": "aFlccc1Q8m4T"
      },
      "source": [
        "Como os atributos estão em escalas bem próximas, vamos normalizar toda a base de dados"
      ]
    },
    {
      "cell_type": "markdown",
      "metadata": {
        "id": "OyiU9r4mfV9E"
      },
      "source": [
        "Vamos utilizar o método `StandardScaler`, que leva em consideração a média e o desvio padrão dos atributos"
      ]
    },
    {
      "cell_type": "code",
      "metadata": {
        "colab": {
          "base_uri": "https://localhost:8080/",
          "height": 419
        },
        "id": "Vwmk8KYC8m4T",
        "outputId": "5e488dbd-890b-4d07-f64c-7803a39f2fe4"
      },
      "source": [
        "# Armazenando os valores da média e do desvio padrão\n",
        "colunas_mean = hcv_dataset.mean()\n",
        "colunas_std = hcv_dataset.std()\n",
        "# Criação da base de dados normalizada\n",
        "hcv_dataset_norm = (hcv_dataset - colunas_mean) / colunas_std\n",
        "hcv_dataset_norm"
      ],
      "execution_count": null,
      "outputs": [
        {
          "output_type": "execute_result",
          "data": {
            "text/html": [
              "<div>\n",
              "<style scoped>\n",
              "    .dataframe tbody tr th:only-of-type {\n",
              "        vertical-align: middle;\n",
              "    }\n",
              "\n",
              "    .dataframe tbody tr th {\n",
              "        vertical-align: top;\n",
              "    }\n",
              "\n",
              "    .dataframe thead th {\n",
              "        text-align: right;\n",
              "    }\n",
              "</style>\n",
              "<table border=\"1\" class=\"dataframe\">\n",
              "  <thead>\n",
              "    <tr style=\"text-align: right;\">\n",
              "      <th></th>\n",
              "      <th>Category</th>\n",
              "      <th>Age</th>\n",
              "      <th>Sex</th>\n",
              "      <th>ALB</th>\n",
              "      <th>ALP</th>\n",
              "      <th>ALT</th>\n",
              "      <th>AST</th>\n",
              "      <th>BIL</th>\n",
              "      <th>CHE</th>\n",
              "      <th>CHOL</th>\n",
              "      <th>CREA</th>\n",
              "      <th>GGT</th>\n",
              "      <th>PROT</th>\n",
              "    </tr>\n",
              "  </thead>\n",
              "  <tbody>\n",
              "    <tr>\n",
              "      <th>476</th>\n",
              "      <td>0.995526</td>\n",
              "      <td>-0.024927</td>\n",
              "      <td>-0.742021</td>\n",
              "      <td>0.700943</td>\n",
              "      <td>0.370545</td>\n",
              "      <td>0.019606</td>\n",
              "      <td>-0.671367</td>\n",
              "      <td>-0.337712</td>\n",
              "      <td>0.980632</td>\n",
              "      <td>1.064056</td>\n",
              "      <td>-0.275652</td>\n",
              "      <td>-0.505290</td>\n",
              "      <td>0.898905</td>\n",
              "    </tr>\n",
              "    <tr>\n",
              "      <th>477</th>\n",
              "      <td>0.995526</td>\n",
              "      <td>-0.024927</td>\n",
              "      <td>-0.742021</td>\n",
              "      <td>0.669447</td>\n",
              "      <td>-0.143386</td>\n",
              "      <td>-0.130474</td>\n",
              "      <td>-0.644564</td>\n",
              "      <td>-0.379065</td>\n",
              "      <td>-0.084799</td>\n",
              "      <td>1.302464</td>\n",
              "      <td>-0.115045</td>\n",
              "      <td>-0.547233</td>\n",
              "      <td>-0.302980</td>\n",
              "    </tr>\n",
              "    <tr>\n",
              "      <th>478</th>\n",
              "      <td>0.995526</td>\n",
              "      <td>-0.024927</td>\n",
              "      <td>-0.742021</td>\n",
              "      <td>0.291486</td>\n",
              "      <td>0.538823</td>\n",
              "      <td>-0.375343</td>\n",
              "      <td>-0.655601</td>\n",
              "      <td>-0.478311</td>\n",
              "      <td>0.154308</td>\n",
              "      <td>0.192376</td>\n",
              "      <td>-0.132891</td>\n",
              "      <td>0.101889</td>\n",
              "      <td>0.961340</td>\n",
              "    </tr>\n",
              "    <tr>\n",
              "      <th>479</th>\n",
              "      <td>0.995526</td>\n",
              "      <td>-0.024927</td>\n",
              "      <td>-0.742021</td>\n",
              "      <td>-0.196714</td>\n",
              "      <td>0.379641</td>\n",
              "      <td>0.390859</td>\n",
              "      <td>-0.652447</td>\n",
              "      <td>-0.274305</td>\n",
              "      <td>-0.046120</td>\n",
              "      <td>-0.299340</td>\n",
              "      <td>-0.222116</td>\n",
              "      <td>-0.556221</td>\n",
              "      <td>-0.412242</td>\n",
              "    </tr>\n",
              "    <tr>\n",
              "      <th>480</th>\n",
              "      <td>0.995526</td>\n",
              "      <td>-0.024927</td>\n",
              "      <td>-0.742021</td>\n",
              "      <td>1.283634</td>\n",
              "      <td>-0.025136</td>\n",
              "      <td>0.454050</td>\n",
              "      <td>-0.450633</td>\n",
              "      <td>-0.161275</td>\n",
              "      <td>1.082604</td>\n",
              "      <td>0.602140</td>\n",
              "      <td>-0.052587</td>\n",
              "      <td>-0.418407</td>\n",
              "      <td>0.602336</td>\n",
              "    </tr>\n",
              "    <tr>\n",
              "      <th>...</th>\n",
              "      <td>...</td>\n",
              "      <td>...</td>\n",
              "      <td>...</td>\n",
              "      <td>...</td>\n",
              "      <td>...</td>\n",
              "      <td>...</td>\n",
              "      <td>...</td>\n",
              "      <td>...</td>\n",
              "      <td>...</td>\n",
              "      <td>...</td>\n",
              "      <td>...</td>\n",
              "      <td>...</td>\n",
              "      <td>...</td>\n",
              "    </tr>\n",
              "    <tr>\n",
              "      <th>608</th>\n",
              "      <td>-0.995526</td>\n",
              "      <td>0.473615</td>\n",
              "      <td>-0.742021</td>\n",
              "      <td>-0.826649</td>\n",
              "      <td>-0.491312</td>\n",
              "      <td>-0.280555</td>\n",
              "      <td>1.400382</td>\n",
              "      <td>-0.351497</td>\n",
              "      <td>-0.411812</td>\n",
              "      <td>-0.925162</td>\n",
              "      <td>-0.275652</td>\n",
              "      <td>-0.173738</td>\n",
              "      <td>1.476434</td>\n",
              "    </tr>\n",
              "    <tr>\n",
              "      <th>609</th>\n",
              "      <td>-0.995526</td>\n",
              "      <td>0.573324</td>\n",
              "      <td>-0.742021</td>\n",
              "      <td>-0.039230</td>\n",
              "      <td>-0.379885</td>\n",
              "      <td>0.082798</td>\n",
              "      <td>3.541504</td>\n",
              "      <td>0.530691</td>\n",
              "      <td>-0.584109</td>\n",
              "      <td>-0.530298</td>\n",
              "      <td>0.439046</td>\n",
              "      <td>0.339567</td>\n",
              "      <td>-0.100064</td>\n",
              "    </tr>\n",
              "    <tr>\n",
              "      <th>610</th>\n",
              "      <td>-0.995526</td>\n",
              "      <td>0.872449</td>\n",
              "      <td>-0.742021</td>\n",
              "      <td>-1.141617</td>\n",
              "      <td>7.927146</td>\n",
              "      <td>-0.999362</td>\n",
              "      <td>0.774442</td>\n",
              "      <td>0.806375</td>\n",
              "      <td>-0.654435</td>\n",
              "      <td>0.803297</td>\n",
              "      <td>-0.278329</td>\n",
              "      <td>5.830138</td>\n",
              "      <td>-0.412242</td>\n",
              "    </tr>\n",
              "    <tr>\n",
              "      <th>611</th>\n",
              "      <td>-0.995526</td>\n",
              "      <td>1.071866</td>\n",
              "      <td>-0.742021</td>\n",
              "      <td>-2.401487</td>\n",
              "      <td>0.791241</td>\n",
              "      <td>-1.236332</td>\n",
              "      <td>-0.264586</td>\n",
              "      <td>-0.020676</td>\n",
              "      <td>-2.071492</td>\n",
              "      <td>-1.640386</td>\n",
              "      <td>-0.213194</td>\n",
              "      <td>-0.311552</td>\n",
              "      <td>0.024807</td>\n",
              "    </tr>\n",
              "    <tr>\n",
              "      <th>612</th>\n",
              "      <td>-0.995526</td>\n",
              "      <td>1.071866</td>\n",
              "      <td>-0.742021</td>\n",
              "      <td>-1.614068</td>\n",
              "      <td>0.438766</td>\n",
              "      <td>-1.188938</td>\n",
              "      <td>0.596278</td>\n",
              "      <td>0.751238</td>\n",
              "      <td>-2.029297</td>\n",
              "      <td>-1.185921</td>\n",
              "      <td>-0.180180</td>\n",
              "      <td>-0.028934</td>\n",
              "      <td>1.694958</td>\n",
              "    </tr>\n",
              "  </tbody>\n",
              "</table>\n",
              "<p>112 rows × 13 columns</p>\n",
              "</div>"
            ],
            "text/plain": [
              "     Category       Age       Sex  ...      CREA       GGT      PROT\n",
              "476  0.995526 -0.024927 -0.742021  ... -0.275652 -0.505290  0.898905\n",
              "477  0.995526 -0.024927 -0.742021  ... -0.115045 -0.547233 -0.302980\n",
              "478  0.995526 -0.024927 -0.742021  ... -0.132891  0.101889  0.961340\n",
              "479  0.995526 -0.024927 -0.742021  ... -0.222116 -0.556221 -0.412242\n",
              "480  0.995526 -0.024927 -0.742021  ... -0.052587 -0.418407  0.602336\n",
              "..        ...       ...       ...  ...       ...       ...       ...\n",
              "608 -0.995526  0.473615 -0.742021  ... -0.275652 -0.173738  1.476434\n",
              "609 -0.995526  0.573324 -0.742021  ...  0.439046  0.339567 -0.100064\n",
              "610 -0.995526  0.872449 -0.742021  ... -0.278329  5.830138 -0.412242\n",
              "611 -0.995526  1.071866 -0.742021  ... -0.213194 -0.311552  0.024807\n",
              "612 -0.995526  1.071866 -0.742021  ... -0.180180 -0.028934  1.694958\n",
              "\n",
              "[112 rows x 13 columns]"
            ]
          },
          "metadata": {
            "tags": []
          },
          "execution_count": 19
        }
      ]
    },
    {
      "cell_type": "markdown",
      "metadata": {
        "id": "n6pVZhemPpGF"
      },
      "source": [
        "Convertendo as classes em '0' e '1'"
      ]
    },
    {
      "cell_type": "code",
      "metadata": {
        "id": "qeoIo8EMMaCP"
      },
      "source": [
        "hcv_dataset_norm['Category'] = to_number.fit_transform(hcv_dataset_norm['Category'])"
      ],
      "execution_count": null,
      "outputs": []
    },
    {
      "cell_type": "markdown",
      "metadata": {
        "id": "2yy-5aZ5csxm"
      },
      "source": [
        "Visualizando a base de dados normalizada"
      ]
    },
    {
      "cell_type": "code",
      "metadata": {
        "colab": {
          "base_uri": "https://localhost:8080/",
          "height": 419
        },
        "id": "8RGg8v4ccAND",
        "outputId": "8e159a55-966d-4fa0-8250-f53e88895413"
      },
      "source": [
        "hcv_dataset_norm"
      ],
      "execution_count": null,
      "outputs": [
        {
          "output_type": "execute_result",
          "data": {
            "text/html": [
              "<div>\n",
              "<style scoped>\n",
              "    .dataframe tbody tr th:only-of-type {\n",
              "        vertical-align: middle;\n",
              "    }\n",
              "\n",
              "    .dataframe tbody tr th {\n",
              "        vertical-align: top;\n",
              "    }\n",
              "\n",
              "    .dataframe thead th {\n",
              "        text-align: right;\n",
              "    }\n",
              "</style>\n",
              "<table border=\"1\" class=\"dataframe\">\n",
              "  <thead>\n",
              "    <tr style=\"text-align: right;\">\n",
              "      <th></th>\n",
              "      <th>Category</th>\n",
              "      <th>Age</th>\n",
              "      <th>Sex</th>\n",
              "      <th>ALB</th>\n",
              "      <th>ALP</th>\n",
              "      <th>ALT</th>\n",
              "      <th>AST</th>\n",
              "      <th>BIL</th>\n",
              "      <th>CHE</th>\n",
              "      <th>CHOL</th>\n",
              "      <th>CREA</th>\n",
              "      <th>GGT</th>\n",
              "      <th>PROT</th>\n",
              "    </tr>\n",
              "  </thead>\n",
              "  <tbody>\n",
              "    <tr>\n",
              "      <th>476</th>\n",
              "      <td>1</td>\n",
              "      <td>-0.024927</td>\n",
              "      <td>-0.742021</td>\n",
              "      <td>0.700943</td>\n",
              "      <td>0.370545</td>\n",
              "      <td>0.019606</td>\n",
              "      <td>-0.671367</td>\n",
              "      <td>-0.337712</td>\n",
              "      <td>0.980632</td>\n",
              "      <td>1.064056</td>\n",
              "      <td>-0.275652</td>\n",
              "      <td>-0.505290</td>\n",
              "      <td>0.898905</td>\n",
              "    </tr>\n",
              "    <tr>\n",
              "      <th>477</th>\n",
              "      <td>1</td>\n",
              "      <td>-0.024927</td>\n",
              "      <td>-0.742021</td>\n",
              "      <td>0.669447</td>\n",
              "      <td>-0.143386</td>\n",
              "      <td>-0.130474</td>\n",
              "      <td>-0.644564</td>\n",
              "      <td>-0.379065</td>\n",
              "      <td>-0.084799</td>\n",
              "      <td>1.302464</td>\n",
              "      <td>-0.115045</td>\n",
              "      <td>-0.547233</td>\n",
              "      <td>-0.302980</td>\n",
              "    </tr>\n",
              "    <tr>\n",
              "      <th>478</th>\n",
              "      <td>1</td>\n",
              "      <td>-0.024927</td>\n",
              "      <td>-0.742021</td>\n",
              "      <td>0.291486</td>\n",
              "      <td>0.538823</td>\n",
              "      <td>-0.375343</td>\n",
              "      <td>-0.655601</td>\n",
              "      <td>-0.478311</td>\n",
              "      <td>0.154308</td>\n",
              "      <td>0.192376</td>\n",
              "      <td>-0.132891</td>\n",
              "      <td>0.101889</td>\n",
              "      <td>0.961340</td>\n",
              "    </tr>\n",
              "    <tr>\n",
              "      <th>479</th>\n",
              "      <td>1</td>\n",
              "      <td>-0.024927</td>\n",
              "      <td>-0.742021</td>\n",
              "      <td>-0.196714</td>\n",
              "      <td>0.379641</td>\n",
              "      <td>0.390859</td>\n",
              "      <td>-0.652447</td>\n",
              "      <td>-0.274305</td>\n",
              "      <td>-0.046120</td>\n",
              "      <td>-0.299340</td>\n",
              "      <td>-0.222116</td>\n",
              "      <td>-0.556221</td>\n",
              "      <td>-0.412242</td>\n",
              "    </tr>\n",
              "    <tr>\n",
              "      <th>480</th>\n",
              "      <td>1</td>\n",
              "      <td>-0.024927</td>\n",
              "      <td>-0.742021</td>\n",
              "      <td>1.283634</td>\n",
              "      <td>-0.025136</td>\n",
              "      <td>0.454050</td>\n",
              "      <td>-0.450633</td>\n",
              "      <td>-0.161275</td>\n",
              "      <td>1.082604</td>\n",
              "      <td>0.602140</td>\n",
              "      <td>-0.052587</td>\n",
              "      <td>-0.418407</td>\n",
              "      <td>0.602336</td>\n",
              "    </tr>\n",
              "    <tr>\n",
              "      <th>...</th>\n",
              "      <td>...</td>\n",
              "      <td>...</td>\n",
              "      <td>...</td>\n",
              "      <td>...</td>\n",
              "      <td>...</td>\n",
              "      <td>...</td>\n",
              "      <td>...</td>\n",
              "      <td>...</td>\n",
              "      <td>...</td>\n",
              "      <td>...</td>\n",
              "      <td>...</td>\n",
              "      <td>...</td>\n",
              "      <td>...</td>\n",
              "    </tr>\n",
              "    <tr>\n",
              "      <th>608</th>\n",
              "      <td>0</td>\n",
              "      <td>0.473615</td>\n",
              "      <td>-0.742021</td>\n",
              "      <td>-0.826649</td>\n",
              "      <td>-0.491312</td>\n",
              "      <td>-0.280555</td>\n",
              "      <td>1.400382</td>\n",
              "      <td>-0.351497</td>\n",
              "      <td>-0.411812</td>\n",
              "      <td>-0.925162</td>\n",
              "      <td>-0.275652</td>\n",
              "      <td>-0.173738</td>\n",
              "      <td>1.476434</td>\n",
              "    </tr>\n",
              "    <tr>\n",
              "      <th>609</th>\n",
              "      <td>0</td>\n",
              "      <td>0.573324</td>\n",
              "      <td>-0.742021</td>\n",
              "      <td>-0.039230</td>\n",
              "      <td>-0.379885</td>\n",
              "      <td>0.082798</td>\n",
              "      <td>3.541504</td>\n",
              "      <td>0.530691</td>\n",
              "      <td>-0.584109</td>\n",
              "      <td>-0.530298</td>\n",
              "      <td>0.439046</td>\n",
              "      <td>0.339567</td>\n",
              "      <td>-0.100064</td>\n",
              "    </tr>\n",
              "    <tr>\n",
              "      <th>610</th>\n",
              "      <td>0</td>\n",
              "      <td>0.872449</td>\n",
              "      <td>-0.742021</td>\n",
              "      <td>-1.141617</td>\n",
              "      <td>7.927146</td>\n",
              "      <td>-0.999362</td>\n",
              "      <td>0.774442</td>\n",
              "      <td>0.806375</td>\n",
              "      <td>-0.654435</td>\n",
              "      <td>0.803297</td>\n",
              "      <td>-0.278329</td>\n",
              "      <td>5.830138</td>\n",
              "      <td>-0.412242</td>\n",
              "    </tr>\n",
              "    <tr>\n",
              "      <th>611</th>\n",
              "      <td>0</td>\n",
              "      <td>1.071866</td>\n",
              "      <td>-0.742021</td>\n",
              "      <td>-2.401487</td>\n",
              "      <td>0.791241</td>\n",
              "      <td>-1.236332</td>\n",
              "      <td>-0.264586</td>\n",
              "      <td>-0.020676</td>\n",
              "      <td>-2.071492</td>\n",
              "      <td>-1.640386</td>\n",
              "      <td>-0.213194</td>\n",
              "      <td>-0.311552</td>\n",
              "      <td>0.024807</td>\n",
              "    </tr>\n",
              "    <tr>\n",
              "      <th>612</th>\n",
              "      <td>0</td>\n",
              "      <td>1.071866</td>\n",
              "      <td>-0.742021</td>\n",
              "      <td>-1.614068</td>\n",
              "      <td>0.438766</td>\n",
              "      <td>-1.188938</td>\n",
              "      <td>0.596278</td>\n",
              "      <td>0.751238</td>\n",
              "      <td>-2.029297</td>\n",
              "      <td>-1.185921</td>\n",
              "      <td>-0.180180</td>\n",
              "      <td>-0.028934</td>\n",
              "      <td>1.694958</td>\n",
              "    </tr>\n",
              "  </tbody>\n",
              "</table>\n",
              "<p>112 rows × 13 columns</p>\n",
              "</div>"
            ],
            "text/plain": [
              "     Category       Age       Sex  ...      CREA       GGT      PROT\n",
              "476         1 -0.024927 -0.742021  ... -0.275652 -0.505290  0.898905\n",
              "477         1 -0.024927 -0.742021  ... -0.115045 -0.547233 -0.302980\n",
              "478         1 -0.024927 -0.742021  ... -0.132891  0.101889  0.961340\n",
              "479         1 -0.024927 -0.742021  ... -0.222116 -0.556221 -0.412242\n",
              "480         1 -0.024927 -0.742021  ... -0.052587 -0.418407  0.602336\n",
              "..        ...       ...       ...  ...       ...       ...       ...\n",
              "608         0  0.473615 -0.742021  ... -0.275652 -0.173738  1.476434\n",
              "609         0  0.573324 -0.742021  ...  0.439046  0.339567 -0.100064\n",
              "610         0  0.872449 -0.742021  ... -0.278329  5.830138 -0.412242\n",
              "611         0  1.071866 -0.742021  ... -0.213194 -0.311552  0.024807\n",
              "612         0  1.071866 -0.742021  ... -0.180180 -0.028934  1.694958\n",
              "\n",
              "[112 rows x 13 columns]"
            ]
          },
          "metadata": {
            "tags": []
          },
          "execution_count": 21
        }
      ]
    },
    {
      "cell_type": "markdown",
      "metadata": {
        "id": "AxnuPJa_8m4T"
      },
      "source": [
        "Ao longo do desenvolvimento das aplicações, ambos os datasets (pré e pós-normalizado) serão utilizados, para comparação entre os resultados obtidos. Iremos, agora, para as aplicações"
      ]
    },
    {
      "cell_type": "markdown",
      "metadata": {
        "id": "-xjfDo7lySC0"
      },
      "source": [
        "### **Multilayer Perceptron**\n",
        "---"
      ]
    },
    {
      "cell_type": "markdown",
      "metadata": {
        "id": "s60129KBys2J"
      },
      "source": [
        "Primeiramente, iremos utilizar a base de dados pré-normalizada -- `hcv_dataset`"
      ]
    },
    {
      "cell_type": "markdown",
      "metadata": {
        "id": "KYA2FecDylKl"
      },
      "source": [
        "Importando a função `train_test_split` para realizarmos a subdivisão do dataset entre treinamento e teste"
      ]
    },
    {
      "cell_type": "code",
      "metadata": {
        "id": "sbEORnJQyqog"
      },
      "source": [
        "from sklearn.model_selection import train_test_split"
      ],
      "execution_count": null,
      "outputs": []
    },
    {
      "cell_type": "markdown",
      "metadata": {
        "id": "Q8TeQBKdzG3P"
      },
      "source": [
        "Criando as variáveis que irão receber os atributos previsores e a classe"
      ]
    },
    {
      "cell_type": "code",
      "metadata": {
        "id": "Zv1PbnBPzKj2"
      },
      "source": [
        "previsores = hcv_dataset.iloc[:, 1:14]\n",
        "classe = hcv_dataset.iloc[:, 0]"
      ],
      "execution_count": null,
      "outputs": []
    },
    {
      "cell_type": "markdown",
      "metadata": {
        "id": "eSxt6B9I0IqZ"
      },
      "source": [
        "Realizando a subdivisão do dataset entre treinamento e teste. O `test_size = 0.20` indica que 20% dos dados corresponderão à base de dados de teste, ou seja, 80% de todo o dataset será para treinamento da nossa rede neural"
      ]
    },
    {
      "cell_type": "code",
      "metadata": {
        "id": "uk7L86Yr0R3B"
      },
      "source": [
        "previsores_treinamento, previsores_teste, classe_treinamento, classe_teste = train_test_split(previsores, classe,\n",
        "                                                                                              random_state = 0, test_size = 0.20)"
      ],
      "execution_count": null,
      "outputs": []
    },
    {
      "cell_type": "markdown",
      "metadata": {
        "id": "iHZhF1Bu4bmx"
      },
      "source": [
        "Importanto a biblioteca `keras` para desenvolvermos a aplicação envolendo redes neurais artificiais"
      ]
    },
    {
      "cell_type": "code",
      "metadata": {
        "id": "fHSJeVUc4qf3"
      },
      "source": [
        "import keras\n",
        "# Rede sequencial\n",
        "from keras.models import Sequential\n",
        "# Rede com camadas ocultas\n",
        "from keras.layers import Dense"
      ],
      "execution_count": null,
      "outputs": []
    },
    {
      "cell_type": "markdown",
      "metadata": {
        "id": "4BHCjMk346qE"
      },
      "source": [
        "Criando a nossa rede neural artificial"
      ]
    },
    {
      "cell_type": "code",
      "metadata": {
        "id": "cqvWCp0s5K9f"
      },
      "source": [
        "# 'Sequential()' significa que a rede será totalmente conectada\n",
        "model = Sequential()\n",
        "# Criando a camada de entrada e a primeira camada oculta/densa\n",
        "model.add(Dense(units = 8, activation = 'relu', kernel_initializer = 'random_uniform', input_dim = 12))\n",
        "# Mais uma camada oculta/densa\n",
        "model.add(Dense(units = 8, activation = 'relu', kernel_initializer = 'random_uniform'))\n",
        "# Criando a camada de saída\n",
        "model.add(Dense(units = 1, activation = 'sigmoid'))"
      ],
      "execution_count": null,
      "outputs": []
    },
    {
      "cell_type": "markdown",
      "metadata": {
        "id": "6FWcO4db5klw"
      },
      "source": [
        "Compilando o modelo"
      ]
    },
    {
      "cell_type": "code",
      "metadata": {
        "id": "doocibFM5mHC"
      },
      "source": [
        "model.compile(optimizer = 'adam', loss = 'binary_crossentropy', metrics = ['binary_accuracy'])"
      ],
      "execution_count": null,
      "outputs": []
    },
    {
      "cell_type": "markdown",
      "metadata": {
        "id": "z_yLxZwb5ou6"
      },
      "source": [
        "Treinando o modelo"
      ]
    },
    {
      "cell_type": "code",
      "metadata": {
        "colab": {
          "base_uri": "https://localhost:8080/"
        },
        "id": "uWk388Jf5rMX",
        "outputId": "812df603-edf5-4d45-cb84-6273d8662535"
      },
      "source": [
        "model.fit(previsores_treinamento, classe_treinamento, batch_size = 5, epochs = 20)"
      ],
      "execution_count": null,
      "outputs": [
        {
          "output_type": "stream",
          "text": [
            "Epoch 1/20\n",
            "18/18 [==============================] - 0s 2ms/step - loss: 0.6150 - binary_accuracy: 0.4944\n",
            "Epoch 2/20\n",
            "18/18 [==============================] - 0s 2ms/step - loss: 0.5119 - binary_accuracy: 0.7079\n",
            "Epoch 3/20\n",
            "18/18 [==============================] - 0s 2ms/step - loss: 0.4640 - binary_accuracy: 0.8539\n",
            "Epoch 4/20\n",
            "18/18 [==============================] - 0s 3ms/step - loss: 0.4366 - binary_accuracy: 0.9101\n",
            "Epoch 5/20\n",
            "18/18 [==============================] - 0s 2ms/step - loss: 0.4079 - binary_accuracy: 0.9326\n",
            "Epoch 6/20\n",
            "18/18 [==============================] - 0s 3ms/step - loss: 0.3936 - binary_accuracy: 0.9438\n",
            "Epoch 7/20\n",
            "18/18 [==============================] - 0s 3ms/step - loss: 0.3825 - binary_accuracy: 0.9326\n",
            "Epoch 8/20\n",
            "18/18 [==============================] - 0s 2ms/step - loss: 0.3725 - binary_accuracy: 0.9551\n",
            "Epoch 9/20\n",
            "18/18 [==============================] - 0s 2ms/step - loss: 0.3560 - binary_accuracy: 0.9775\n",
            "Epoch 10/20\n",
            "18/18 [==============================] - 0s 2ms/step - loss: 0.3610 - binary_accuracy: 0.9663\n",
            "Epoch 11/20\n",
            "18/18 [==============================] - 0s 3ms/step - loss: 0.3373 - binary_accuracy: 0.9888\n",
            "Epoch 12/20\n",
            "18/18 [==============================] - 0s 2ms/step - loss: 0.3337 - binary_accuracy: 0.9775\n",
            "Epoch 13/20\n",
            "18/18 [==============================] - 0s 2ms/step - loss: 0.3246 - binary_accuracy: 0.9888\n",
            "Epoch 14/20\n",
            "18/18 [==============================] - 0s 2ms/step - loss: 0.3238 - binary_accuracy: 0.9663\n",
            "Epoch 15/20\n",
            "18/18 [==============================] - 0s 2ms/step - loss: 0.3180 - binary_accuracy: 0.9888\n",
            "Epoch 16/20\n",
            "18/18 [==============================] - 0s 3ms/step - loss: 0.3062 - binary_accuracy: 0.9888\n",
            "Epoch 17/20\n",
            "18/18 [==============================] - 0s 3ms/step - loss: 0.3012 - binary_accuracy: 1.0000\n",
            "Epoch 18/20\n",
            "18/18 [==============================] - 0s 3ms/step - loss: 0.2983 - binary_accuracy: 1.0000\n",
            "Epoch 19/20\n",
            "18/18 [==============================] - 0s 3ms/step - loss: 0.2932 - binary_accuracy: 1.0000\n",
            "Epoch 20/20\n",
            "18/18 [==============================] - 0s 2ms/step - loss: 0.2876 - binary_accuracy: 1.0000\n"
          ],
          "name": "stdout"
        },
        {
          "output_type": "execute_result",
          "data": {
            "text/plain": [
              "<tensorflow.python.keras.callbacks.History at 0x7fd44fec2400>"
            ]
          },
          "metadata": {
            "tags": []
          },
          "execution_count": 42
        }
      ]
    },
    {
      "cell_type": "markdown",
      "metadata": {
        "id": "hOkLjEeP-pCI"
      },
      "source": [
        "Podemos notar uma acurácia na casa dos 99,99% na base de dados de treinamento. Isso não é muito relevante, levando em consideração que ainda precisamos validar o nosso modelo a partir da base de dados de teste"
      ]
    },
    {
      "cell_type": "markdown",
      "metadata": {
        "id": "jHd3mhpD6Fvg"
      },
      "source": [
        "Agora, vamos realizar a predição do modelo"
      ]
    },
    {
      "cell_type": "code",
      "metadata": {
        "colab": {
          "base_uri": "https://localhost:8080/"
        },
        "id": "tG5IJS2t6HfN",
        "outputId": "d5789c0c-a635-4144-eea0-25578c19b26d"
      },
      "source": [
        "previsoes = model.predict(previsores_teste)\n",
        "previsoes = (previsoes > 0.5)\n",
        "previsoes"
      ],
      "execution_count": null,
      "outputs": [
        {
          "output_type": "execute_result",
          "data": {
            "text/plain": [
              "array([[ True],\n",
              "       [ True],\n",
              "       [ True],\n",
              "       [ True],\n",
              "       [False],\n",
              "       [ True],\n",
              "       [False],\n",
              "       [ True],\n",
              "       [False],\n",
              "       [ True],\n",
              "       [ True],\n",
              "       [False],\n",
              "       [False],\n",
              "       [False],\n",
              "       [False],\n",
              "       [False],\n",
              "       [ True],\n",
              "       [ True],\n",
              "       [False],\n",
              "       [ True],\n",
              "       [ True],\n",
              "       [False],\n",
              "       [False]])"
            ]
          },
          "metadata": {
            "tags": []
          },
          "execution_count": 43
        }
      ]
    },
    {
      "cell_type": "markdown",
      "metadata": {
        "id": "UJq0_0Hg8ko0"
      },
      "source": [
        "Através do método `evaluate`, podemos validar os resultados obtidos nas bases de dados de treinamento. Podemos notar que a acurácia na base de dados de teste é muito próxima da obtida na base de dados de treinamento. Isso indica que o modelo desempenhou um bom trabalho"
      ]
    },
    {
      "cell_type": "code",
      "metadata": {
        "colab": {
          "base_uri": "https://localhost:8080/"
        },
        "id": "zpVXNe936hcS",
        "outputId": "4ec1e161-bc70-4c40-b41a-06257a2c8b02"
      },
      "source": [
        "resultado = model.evaluate(previsores_teste, classe_teste)"
      ],
      "execution_count": null,
      "outputs": [
        {
          "output_type": "stream",
          "text": [
            "1/1 [==============================] - 0s 1ms/step - loss: 0.3026 - binary_accuracy: 0.9565\n"
          ],
          "name": "stdout"
        }
      ]
    },
    {
      "cell_type": "markdown",
      "metadata": {
        "id": "tveS56T3_11a"
      },
      "source": [
        "Note que a acurácia na base de dados de teste ficou em 95,65%. Aproximou-se muito do resultado obtido na base de dados de treinamento"
      ]
    },
    {
      "cell_type": "markdown",
      "metadata": {
        "id": "sQvHNb3H6MOe"
      },
      "source": [
        "Importando as funções `confusion_matrix` e `plot_confusion_matrix` e a bibliotecas `numpy`, `seaborn` e `matplotlib` para visualizarmos os resultados provenientes do modelo"
      ]
    },
    {
      "cell_type": "code",
      "metadata": {
        "id": "U0LqAuUN6eIC"
      },
      "source": [
        "from sklearn.metrics import confusion_matrix, plot_confusion_matrix\n",
        "import numpy as np\n",
        "import seaborn as sn\n",
        "import matplotlib.pyplot as plt"
      ],
      "execution_count": null,
      "outputs": []
    },
    {
      "cell_type": "code",
      "metadata": {
        "id": "Fn14zgff8D05"
      },
      "source": [
        "# Gerando a matriz de confusão do modelo\n",
        "matriz = confusion_matrix(classe_teste, previsoes)"
      ],
      "execution_count": null,
      "outputs": []
    },
    {
      "cell_type": "code",
      "metadata": {
        "colab": {
          "base_uri": "https://localhost:8080/",
          "height": 282
        },
        "id": "QWMBEylY8aCq",
        "outputId": "331768ea-ec0a-4976-a342-b4f3a0ac24db"
      },
      "source": [
        "df = pd.DataFrame(matriz, range(2), range(2))\n",
        "sn.heatmap(df, annot=True, annot_kws={\"size\": 15})"
      ],
      "execution_count": null,
      "outputs": [
        {
          "output_type": "execute_result",
          "data": {
            "text/plain": [
              "<matplotlib.axes._subplots.AxesSubplot at 0x7fd44e5500f0>"
            ]
          },
          "metadata": {
            "tags": []
          },
          "execution_count": 48
        },
        {
          "output_type": "display_data",
          "data": {
            "image/png": "[encoded data removed]",
            "text/plain": [
              "<Figure size 432x288 with 2 Axes>"
            ]
          },
          "metadata": {
            "tags": [],
            "needs_background": "light"
          }
        }
      ]
    },
    {
      "cell_type": "markdown",
      "metadata": {
        "id": "efviJyxp_KSx"
      },
      "source": [
        "A matriz de confusão acima indica o seguinte cenário:\n",
        "\n",
        "* Das 12 instâncias pertencentes à classe _não doador_, o modelo classificou 11 de forma correta e apenas 1 como sendo da classe _doador_;\n",
        "\n",
        "* Das 11 instâncias pertencentes à classe _doador_, o modelo classificou as 11 de forma correta"
      ]
    },
    {
      "cell_type": "markdown",
      "metadata": {
        "id": "mQHDArS4AZb6"
      },
      "source": [
        "Seguindo para a sensibilidade e especificidade do modelo\n",
        "\n",
        "$$\\mathrm{Sensibilidade = \\frac{VP}{VP + FN}} \\ \\ \\  \\mathrm{e} \\ \\ \\ \\mathrm{Especificidade = \\frac{VN}{VN + FP}}$$ \n",
        "\n",
        "onde $\\mathrm{VP}$ são as instâncias verdadeiras positivas, $\\mathrm{FN}$ são as instâncias falsas negativas, $\\mathrm{VN}$ são as instâncias verdadeiras negativas e $\\mathrm{FP}$ são as instâncias falsas positivas. Logo, obtemos os seguintes resultados"
      ]
    },
    {
      "cell_type": "markdown",
      "metadata": {
        "id": "G1KijKSlCFI_"
      },
      "source": [
        "$$\\mathrm{Sensibilidade = \\frac{VP}{VP + FN}} = \\frac{11}{0 + 11} = 1 = 100\\% \\\\ \\mathrm{Especificidade = \\frac{VN}{VN + FP}} = \\frac{11}{11 + 1} = 0.9167 = 91,67\\%$$ "
      ]
    },
    {
      "cell_type": "markdown",
      "metadata": {
        "id": "IwphLwAucCd5"
      },
      "source": [
        "Comparando a acurácia, a sensibilidade e a especificidade do modelo na base de dados não normalizada, podemos concluir que os resultados estão muito consistentes, visto que as três métricas de avaliação variam muito pouco entre si"
      ]
    },
    {
      "cell_type": "markdown",
      "metadata": {
        "id": "dROIOjNovpsx"
      },
      "source": [
        "Os mesmos procedimentos foram feitos com a base de dados normalizada -- `hcv_dataset_norm`. Os resultados foram os seguintes:\n",
        "\n",
        "* Acurácia: 99,99%\n",
        "* Sensibilidade: 100%\n",
        "* Especificidade: 100%"
      ]
    },
    {
      "cell_type": "markdown",
      "metadata": {
        "id": "eA9jedsjb4iw"
      },
      "source": [
        "Comparando a acurácia, a sensibilidade e a especificidade do modelo na base de dados normalizada, podemos inferir que os resultados estão muito consistentes, visto que as três métricas de avaliação variam muito pouco entre si. Concluímos, portanto, que uso das bases com e sem normalização não provocou grandes mudanças nos resultados obtidos, exceto na especificidade (8,33 pontos percentuais de diferença entre a base com e sem normalização)"
      ]
    },
    {
      "cell_type": "markdown",
      "metadata": {
        "id": "zqxHvKn0Vk5g"
      },
      "source": [
        "Agora, iremos classificar as 7 instâncias de **0s=suspect Blood Donor**"
      ]
    },
    {
      "cell_type": "code",
      "metadata": {
        "colab": {
          "base_uri": "https://localhost:8080/",
          "height": 266
        },
        "id": "9SyZKK8wORzk",
        "outputId": "992f8934-fa96-4b83-9920-c60019441587"
      },
      "source": [
        "hcv_dataset_suspect"
      ],
      "execution_count": null,
      "outputs": [
        {
          "output_type": "execute_result",
          "data": {
            "text/html": [
              "<div>\n",
              "<style scoped>\n",
              "    .dataframe tbody tr th:only-of-type {\n",
              "        vertical-align: middle;\n",
              "    }\n",
              "\n",
              "    .dataframe tbody tr th {\n",
              "        vertical-align: top;\n",
              "    }\n",
              "\n",
              "    .dataframe thead th {\n",
              "        text-align: right;\n",
              "    }\n",
              "</style>\n",
              "<table border=\"1\" class=\"dataframe\">\n",
              "  <thead>\n",
              "    <tr style=\"text-align: right;\">\n",
              "      <th></th>\n",
              "      <th>Category</th>\n",
              "      <th>Age</th>\n",
              "      <th>Sex</th>\n",
              "      <th>ALB</th>\n",
              "      <th>ALP</th>\n",
              "      <th>ALT</th>\n",
              "      <th>AST</th>\n",
              "      <th>BIL</th>\n",
              "      <th>CHE</th>\n",
              "      <th>CHOL</th>\n",
              "      <th>CREA</th>\n",
              "      <th>GGT</th>\n",
              "      <th>PROT</th>\n",
              "    </tr>\n",
              "  </thead>\n",
              "  <tbody>\n",
              "    <tr>\n",
              "      <th>533</th>\n",
              "      <td>0s=suspect Blood Donor</td>\n",
              "      <td>47</td>\n",
              "      <td>m</td>\n",
              "      <td>22.5</td>\n",
              "      <td>124.0</td>\n",
              "      <td>79.5</td>\n",
              "      <td>46.7</td>\n",
              "      <td>2.3</td>\n",
              "      <td>6.83</td>\n",
              "      <td>4.30</td>\n",
              "      <td>170.0</td>\n",
              "      <td>345.6</td>\n",
              "      <td>58.6</td>\n",
              "    </tr>\n",
              "    <tr>\n",
              "      <th>534</th>\n",
              "      <td>0s=suspect Blood Donor</td>\n",
              "      <td>48</td>\n",
              "      <td>m</td>\n",
              "      <td>24.9</td>\n",
              "      <td>116.9</td>\n",
              "      <td>49.2</td>\n",
              "      <td>24.3</td>\n",
              "      <td>4.9</td>\n",
              "      <td>3.44</td>\n",
              "      <td>5.25</td>\n",
              "      <td>29.0</td>\n",
              "      <td>83.0</td>\n",
              "      <td>47.8</td>\n",
              "    </tr>\n",
              "    <tr>\n",
              "      <th>535</th>\n",
              "      <td>0s=suspect Blood Donor</td>\n",
              "      <td>49</td>\n",
              "      <td>m</td>\n",
              "      <td>21.6</td>\n",
              "      <td>42.2</td>\n",
              "      <td>9.5</td>\n",
              "      <td>10.6</td>\n",
              "      <td>2.4</td>\n",
              "      <td>3.75</td>\n",
              "      <td>3.01</td>\n",
              "      <td>64.0</td>\n",
              "      <td>38.9</td>\n",
              "      <td>44.8</td>\n",
              "    </tr>\n",
              "    <tr>\n",
              "      <th>536</th>\n",
              "      <td>0s=suspect Blood Donor</td>\n",
              "      <td>55</td>\n",
              "      <td>m</td>\n",
              "      <td>47.3</td>\n",
              "      <td>106.0</td>\n",
              "      <td>208.8</td>\n",
              "      <td>130.6</td>\n",
              "      <td>0.8</td>\n",
              "      <td>14.80</td>\n",
              "      <td>8.08</td>\n",
              "      <td>76.0</td>\n",
              "      <td>71.6</td>\n",
              "      <td>78.3</td>\n",
              "    </tr>\n",
              "    <tr>\n",
              "      <th>537</th>\n",
              "      <td>0s=suspect Blood Donor</td>\n",
              "      <td>71</td>\n",
              "      <td>m</td>\n",
              "      <td>14.9</td>\n",
              "      <td>69.8</td>\n",
              "      <td>19.7</td>\n",
              "      <td>95.2</td>\n",
              "      <td>9.8</td>\n",
              "      <td>13.30</td>\n",
              "      <td>2.61</td>\n",
              "      <td>9.0</td>\n",
              "      <td>7.6</td>\n",
              "      <td>47.0</td>\n",
              "    </tr>\n",
              "    <tr>\n",
              "      <th>538</th>\n",
              "      <td>0s=suspect Blood Donor</td>\n",
              "      <td>74</td>\n",
              "      <td>m</td>\n",
              "      <td>20.3</td>\n",
              "      <td>84.0</td>\n",
              "      <td>22.8</td>\n",
              "      <td>43.0</td>\n",
              "      <td>5.7</td>\n",
              "      <td>4.91</td>\n",
              "      <td>3.19</td>\n",
              "      <td>52.0</td>\n",
              "      <td>218.3</td>\n",
              "      <td>47.8</td>\n",
              "    </tr>\n",
              "    <tr>\n",
              "      <th>539</th>\n",
              "      <td>0s=suspect Blood Donor</td>\n",
              "      <td>59</td>\n",
              "      <td>f</td>\n",
              "      <td>19.3</td>\n",
              "      <td>208.2</td>\n",
              "      <td>325.3</td>\n",
              "      <td>146.6</td>\n",
              "      <td>6.9</td>\n",
              "      <td>5.33</td>\n",
              "      <td>4.72</td>\n",
              "      <td>32.0</td>\n",
              "      <td>295.6</td>\n",
              "      <td>53.1</td>\n",
              "    </tr>\n",
              "  </tbody>\n",
              "</table>\n",
              "</div>"
            ],
            "text/plain": [
              "                   Category  Age Sex   ALB  ...  CHOL   CREA    GGT  PROT\n",
              "533  0s=suspect Blood Donor   47   m  22.5  ...  4.30  170.0  345.6  58.6\n",
              "534  0s=suspect Blood Donor   48   m  24.9  ...  5.25   29.0   83.0  47.8\n",
              "535  0s=suspect Blood Donor   49   m  21.6  ...  3.01   64.0   38.9  44.8\n",
              "536  0s=suspect Blood Donor   55   m  47.3  ...  8.08   76.0   71.6  78.3\n",
              "537  0s=suspect Blood Donor   71   m  14.9  ...  2.61    9.0    7.6  47.0\n",
              "538  0s=suspect Blood Donor   74   m  20.3  ...  3.19   52.0  218.3  47.8\n",
              "539  0s=suspect Blood Donor   59   f  19.3  ...  4.72   32.0  295.6  53.1\n",
              "\n",
              "[7 rows x 13 columns]"
            ]
          },
          "metadata": {
            "tags": []
          },
          "execution_count": 49
        }
      ]
    },
    {
      "cell_type": "markdown",
      "metadata": {
        "id": "E7ZB2CGpVroS"
      },
      "source": [
        "Convertendo **Sex** para valores numéricos"
      ]
    },
    {
      "cell_type": "code",
      "metadata": {
        "colab": {
          "base_uri": "https://localhost:8080/",
          "height": 368
        },
        "id": "6U8r96HeRr75",
        "outputId": "fc939e71-a7b1-42d1-c751-fdf44336f7ee"
      },
      "source": [
        "hcv_dataset_suspect['Sex'] = to_number.fit_transform(hcv_dataset_suspect['Sex'])\n",
        "hcv_dataset_suspect"
      ],
      "execution_count": null,
      "outputs": [
        {
          "output_type": "stream",
          "text": [
            "/usr/local/lib/python3.6/dist-packages/ipykernel_launcher.py:1: SettingWithCopyWarning: \n",
            "A value is trying to be set on a copy of a slice from a DataFrame.\n",
            "Try using .loc[row_indexer,col_indexer] = value instead\n",
            "\n",
            "See the caveats in the documentation: https://pandas.pydata.org/pandas-docs/stable/user_guide/indexing.html#returning-a-view-versus-a-copy\n",
            "  \"\"\"Entry point for launching an IPython kernel.\n"
          ],
          "name": "stderr"
        },
        {
          "output_type": "execute_result",
          "data": {
            "text/html": [
              "<div>\n",
              "<style scoped>\n",
              "    .dataframe tbody tr th:only-of-type {\n",
              "        vertical-align: middle;\n",
              "    }\n",
              "\n",
              "    .dataframe tbody tr th {\n",
              "        vertical-align: top;\n",
              "    }\n",
              "\n",
              "    .dataframe thead th {\n",
              "        text-align: right;\n",
              "    }\n",
              "</style>\n",
              "<table border=\"1\" class=\"dataframe\">\n",
              "  <thead>\n",
              "    <tr style=\"text-align: right;\">\n",
              "      <th></th>\n",
              "      <th>Category</th>\n",
              "      <th>Age</th>\n",
              "      <th>Sex</th>\n",
              "      <th>ALB</th>\n",
              "      <th>ALP</th>\n",
              "      <th>ALT</th>\n",
              "      <th>AST</th>\n",
              "      <th>BIL</th>\n",
              "      <th>CHE</th>\n",
              "      <th>CHOL</th>\n",
              "      <th>CREA</th>\n",
              "      <th>GGT</th>\n",
              "      <th>PROT</th>\n",
              "    </tr>\n",
              "  </thead>\n",
              "  <tbody>\n",
              "    <tr>\n",
              "      <th>533</th>\n",
              "      <td>0s=suspect Blood Donor</td>\n",
              "      <td>47</td>\n",
              "      <td>1</td>\n",
              "      <td>22.5</td>\n",
              "      <td>124.0</td>\n",
              "      <td>79.5</td>\n",
              "      <td>46.7</td>\n",
              "      <td>2.3</td>\n",
              "      <td>6.83</td>\n",
              "      <td>4.30</td>\n",
              "      <td>170.0</td>\n",
              "      <td>345.6</td>\n",
              "      <td>58.6</td>\n",
              "    </tr>\n",
              "    <tr>\n",
              "      <th>534</th>\n",
              "      <td>0s=suspect Blood Donor</td>\n",
              "      <td>48</td>\n",
              "      <td>1</td>\n",
              "      <td>24.9</td>\n",
              "      <td>116.9</td>\n",
              "      <td>49.2</td>\n",
              "      <td>24.3</td>\n",
              "      <td>4.9</td>\n",
              "      <td>3.44</td>\n",
              "      <td>5.25</td>\n",
              "      <td>29.0</td>\n",
              "      <td>83.0</td>\n",
              "      <td>47.8</td>\n",
              "    </tr>\n",
              "    <tr>\n",
              "      <th>535</th>\n",
              "      <td>0s=suspect Blood Donor</td>\n",
              "      <td>49</td>\n",
              "      <td>1</td>\n",
              "      <td>21.6</td>\n",
              "      <td>42.2</td>\n",
              "      <td>9.5</td>\n",
              "      <td>10.6</td>\n",
              "      <td>2.4</td>\n",
              "      <td>3.75</td>\n",
              "      <td>3.01</td>\n",
              "      <td>64.0</td>\n",
              "      <td>38.9</td>\n",
              "      <td>44.8</td>\n",
              "    </tr>\n",
              "    <tr>\n",
              "      <th>536</th>\n",
              "      <td>0s=suspect Blood Donor</td>\n",
              "      <td>55</td>\n",
              "      <td>1</td>\n",
              "      <td>47.3</td>\n",
              "      <td>106.0</td>\n",
              "      <td>208.8</td>\n",
              "      <td>130.6</td>\n",
              "      <td>0.8</td>\n",
              "      <td>14.80</td>\n",
              "      <td>8.08</td>\n",
              "      <td>76.0</td>\n",
              "      <td>71.6</td>\n",
              "      <td>78.3</td>\n",
              "    </tr>\n",
              "    <tr>\n",
              "      <th>537</th>\n",
              "      <td>0s=suspect Blood Donor</td>\n",
              "      <td>71</td>\n",
              "      <td>1</td>\n",
              "      <td>14.9</td>\n",
              "      <td>69.8</td>\n",
              "      <td>19.7</td>\n",
              "      <td>95.2</td>\n",
              "      <td>9.8</td>\n",
              "      <td>13.30</td>\n",
              "      <td>2.61</td>\n",
              "      <td>9.0</td>\n",
              "      <td>7.6</td>\n",
              "      <td>47.0</td>\n",
              "    </tr>\n",
              "    <tr>\n",
              "      <th>538</th>\n",
              "      <td>0s=suspect Blood Donor</td>\n",
              "      <td>74</td>\n",
              "      <td>1</td>\n",
              "      <td>20.3</td>\n",
              "      <td>84.0</td>\n",
              "      <td>22.8</td>\n",
              "      <td>43.0</td>\n",
              "      <td>5.7</td>\n",
              "      <td>4.91</td>\n",
              "      <td>3.19</td>\n",
              "      <td>52.0</td>\n",
              "      <td>218.3</td>\n",
              "      <td>47.8</td>\n",
              "    </tr>\n",
              "    <tr>\n",
              "      <th>539</th>\n",
              "      <td>0s=suspect Blood Donor</td>\n",
              "      <td>59</td>\n",
              "      <td>0</td>\n",
              "      <td>19.3</td>\n",
              "      <td>208.2</td>\n",
              "      <td>325.3</td>\n",
              "      <td>146.6</td>\n",
              "      <td>6.9</td>\n",
              "      <td>5.33</td>\n",
              "      <td>4.72</td>\n",
              "      <td>32.0</td>\n",
              "      <td>295.6</td>\n",
              "      <td>53.1</td>\n",
              "    </tr>\n",
              "  </tbody>\n",
              "</table>\n",
              "</div>"
            ],
            "text/plain": [
              "                   Category  Age  Sex   ALB  ...  CHOL   CREA    GGT  PROT\n",
              "533  0s=suspect Blood Donor   47    1  22.5  ...  4.30  170.0  345.6  58.6\n",
              "534  0s=suspect Blood Donor   48    1  24.9  ...  5.25   29.0   83.0  47.8\n",
              "535  0s=suspect Blood Donor   49    1  21.6  ...  3.01   64.0   38.9  44.8\n",
              "536  0s=suspect Blood Donor   55    1  47.3  ...  8.08   76.0   71.6  78.3\n",
              "537  0s=suspect Blood Donor   71    1  14.9  ...  2.61    9.0    7.6  47.0\n",
              "538  0s=suspect Blood Donor   74    1  20.3  ...  3.19   52.0  218.3  47.8\n",
              "539  0s=suspect Blood Donor   59    0  19.3  ...  4.72   32.0  295.6  53.1\n",
              "\n",
              "[7 rows x 13 columns]"
            ]
          },
          "metadata": {
            "tags": []
          },
          "execution_count": 50
        }
      ]
    },
    {
      "cell_type": "markdown",
      "metadata": {
        "id": "FzxMuXxMVxpD"
      },
      "source": [
        "Separando os previsores"
      ]
    },
    {
      "cell_type": "code",
      "metadata": {
        "colab": {
          "base_uri": "https://localhost:8080/",
          "height": 266
        },
        "id": "ZNzCzVwuSU6E",
        "outputId": "ad70d9ab-2cdc-48a7-9d40-e22f35a43fa5"
      },
      "source": [
        "previsores_suspect = hcv_dataset_suspect.iloc[:, 1:14]\n",
        "previsores_suspect"
      ],
      "execution_count": null,
      "outputs": [
        {
          "output_type": "execute_result",
          "data": {
            "text/html": [
              "<div>\n",
              "<style scoped>\n",
              "    .dataframe tbody tr th:only-of-type {\n",
              "        vertical-align: middle;\n",
              "    }\n",
              "\n",
              "    .dataframe tbody tr th {\n",
              "        vertical-align: top;\n",
              "    }\n",
              "\n",
              "    .dataframe thead th {\n",
              "        text-align: right;\n",
              "    }\n",
              "</style>\n",
              "<table border=\"1\" class=\"dataframe\">\n",
              "  <thead>\n",
              "    <tr style=\"text-align: right;\">\n",
              "      <th></th>\n",
              "      <th>Age</th>\n",
              "      <th>Sex</th>\n",
              "      <th>ALB</th>\n",
              "      <th>ALP</th>\n",
              "      <th>ALT</th>\n",
              "      <th>AST</th>\n",
              "      <th>BIL</th>\n",
              "      <th>CHE</th>\n",
              "      <th>CHOL</th>\n",
              "      <th>CREA</th>\n",
              "      <th>GGT</th>\n",
              "      <th>PROT</th>\n",
              "    </tr>\n",
              "  </thead>\n",
              "  <tbody>\n",
              "    <tr>\n",
              "      <th>533</th>\n",
              "      <td>47</td>\n",
              "      <td>1</td>\n",
              "      <td>22.5</td>\n",
              "      <td>124.0</td>\n",
              "      <td>79.5</td>\n",
              "      <td>46.7</td>\n",
              "      <td>2.3</td>\n",
              "      <td>6.83</td>\n",
              "      <td>4.30</td>\n",
              "      <td>170.0</td>\n",
              "      <td>345.6</td>\n",
              "      <td>58.6</td>\n",
              "    </tr>\n",
              "    <tr>\n",
              "      <th>534</th>\n",
              "      <td>48</td>\n",
              "      <td>1</td>\n",
              "      <td>24.9</td>\n",
              "      <td>116.9</td>\n",
              "      <td>49.2</td>\n",
              "      <td>24.3</td>\n",
              "      <td>4.9</td>\n",
              "      <td>3.44</td>\n",
              "      <td>5.25</td>\n",
              "      <td>29.0</td>\n",
              "      <td>83.0</td>\n",
              "      <td>47.8</td>\n",
              "    </tr>\n",
              "    <tr>\n",
              "      <th>535</th>\n",
              "      <td>49</td>\n",
              "      <td>1</td>\n",
              "      <td>21.6</td>\n",
              "      <td>42.2</td>\n",
              "      <td>9.5</td>\n",
              "      <td>10.6</td>\n",
              "      <td>2.4</td>\n",
              "      <td>3.75</td>\n",
              "      <td>3.01</td>\n",
              "      <td>64.0</td>\n",
              "      <td>38.9</td>\n",
              "      <td>44.8</td>\n",
              "    </tr>\n",
              "    <tr>\n",
              "      <th>536</th>\n",
              "      <td>55</td>\n",
              "      <td>1</td>\n",
              "      <td>47.3</td>\n",
              "      <td>106.0</td>\n",
              "      <td>208.8</td>\n",
              "      <td>130.6</td>\n",
              "      <td>0.8</td>\n",
              "      <td>14.80</td>\n",
              "      <td>8.08</td>\n",
              "      <td>76.0</td>\n",
              "      <td>71.6</td>\n",
              "      <td>78.3</td>\n",
              "    </tr>\n",
              "    <tr>\n",
              "      <th>537</th>\n",
              "      <td>71</td>\n",
              "      <td>1</td>\n",
              "      <td>14.9</td>\n",
              "      <td>69.8</td>\n",
              "      <td>19.7</td>\n",
              "      <td>95.2</td>\n",
              "      <td>9.8</td>\n",
              "      <td>13.30</td>\n",
              "      <td>2.61</td>\n",
              "      <td>9.0</td>\n",
              "      <td>7.6</td>\n",
              "      <td>47.0</td>\n",
              "    </tr>\n",
              "    <tr>\n",
              "      <th>538</th>\n",
              "      <td>74</td>\n",
              "      <td>1</td>\n",
              "      <td>20.3</td>\n",
              "      <td>84.0</td>\n",
              "      <td>22.8</td>\n",
              "      <td>43.0</td>\n",
              "      <td>5.7</td>\n",
              "      <td>4.91</td>\n",
              "      <td>3.19</td>\n",
              "      <td>52.0</td>\n",
              "      <td>218.3</td>\n",
              "      <td>47.8</td>\n",
              "    </tr>\n",
              "    <tr>\n",
              "      <th>539</th>\n",
              "      <td>59</td>\n",
              "      <td>0</td>\n",
              "      <td>19.3</td>\n",
              "      <td>208.2</td>\n",
              "      <td>325.3</td>\n",
              "      <td>146.6</td>\n",
              "      <td>6.9</td>\n",
              "      <td>5.33</td>\n",
              "      <td>4.72</td>\n",
              "      <td>32.0</td>\n",
              "      <td>295.6</td>\n",
              "      <td>53.1</td>\n",
              "    </tr>\n",
              "  </tbody>\n",
              "</table>\n",
              "</div>"
            ],
            "text/plain": [
              "     Age  Sex   ALB    ALP    ALT    AST  BIL    CHE  CHOL   CREA    GGT  PROT\n",
              "533   47    1  22.5  124.0   79.5   46.7  2.3   6.83  4.30  170.0  345.6  58.6\n",
              "534   48    1  24.9  116.9   49.2   24.3  4.9   3.44  5.25   29.0   83.0  47.8\n",
              "535   49    1  21.6   42.2    9.5   10.6  2.4   3.75  3.01   64.0   38.9  44.8\n",
              "536   55    1  47.3  106.0  208.8  130.6  0.8  14.80  8.08   76.0   71.6  78.3\n",
              "537   71    1  14.9   69.8   19.7   95.2  9.8  13.30  2.61    9.0    7.6  47.0\n",
              "538   74    1  20.3   84.0   22.8   43.0  5.7   4.91  3.19   52.0  218.3  47.8\n",
              "539   59    0  19.3  208.2  325.3  146.6  6.9   5.33  4.72   32.0  295.6  53.1"
            ]
          },
          "metadata": {
            "tags": []
          },
          "execution_count": 51
        }
      ]
    },
    {
      "cell_type": "markdown",
      "metadata": {
        "id": "pBCAD8AwVz6l"
      },
      "source": [
        "Realizando as previsoes"
      ]
    },
    {
      "cell_type": "code",
      "metadata": {
        "colab": {
          "base_uri": "https://localhost:8080/"
        },
        "id": "mVmSClm8SpXn",
        "outputId": "a90fac10-d40d-4b1f-97e6-2c0b98815ef8"
      },
      "source": [
        "previsoes_suspect = model.predict(previsores_suspect)\n",
        "previsoes_suspect = (previsoes_suspect > 0.5)\n",
        "previsoes_suspect"
      ],
      "execution_count": null,
      "outputs": [
        {
          "output_type": "execute_result",
          "data": {
            "text/plain": [
              "array([[False],\n",
              "       [ True],\n",
              "       [False],\n",
              "       [ True],\n",
              "       [False],\n",
              "       [False],\n",
              "       [ True]])"
            ]
          },
          "metadata": {
            "tags": []
          },
          "execution_count": 52
        }
      ]
    },
    {
      "cell_type": "markdown",
      "metadata": {
        "id": "CtY65cT6V2O4"
      },
      "source": [
        "Podemos notar que o modelo classificou as 7 instâncias como 3 _doadores_ e 4 _não doadores_. Isso mostra uma resposta condizente, já que a classe não é definida para as instâncias em questão"
      ]
    },
    {
      "cell_type": "markdown",
      "metadata": {
        "id": "r0wv41OK1QGG"
      },
      "source": [
        "### **Random Forest**\n",
        "---"
      ]
    },
    {
      "cell_type": "markdown",
      "metadata": {
        "id": "emagfsy81QGH"
      },
      "source": [
        "Primeiramente, iremos utilizar a base de dados pré-normalizada -- `hcv_dataset`"
      ]
    },
    {
      "cell_type": "markdown",
      "metadata": {
        "id": "bWB8-HPx1QGH"
      },
      "source": [
        "Importando a função `train_test_split` para realizarmos a subdivisão do dataset entre treinamento e teste"
      ]
    },
    {
      "cell_type": "code",
      "metadata": {
        "id": "zOapjyWU1QGI"
      },
      "source": [
        "from sklearn.model_selection import train_test_split"
      ],
      "execution_count": null,
      "outputs": []
    },
    {
      "cell_type": "markdown",
      "metadata": {
        "id": "aNhvBHZ71QGK"
      },
      "source": [
        "Criando as variáveis que irão receber os atributos previsores e a classe"
      ]
    },
    {
      "cell_type": "code",
      "metadata": {
        "id": "ZrvJGxRb1QGK"
      },
      "source": [
        "previsores = hcv_dataset.iloc[:, 1:14]\n",
        "classe = hcv_dataset.iloc[:, 0]"
      ],
      "execution_count": null,
      "outputs": []
    },
    {
      "cell_type": "markdown",
      "metadata": {
        "id": "Q_YPLhVE1QGP"
      },
      "source": [
        "Realizando a subdivisão do dataset entre treinamento e teste. O `test_size = 0.20` indica que 20% dos dados corresponderão à base de dados de teste, ou seja, 80% de todo o dataset será para treinamento do nosso classificador"
      ]
    },
    {
      "cell_type": "code",
      "metadata": {
        "id": "OWeAuRi11QGP"
      },
      "source": [
        "previsores_treinamento, previsores_teste, classe_treinamento, classe_teste = train_test_split(previsores, classe,\n",
        "                                                                                              random_state = 0, test_size = 0.20)"
      ],
      "execution_count": null,
      "outputs": []
    },
    {
      "cell_type": "markdown",
      "metadata": {
        "id": "4IvAcbhV1QGQ"
      },
      "source": [
        "Importanto a biblioteca `sklearn` para desenvolvermos a aplicação envolvendo o Random Forest"
      ]
    },
    {
      "cell_type": "code",
      "metadata": {
        "id": "yeaWSM8O1QGQ"
      },
      "source": [
        "from sklearn.ensemble import RandomForestClassifier"
      ],
      "execution_count": null,
      "outputs": []
    },
    {
      "cell_type": "markdown",
      "metadata": {
        "id": "v2p2rRMt1QGQ"
      },
      "source": [
        "Criando o nosso classificador"
      ]
    },
    {
      "cell_type": "code",
      "metadata": {
        "id": "2vg9Y4Qt1QGQ"
      },
      "source": [
        "classifier = RandomForestClassifier(n_estimators = 30,\n",
        "                                    criterion = 'entropy', random_state = 0)"
      ],
      "execution_count": null,
      "outputs": []
    },
    {
      "cell_type": "markdown",
      "metadata": {
        "id": "d1lBXDf56iCY"
      },
      "source": [
        "Note que o critério utilizado será a **entropia**, para a escolha da melhor variável para compor o nó raiz"
      ]
    },
    {
      "cell_type": "markdown",
      "metadata": {
        "id": "_vvdk3yK1QGR"
      },
      "source": [
        "Treinando o classificador"
      ]
    },
    {
      "cell_type": "code",
      "metadata": {
        "colab": {
          "base_uri": "https://localhost:8080/"
        },
        "id": "TgHRljNA1QGR",
        "outputId": "44886bba-5bcf-40d8-8372-ce1b4d350b98"
      },
      "source": [
        "classifier.fit(previsores_treinamento, classe_treinamento)"
      ],
      "execution_count": null,
      "outputs": [
        {
          "output_type": "execute_result",
          "data": {
            "text/plain": [
              "RandomForestClassifier(bootstrap=True, ccp_alpha=0.0, class_weight=None,\n",
              "                       criterion='entropy', max_depth=None, max_features='auto',\n",
              "                       max_leaf_nodes=None, max_samples=None,\n",
              "                       min_impurity_decrease=0.0, min_impurity_split=None,\n",
              "                       min_samples_leaf=1, min_samples_split=2,\n",
              "                       min_weight_fraction_leaf=0.0, n_estimators=30,\n",
              "                       n_jobs=None, oob_score=False, random_state=0, verbose=0,\n",
              "                       warm_start=False)"
            ]
          },
          "metadata": {
            "tags": []
          },
          "execution_count": 69
        }
      ]
    },
    {
      "cell_type": "markdown",
      "metadata": {
        "id": "wIgIcDKD1QGS"
      },
      "source": [
        "Agora, vamos realizar a predição do classificador"
      ]
    },
    {
      "cell_type": "code",
      "metadata": {
        "colab": {
          "base_uri": "https://localhost:8080/"
        },
        "id": "NbIGhIej1QGS",
        "outputId": "a524ddbd-6054-4891-c08c-4fcc6b92c0f5"
      },
      "source": [
        "previsoes = classifier.predict(previsores_teste)\n",
        "previsoes = (previsoes > 0.5)\n",
        "previsoes"
      ],
      "execution_count": null,
      "outputs": [
        {
          "output_type": "execute_result",
          "data": {
            "text/plain": [
              "array([ True,  True,  True, False, False,  True, False,  True, False,\n",
              "        True,  True, False, False, False, False, False,  True,  True,\n",
              "       False,  True,  True, False, False])"
            ]
          },
          "metadata": {
            "tags": []
          },
          "execution_count": 70
        }
      ]
    },
    {
      "cell_type": "markdown",
      "metadata": {
        "id": "9c4iDn6-1QGU"
      },
      "source": [
        "Importando as funções `confusion_matrix`, `accuracy_score` e `plot_confusion_matrix` e a bibliotecas `numpy`, `seaborn` e `matplotlib` para visualizarmos os resultados provenientes do modelo"
      ]
    },
    {
      "cell_type": "code",
      "metadata": {
        "id": "WLuHcaCv1QGU"
      },
      "source": [
        "from sklearn.metrics import confusion_matrix, accuracy_score, plot_confusion_matrix\n",
        "import numpy as np\n",
        "import seaborn as sn\n",
        "import matplotlib.pyplot as plt"
      ],
      "execution_count": null,
      "outputs": []
    },
    {
      "cell_type": "markdown",
      "metadata": {
        "id": "7HwbEhE44Jwt"
      },
      "source": [
        "Visualizando a acurácia do nosso modelo"
      ]
    },
    {
      "cell_type": "code",
      "metadata": {
        "colab": {
          "base_uri": "https://localhost:8080/"
        },
        "id": "iLhXh_Ua4Sxc",
        "outputId": "11f7e97d-c504-4a50-8106-f902eb177a33"
      },
      "source": [
        "precisao = round(accuracy_score(classe_teste, previsoes), 2)\n",
        "print('Acurácia:', precisao)"
      ],
      "execution_count": null,
      "outputs": [
        {
          "output_type": "stream",
          "text": [
            "Acurácia: 1.0\n"
          ],
          "name": "stdout"
        }
      ]
    },
    {
      "cell_type": "markdown",
      "metadata": {
        "id": "rL-Ap2ET4qXU"
      },
      "source": [
        "Isto significa que o nosso classificador possui 100% de acerto na classificação das instâncias. É importante mencionar que o resultado pode ser alterado, uma vez que existem diversos outros parâmetros que podem ser manipulados, tal como a profundidade da árvore, dentre outros"
      ]
    },
    {
      "cell_type": "code",
      "metadata": {
        "id": "QpsjYD2h1QGU"
      },
      "source": [
        "# Gerando a matriz de confusão do modelo\n",
        "matriz = confusion_matrix(previsoes, classe_teste)"
      ],
      "execution_count": null,
      "outputs": []
    },
    {
      "cell_type": "code",
      "metadata": {
        "colab": {
          "base_uri": "https://localhost:8080/",
          "height": 286
        },
        "id": "KPfBJx8D1QGV",
        "outputId": "f29dfb27-5b22-4eb0-af6f-ffb10b0dad50"
      },
      "source": [
        "df = pd.DataFrame(matriz, range(2), range(2))\n",
        "sn.heatmap(df, annot=True, annot_kws={\"size\": 15})"
      ],
      "execution_count": null,
      "outputs": [
        {
          "output_type": "execute_result",
          "data": {
            "text/plain": [
              "<matplotlib.axes._subplots.AxesSubplot at 0x7fd44a81b278>"
            ]
          },
          "metadata": {
            "tags": []
          },
          "execution_count": 74
        },
        {
          "output_type": "display_data",
          "data": {
            "image/png": "[encoded data removed]",
            "text/plain": [
              "<Figure size 432x288 with 2 Axes>"
            ]
          },
          "metadata": {
            "tags": [],
            "needs_background": "light"
          }
        }
      ]
    },
    {
      "cell_type": "markdown",
      "metadata": {
        "id": "hFqya70Z1QGV"
      },
      "source": [
        "A matriz de confusão acima indica o seguinte cenário:\n",
        "\n",
        "* Das 12 instâncias pertencentes à classe _não doador_, o modelo classificou as 12 de forma correta;\n",
        "\n",
        "* Das 11 instâncias pertencentes à classe _doador_, o modelo classificou as 11 de forma correta"
      ]
    },
    {
      "cell_type": "markdown",
      "metadata": {
        "id": "HjXuDLTi1QGV"
      },
      "source": [
        "Seguindo para a sensibilidade e especificidade do modelo\n",
        "\n",
        "$$\\mathrm{Sensibilidade = \\frac{VP}{VP + FN}} \\ \\ \\  \\mathrm{e} \\ \\ \\ \\mathrm{Especificidade = \\frac{VN}{VN + FP}}$$ \n",
        "\n",
        "onde $\\mathrm{VP}$ são as instâncias verdadeiras positivas, $\\mathrm{FN}$ são as instâncias falsas negativas, $\\mathrm{VN}$ são as instâncias verdadeiras negativas e $\\mathrm{FP}$ são as instâncias falsas positivas. Logo, obtemos os seguintes resultados"
      ]
    },
    {
      "cell_type": "markdown",
      "metadata": {
        "id": "NWx_xyT91QGV"
      },
      "source": [
        "$$\\mathrm{Sensibilidade = \\frac{VP}{VP + FN}} = \\frac{11}{0 + 11} = 1 = 100\\%\n",
        "\\\\ \\mathrm{Especificidade = \\frac{VN}{VN + FP}} = \\frac{12}{12 + 0} = 1 = 100\\%$$"
      ]
    },
    {
      "cell_type": "markdown",
      "metadata": {
        "id": "kJeaVMJv1QGW"
      },
      "source": [
        "Os mesmos procedimentos foram feitos com a base de dados normalizada -- `hcv_dataset_norm`. Os resultados foram os seguintes:\n",
        "\n",
        "* Acurácia: 100%\n",
        "* Sensibilidade: 100% \n",
        "* Especificidade: 100%"
      ]
    },
    {
      "cell_type": "markdown",
      "metadata": {
        "id": "zHGcbiIDZFM6"
      },
      "source": [
        "Comparando a acurácia, a sensibilidade e a especificidade do modelo na base de dados normalizada, podemos inferir que os resultados estão muito consistentes, visto que as três métricas de avaliação não variam entre si. Concluímos, portanto, que uso da base não normalizada e normalizada culminou em métricas de avaliação idênticas"
      ]
    },
    {
      "cell_type": "markdown",
      "metadata": {
        "id": "icKde8A-ZX-z"
      },
      "source": [
        "Agora, iremos classificar as 7 instâncias de **0s=suspect Blood Donor**"
      ]
    },
    {
      "cell_type": "code",
      "metadata": {
        "colab": {
          "base_uri": "https://localhost:8080/",
          "height": 266
        },
        "id": "pAPniv87ZX-z",
        "outputId": "c33c70f8-8891-4ab4-aef0-3c3d98405cf4"
      },
      "source": [
        "hcv_dataset_suspect"
      ],
      "execution_count": null,
      "outputs": [
        {
          "output_type": "execute_result",
          "data": {
            "text/html": [
              "<div>\n",
              "<style scoped>\n",
              "    .dataframe tbody tr th:only-of-type {\n",
              "        vertical-align: middle;\n",
              "    }\n",
              "\n",
              "    .dataframe tbody tr th {\n",
              "        vertical-align: top;\n",
              "    }\n",
              "\n",
              "    .dataframe thead th {\n",
              "        text-align: right;\n",
              "    }\n",
              "</style>\n",
              "<table border=\"1\" class=\"dataframe\">\n",
              "  <thead>\n",
              "    <tr style=\"text-align: right;\">\n",
              "      <th></th>\n",
              "      <th>Category</th>\n",
              "      <th>Age</th>\n",
              "      <th>Sex</th>\n",
              "      <th>ALB</th>\n",
              "      <th>ALP</th>\n",
              "      <th>ALT</th>\n",
              "      <th>AST</th>\n",
              "      <th>BIL</th>\n",
              "      <th>CHE</th>\n",
              "      <th>CHOL</th>\n",
              "      <th>CREA</th>\n",
              "      <th>GGT</th>\n",
              "      <th>PROT</th>\n",
              "    </tr>\n",
              "  </thead>\n",
              "  <tbody>\n",
              "    <tr>\n",
              "      <th>533</th>\n",
              "      <td>0s=suspect Blood Donor</td>\n",
              "      <td>47</td>\n",
              "      <td>1</td>\n",
              "      <td>22.5</td>\n",
              "      <td>124.0</td>\n",
              "      <td>79.5</td>\n",
              "      <td>46.7</td>\n",
              "      <td>2.3</td>\n",
              "      <td>6.83</td>\n",
              "      <td>4.30</td>\n",
              "      <td>170.0</td>\n",
              "      <td>345.6</td>\n",
              "      <td>58.6</td>\n",
              "    </tr>\n",
              "    <tr>\n",
              "      <th>534</th>\n",
              "      <td>0s=suspect Blood Donor</td>\n",
              "      <td>48</td>\n",
              "      <td>1</td>\n",
              "      <td>24.9</td>\n",
              "      <td>116.9</td>\n",
              "      <td>49.2</td>\n",
              "      <td>24.3</td>\n",
              "      <td>4.9</td>\n",
              "      <td>3.44</td>\n",
              "      <td>5.25</td>\n",
              "      <td>29.0</td>\n",
              "      <td>83.0</td>\n",
              "      <td>47.8</td>\n",
              "    </tr>\n",
              "    <tr>\n",
              "      <th>535</th>\n",
              "      <td>0s=suspect Blood Donor</td>\n",
              "      <td>49</td>\n",
              "      <td>1</td>\n",
              "      <td>21.6</td>\n",
              "      <td>42.2</td>\n",
              "      <td>9.5</td>\n",
              "      <td>10.6</td>\n",
              "      <td>2.4</td>\n",
              "      <td>3.75</td>\n",
              "      <td>3.01</td>\n",
              "      <td>64.0</td>\n",
              "      <td>38.9</td>\n",
              "      <td>44.8</td>\n",
              "    </tr>\n",
              "    <tr>\n",
              "      <th>536</th>\n",
              "      <td>0s=suspect Blood Donor</td>\n",
              "      <td>55</td>\n",
              "      <td>1</td>\n",
              "      <td>47.3</td>\n",
              "      <td>106.0</td>\n",
              "      <td>208.8</td>\n",
              "      <td>130.6</td>\n",
              "      <td>0.8</td>\n",
              "      <td>14.80</td>\n",
              "      <td>8.08</td>\n",
              "      <td>76.0</td>\n",
              "      <td>71.6</td>\n",
              "      <td>78.3</td>\n",
              "    </tr>\n",
              "    <tr>\n",
              "      <th>537</th>\n",
              "      <td>0s=suspect Blood Donor</td>\n",
              "      <td>71</td>\n",
              "      <td>1</td>\n",
              "      <td>14.9</td>\n",
              "      <td>69.8</td>\n",
              "      <td>19.7</td>\n",
              "      <td>95.2</td>\n",
              "      <td>9.8</td>\n",
              "      <td>13.30</td>\n",
              "      <td>2.61</td>\n",
              "      <td>9.0</td>\n",
              "      <td>7.6</td>\n",
              "      <td>47.0</td>\n",
              "    </tr>\n",
              "    <tr>\n",
              "      <th>538</th>\n",
              "      <td>0s=suspect Blood Donor</td>\n",
              "      <td>74</td>\n",
              "      <td>1</td>\n",
              "      <td>20.3</td>\n",
              "      <td>84.0</td>\n",
              "      <td>22.8</td>\n",
              "      <td>43.0</td>\n",
              "      <td>5.7</td>\n",
              "      <td>4.91</td>\n",
              "      <td>3.19</td>\n",
              "      <td>52.0</td>\n",
              "      <td>218.3</td>\n",
              "      <td>47.8</td>\n",
              "    </tr>\n",
              "    <tr>\n",
              "      <th>539</th>\n",
              "      <td>0s=suspect Blood Donor</td>\n",
              "      <td>59</td>\n",
              "      <td>0</td>\n",
              "      <td>19.3</td>\n",
              "      <td>208.2</td>\n",
              "      <td>325.3</td>\n",
              "      <td>146.6</td>\n",
              "      <td>6.9</td>\n",
              "      <td>5.33</td>\n",
              "      <td>4.72</td>\n",
              "      <td>32.0</td>\n",
              "      <td>295.6</td>\n",
              "      <td>53.1</td>\n",
              "    </tr>\n",
              "  </tbody>\n",
              "</table>\n",
              "</div>"
            ],
            "text/plain": [
              "                   Category  Age  Sex   ALB  ...  CHOL   CREA    GGT  PROT\n",
              "533  0s=suspect Blood Donor   47    1  22.5  ...  4.30  170.0  345.6  58.6\n",
              "534  0s=suspect Blood Donor   48    1  24.9  ...  5.25   29.0   83.0  47.8\n",
              "535  0s=suspect Blood Donor   49    1  21.6  ...  3.01   64.0   38.9  44.8\n",
              "536  0s=suspect Blood Donor   55    1  47.3  ...  8.08   76.0   71.6  78.3\n",
              "537  0s=suspect Blood Donor   71    1  14.9  ...  2.61    9.0    7.6  47.0\n",
              "538  0s=suspect Blood Donor   74    1  20.3  ...  3.19   52.0  218.3  47.8\n",
              "539  0s=suspect Blood Donor   59    0  19.3  ...  4.72   32.0  295.6  53.1\n",
              "\n",
              "[7 rows x 13 columns]"
            ]
          },
          "metadata": {
            "tags": []
          },
          "execution_count": 75
        }
      ]
    },
    {
      "cell_type": "markdown",
      "metadata": {
        "id": "8-C83WBmZX-5"
      },
      "source": [
        "Separando os previsores"
      ]
    },
    {
      "cell_type": "code",
      "metadata": {
        "colab": {
          "base_uri": "https://localhost:8080/",
          "height": 266
        },
        "id": "KorIzfgIZX-5",
        "outputId": "ad03fd25-6e45-4c82-a45c-98347e8de9ed"
      },
      "source": [
        "previsores_suspect = hcv_dataset_suspect.iloc[:, 1:14]\n",
        "previsores_suspect"
      ],
      "execution_count": null,
      "outputs": [
        {
          "output_type": "execute_result",
          "data": {
            "text/html": [
              "<div>\n",
              "<style scoped>\n",
              "    .dataframe tbody tr th:only-of-type {\n",
              "        vertical-align: middle;\n",
              "    }\n",
              "\n",
              "    .dataframe tbody tr th {\n",
              "        vertical-align: top;\n",
              "    }\n",
              "\n",
              "    .dataframe thead th {\n",
              "        text-align: right;\n",
              "    }\n",
              "</style>\n",
              "<table border=\"1\" class=\"dataframe\">\n",
              "  <thead>\n",
              "    <tr style=\"text-align: right;\">\n",
              "      <th></th>\n",
              "      <th>Age</th>\n",
              "      <th>Sex</th>\n",
              "      <th>ALB</th>\n",
              "      <th>ALP</th>\n",
              "      <th>ALT</th>\n",
              "      <th>AST</th>\n",
              "      <th>BIL</th>\n",
              "      <th>CHE</th>\n",
              "      <th>CHOL</th>\n",
              "      <th>CREA</th>\n",
              "      <th>GGT</th>\n",
              "      <th>PROT</th>\n",
              "    </tr>\n",
              "  </thead>\n",
              "  <tbody>\n",
              "    <tr>\n",
              "      <th>533</th>\n",
              "      <td>47</td>\n",
              "      <td>1</td>\n",
              "      <td>22.5</td>\n",
              "      <td>124.0</td>\n",
              "      <td>79.5</td>\n",
              "      <td>46.7</td>\n",
              "      <td>2.3</td>\n",
              "      <td>6.83</td>\n",
              "      <td>4.30</td>\n",
              "      <td>170.0</td>\n",
              "      <td>345.6</td>\n",
              "      <td>58.6</td>\n",
              "    </tr>\n",
              "    <tr>\n",
              "      <th>534</th>\n",
              "      <td>48</td>\n",
              "      <td>1</td>\n",
              "      <td>24.9</td>\n",
              "      <td>116.9</td>\n",
              "      <td>49.2</td>\n",
              "      <td>24.3</td>\n",
              "      <td>4.9</td>\n",
              "      <td>3.44</td>\n",
              "      <td>5.25</td>\n",
              "      <td>29.0</td>\n",
              "      <td>83.0</td>\n",
              "      <td>47.8</td>\n",
              "    </tr>\n",
              "    <tr>\n",
              "      <th>535</th>\n",
              "      <td>49</td>\n",
              "      <td>1</td>\n",
              "      <td>21.6</td>\n",
              "      <td>42.2</td>\n",
              "      <td>9.5</td>\n",
              "      <td>10.6</td>\n",
              "      <td>2.4</td>\n",
              "      <td>3.75</td>\n",
              "      <td>3.01</td>\n",
              "      <td>64.0</td>\n",
              "      <td>38.9</td>\n",
              "      <td>44.8</td>\n",
              "    </tr>\n",
              "    <tr>\n",
              "      <th>536</th>\n",
              "      <td>55</td>\n",
              "      <td>1</td>\n",
              "      <td>47.3</td>\n",
              "      <td>106.0</td>\n",
              "      <td>208.8</td>\n",
              "      <td>130.6</td>\n",
              "      <td>0.8</td>\n",
              "      <td>14.80</td>\n",
              "      <td>8.08</td>\n",
              "      <td>76.0</td>\n",
              "      <td>71.6</td>\n",
              "      <td>78.3</td>\n",
              "    </tr>\n",
              "    <tr>\n",
              "      <th>537</th>\n",
              "      <td>71</td>\n",
              "      <td>1</td>\n",
              "      <td>14.9</td>\n",
              "      <td>69.8</td>\n",
              "      <td>19.7</td>\n",
              "      <td>95.2</td>\n",
              "      <td>9.8</td>\n",
              "      <td>13.30</td>\n",
              "      <td>2.61</td>\n",
              "      <td>9.0</td>\n",
              "      <td>7.6</td>\n",
              "      <td>47.0</td>\n",
              "    </tr>\n",
              "    <tr>\n",
              "      <th>538</th>\n",
              "      <td>74</td>\n",
              "      <td>1</td>\n",
              "      <td>20.3</td>\n",
              "      <td>84.0</td>\n",
              "      <td>22.8</td>\n",
              "      <td>43.0</td>\n",
              "      <td>5.7</td>\n",
              "      <td>4.91</td>\n",
              "      <td>3.19</td>\n",
              "      <td>52.0</td>\n",
              "      <td>218.3</td>\n",
              "      <td>47.8</td>\n",
              "    </tr>\n",
              "    <tr>\n",
              "      <th>539</th>\n",
              "      <td>59</td>\n",
              "      <td>0</td>\n",
              "      <td>19.3</td>\n",
              "      <td>208.2</td>\n",
              "      <td>325.3</td>\n",
              "      <td>146.6</td>\n",
              "      <td>6.9</td>\n",
              "      <td>5.33</td>\n",
              "      <td>4.72</td>\n",
              "      <td>32.0</td>\n",
              "      <td>295.6</td>\n",
              "      <td>53.1</td>\n",
              "    </tr>\n",
              "  </tbody>\n",
              "</table>\n",
              "</div>"
            ],
            "text/plain": [
              "     Age  Sex   ALB    ALP    ALT    AST  BIL    CHE  CHOL   CREA    GGT  PROT\n",
              "533   47    1  22.5  124.0   79.5   46.7  2.3   6.83  4.30  170.0  345.6  58.6\n",
              "534   48    1  24.9  116.9   49.2   24.3  4.9   3.44  5.25   29.0   83.0  47.8\n",
              "535   49    1  21.6   42.2    9.5   10.6  2.4   3.75  3.01   64.0   38.9  44.8\n",
              "536   55    1  47.3  106.0  208.8  130.6  0.8  14.80  8.08   76.0   71.6  78.3\n",
              "537   71    1  14.9   69.8   19.7   95.2  9.8  13.30  2.61    9.0    7.6  47.0\n",
              "538   74    1  20.3   84.0   22.8   43.0  5.7   4.91  3.19   52.0  218.3  47.8\n",
              "539   59    0  19.3  208.2  325.3  146.6  6.9   5.33  4.72   32.0  295.6  53.1"
            ]
          },
          "metadata": {
            "tags": []
          },
          "execution_count": 76
        }
      ]
    },
    {
      "cell_type": "markdown",
      "metadata": {
        "id": "cROnCZcLZX-5"
      },
      "source": [
        "Realizando as previsoes"
      ]
    },
    {
      "cell_type": "code",
      "metadata": {
        "colab": {
          "base_uri": "https://localhost:8080/"
        },
        "id": "Us9V_y9eZX-5",
        "outputId": "d6d32f46-0acb-4f74-d80f-db28ed273844"
      },
      "source": [
        "previsoes_suspect = classifier.predict(previsores_suspect)\n",
        "previsoes_suspect = (previsoes_suspect > 0.5)\n",
        "previsoes_suspect"
      ],
      "execution_count": null,
      "outputs": [
        {
          "output_type": "execute_result",
          "data": {
            "text/plain": [
              "array([False,  True, False, False, False, False, False])"
            ]
          },
          "metadata": {
            "tags": []
          },
          "execution_count": 77
        }
      ]
    },
    {
      "cell_type": "markdown",
      "metadata": {
        "id": "zaTjra-6ZX-6"
      },
      "source": [
        "Podemos notar que o modelo classificou as 7 instâncias como 1 _doador_ e 6 _não doadores_, o que difere do modelo _Multilayer Perceptron_, que classificou as 7 instâncias como 3 _doadores_ e 4 _não doadores_. Isso mostra uma resposta condizente, já que a classe não é definida para as instâncias em questão, portanto poderíamos aguardar a classificação das instâncias em uma das duas classes existentes"
      ]
    },
    {
      "cell_type": "markdown",
      "metadata": {
        "id": "cQBaa9aj8IwT"
      },
      "source": [
        "## **Aprendizagem não supervisionada** \n",
        "---\n",
        "As duas abordagens escolhidas foram _K-means_ e _Agrupamento hierárquico_. Primeiramenta, seguiremos para a realização do pré-processamento da base de dados, seguindo para a aplicação dos modelos mencionados"
      ]
    },
    {
      "cell_type": "markdown",
      "metadata": {
        "id": "8CxoRGxPOIBg"
      },
      "source": [
        "### **Pré-processamento dos dados**\n",
        "---\n"
      ]
    },
    {
      "cell_type": "markdown",
      "metadata": {
        "id": "0Y5-ZP5cO_9C"
      },
      "source": [
        "Vamos importar a biblioteca `pandas`, para importar a base de dados e realizar o pré-processamento da mesma"
      ]
    },
    {
      "cell_type": "code",
      "metadata": {
        "id": "LZoEHCdTPcEQ"
      },
      "source": [
        "import pandas as pd"
      ],
      "execution_count": null,
      "outputs": []
    },
    {
      "cell_type": "markdown",
      "metadata": {
        "id": "UjTwrAtjPhGq"
      },
      "source": [
        "Relizando o upload do arquivo `.csv`"
      ]
    },
    {
      "cell_type": "code",
      "metadata": {
        "colab": {
          "base_uri": "https://localhost:8080/",
          "height": 453
        },
        "id": "TWIJwv_5Br6V",
        "outputId": "29b86029-7c04-40d0-f6ac-c8be6363e465"
      },
      "source": [
        "# Carregamento da base de dados\n",
        "wine_dataset = pd.read_csv(\"https://raw.githubusercontent.com/franklinthony/dataset/master/wine.csv\", sep = ',')\n",
        "wine_dataset"
      ],
      "execution_count": null,
      "outputs": [
        {
          "output_type": "execute_result",
          "data": {
            "text/html": [
              "<div>\n",
              "<style scoped>\n",
              "    .dataframe tbody tr th:only-of-type {\n",
              "        vertical-align: middle;\n",
              "    }\n",
              "\n",
              "    .dataframe tbody tr th {\n",
              "        vertical-align: top;\n",
              "    }\n",
              "\n",
              "    .dataframe thead th {\n",
              "        text-align: right;\n",
              "    }\n",
              "</style>\n",
              "<table border=\"1\" class=\"dataframe\">\n",
              "  <thead>\n",
              "    <tr style=\"text-align: right;\">\n",
              "      <th></th>\n",
              "      <th>class</th>\n",
              "      <th>alcohol</th>\n",
              "      <th>malic acid</th>\n",
              "      <th>ash</th>\n",
              "      <th>alcalinity of ash</th>\n",
              "      <th>magnesium</th>\n",
              "      <th>total phenols</th>\n",
              "      <th>flavanoids</th>\n",
              "      <th>nonflavanoid phenols</th>\n",
              "      <th>proanthocyanins</th>\n",
              "      <th>color intensity</th>\n",
              "      <th>hue</th>\n",
              "      <th>OD280/OD315 of diluted wines</th>\n",
              "      <th>proline</th>\n",
              "    </tr>\n",
              "  </thead>\n",
              "  <tbody>\n",
              "    <tr>\n",
              "      <th>0</th>\n",
              "      <td>1</td>\n",
              "      <td>14.23</td>\n",
              "      <td>1.71</td>\n",
              "      <td>2.43</td>\n",
              "      <td>15.6</td>\n",
              "      <td>127</td>\n",
              "      <td>2.80</td>\n",
              "      <td>3.06</td>\n",
              "      <td>0.28</td>\n",
              "      <td>2.29</td>\n",
              "      <td>5.64</td>\n",
              "      <td>1.04</td>\n",
              "      <td>3.92</td>\n",
              "      <td>1065</td>\n",
              "    </tr>\n",
              "    <tr>\n",
              "      <th>1</th>\n",
              "      <td>1</td>\n",
              "      <td>13.20</td>\n",
              "      <td>1.78</td>\n",
              "      <td>2.14</td>\n",
              "      <td>11.2</td>\n",
              "      <td>100</td>\n",
              "      <td>2.65</td>\n",
              "      <td>2.76</td>\n",
              "      <td>0.26</td>\n",
              "      <td>1.28</td>\n",
              "      <td>4.38</td>\n",
              "      <td>1.05</td>\n",
              "      <td>3.40</td>\n",
              "      <td>1050</td>\n",
              "    </tr>\n",
              "    <tr>\n",
              "      <th>2</th>\n",
              "      <td>1</td>\n",
              "      <td>13.16</td>\n",
              "      <td>2.36</td>\n",
              "      <td>2.67</td>\n",
              "      <td>18.6</td>\n",
              "      <td>101</td>\n",
              "      <td>2.80</td>\n",
              "      <td>3.24</td>\n",
              "      <td>0.30</td>\n",
              "      <td>2.81</td>\n",
              "      <td>5.68</td>\n",
              "      <td>1.03</td>\n",
              "      <td>3.17</td>\n",
              "      <td>1185</td>\n",
              "    </tr>\n",
              "    <tr>\n",
              "      <th>3</th>\n",
              "      <td>1</td>\n",
              "      <td>14.37</td>\n",
              "      <td>1.95</td>\n",
              "      <td>2.50</td>\n",
              "      <td>16.8</td>\n",
              "      <td>113</td>\n",
              "      <td>3.85</td>\n",
              "      <td>3.49</td>\n",
              "      <td>0.24</td>\n",
              "      <td>2.18</td>\n",
              "      <td>7.80</td>\n",
              "      <td>0.86</td>\n",
              "      <td>3.45</td>\n",
              "      <td>1480</td>\n",
              "    </tr>\n",
              "    <tr>\n",
              "      <th>4</th>\n",
              "      <td>1</td>\n",
              "      <td>13.24</td>\n",
              "      <td>2.59</td>\n",
              "      <td>2.87</td>\n",
              "      <td>21.0</td>\n",
              "      <td>118</td>\n",
              "      <td>2.80</td>\n",
              "      <td>2.69</td>\n",
              "      <td>0.39</td>\n",
              "      <td>1.82</td>\n",
              "      <td>4.32</td>\n",
              "      <td>1.04</td>\n",
              "      <td>2.93</td>\n",
              "      <td>735</td>\n",
              "    </tr>\n",
              "    <tr>\n",
              "      <th>...</th>\n",
              "      <td>...</td>\n",
              "      <td>...</td>\n",
              "      <td>...</td>\n",
              "      <td>...</td>\n",
              "      <td>...</td>\n",
              "      <td>...</td>\n",
              "      <td>...</td>\n",
              "      <td>...</td>\n",
              "      <td>...</td>\n",
              "      <td>...</td>\n",
              "      <td>...</td>\n",
              "      <td>...</td>\n",
              "      <td>...</td>\n",
              "      <td>...</td>\n",
              "    </tr>\n",
              "    <tr>\n",
              "      <th>173</th>\n",
              "      <td>3</td>\n",
              "      <td>13.71</td>\n",
              "      <td>5.65</td>\n",
              "      <td>2.45</td>\n",
              "      <td>20.5</td>\n",
              "      <td>95</td>\n",
              "      <td>1.68</td>\n",
              "      <td>0.61</td>\n",
              "      <td>0.52</td>\n",
              "      <td>1.06</td>\n",
              "      <td>7.70</td>\n",
              "      <td>0.64</td>\n",
              "      <td>1.74</td>\n",
              "      <td>740</td>\n",
              "    </tr>\n",
              "    <tr>\n",
              "      <th>174</th>\n",
              "      <td>3</td>\n",
              "      <td>13.40</td>\n",
              "      <td>3.91</td>\n",
              "      <td>2.48</td>\n",
              "      <td>23.0</td>\n",
              "      <td>102</td>\n",
              "      <td>1.80</td>\n",
              "      <td>0.75</td>\n",
              "      <td>0.43</td>\n",
              "      <td>1.41</td>\n",
              "      <td>7.30</td>\n",
              "      <td>0.70</td>\n",
              "      <td>1.56</td>\n",
              "      <td>750</td>\n",
              "    </tr>\n",
              "    <tr>\n",
              "      <th>175</th>\n",
              "      <td>3</td>\n",
              "      <td>13.27</td>\n",
              "      <td>4.28</td>\n",
              "      <td>2.26</td>\n",
              "      <td>20.0</td>\n",
              "      <td>120</td>\n",
              "      <td>1.59</td>\n",
              "      <td>0.69</td>\n",
              "      <td>0.43</td>\n",
              "      <td>1.35</td>\n",
              "      <td>10.20</td>\n",
              "      <td>0.59</td>\n",
              "      <td>1.56</td>\n",
              "      <td>835</td>\n",
              "    </tr>\n",
              "    <tr>\n",
              "      <th>176</th>\n",
              "      <td>3</td>\n",
              "      <td>13.17</td>\n",
              "      <td>2.59</td>\n",
              "      <td>2.37</td>\n",
              "      <td>20.0</td>\n",
              "      <td>120</td>\n",
              "      <td>1.65</td>\n",
              "      <td>0.68</td>\n",
              "      <td>0.53</td>\n",
              "      <td>1.46</td>\n",
              "      <td>9.30</td>\n",
              "      <td>0.60</td>\n",
              "      <td>1.62</td>\n",
              "      <td>840</td>\n",
              "    </tr>\n",
              "    <tr>\n",
              "      <th>177</th>\n",
              "      <td>3</td>\n",
              "      <td>14.13</td>\n",
              "      <td>4.10</td>\n",
              "      <td>2.74</td>\n",
              "      <td>24.5</td>\n",
              "      <td>96</td>\n",
              "      <td>2.05</td>\n",
              "      <td>0.76</td>\n",
              "      <td>0.56</td>\n",
              "      <td>1.35</td>\n",
              "      <td>9.20</td>\n",
              "      <td>0.61</td>\n",
              "      <td>1.60</td>\n",
              "      <td>560</td>\n",
              "    </tr>\n",
              "  </tbody>\n",
              "</table>\n",
              "<p>178 rows × 14 columns</p>\n",
              "</div>"
            ],
            "text/plain": [
              "     class  alcohol  malic acid  ...   hue  OD280/OD315 of diluted wines  proline\n",
              "0        1    14.23        1.71  ...  1.04                          3.92     1065\n",
              "1        1    13.20        1.78  ...  1.05                          3.40     1050\n",
              "2        1    13.16        2.36  ...  1.03                          3.17     1185\n",
              "3        1    14.37        1.95  ...  0.86                          3.45     1480\n",
              "4        1    13.24        2.59  ...  1.04                          2.93      735\n",
              "..     ...      ...         ...  ...   ...                           ...      ...\n",
              "173      3    13.71        5.65  ...  0.64                          1.74      740\n",
              "174      3    13.40        3.91  ...  0.70                          1.56      750\n",
              "175      3    13.27        4.28  ...  0.59                          1.56      835\n",
              "176      3    13.17        2.59  ...  0.60                          1.62      840\n",
              "177      3    14.13        4.10  ...  0.61                          1.60      560\n",
              "\n",
              "[178 rows x 14 columns]"
            ]
          },
          "metadata": {
            "tags": []
          },
          "execution_count": 2
        }
      ]
    },
    {
      "cell_type": "markdown",
      "metadata": {
        "id": "fInTIGVQSCuW"
      },
      "source": [
        "Podemos notar que a base é composta por 13 atributos previsores e a classe. Como se trata de uma abordagem não supervisionada, precisamos remover a coluna **class**, que representa a classe a qual pertencem as instâncias. Para isso, iremos usar o método `pop`"
      ]
    },
    {
      "cell_type": "code",
      "metadata": {
        "colab": {
          "base_uri": "https://localhost:8080/"
        },
        "id": "JyfADZfb_kA_",
        "outputId": "a24ea6ef-68f9-4753-95f1-5f6e489c04c3"
      },
      "source": [
        "wine_dataset.pop('class')"
      ],
      "execution_count": null,
      "outputs": [
        {
          "output_type": "execute_result",
          "data": {
            "text/plain": [
              "0      1\n",
              "1      1\n",
              "2      1\n",
              "3      1\n",
              "4      1\n",
              "      ..\n",
              "173    3\n",
              "174    3\n",
              "175    3\n",
              "176    3\n",
              "177    3\n",
              "Name: class, Length: 178, dtype: int64"
            ]
          },
          "metadata": {
            "tags": []
          },
          "execution_count": 3
        }
      ]
    },
    {
      "cell_type": "markdown",
      "metadata": {
        "id": "Sh4Vu1RZPokI"
      },
      "source": [
        "Verificando informações estatísticas (como valores máximo e mínimo, quartis, média e desvio padrão) sobre o dataset"
      ]
    },
    {
      "cell_type": "code",
      "metadata": {
        "colab": {
          "base_uri": "https://localhost:8080/",
          "height": 351
        },
        "id": "EWsH1XnJPoQ0",
        "outputId": "85df52a1-ac73-4daf-a119-6b9bb8947fdf"
      },
      "source": [
        "wine_dataset.describe()"
      ],
      "execution_count": null,
      "outputs": [
        {
          "output_type": "execute_result",
          "data": {
            "text/html": [
              "<div>\n",
              "<style scoped>\n",
              "    .dataframe tbody tr th:only-of-type {\n",
              "        vertical-align: middle;\n",
              "    }\n",
              "\n",
              "    .dataframe tbody tr th {\n",
              "        vertical-align: top;\n",
              "    }\n",
              "\n",
              "    .dataframe thead th {\n",
              "        text-align: right;\n",
              "    }\n",
              "</style>\n",
              "<table border=\"1\" class=\"dataframe\">\n",
              "  <thead>\n",
              "    <tr style=\"text-align: right;\">\n",
              "      <th></th>\n",
              "      <th>alcohol</th>\n",
              "      <th>malic acid</th>\n",
              "      <th>ash</th>\n",
              "      <th>alcalinity of ash</th>\n",
              "      <th>magnesium</th>\n",
              "      <th>total phenols</th>\n",
              "      <th>flavanoids</th>\n",
              "      <th>nonflavanoid phenols</th>\n",
              "      <th>proanthocyanins</th>\n",
              "      <th>color intensity</th>\n",
              "      <th>hue</th>\n",
              "      <th>OD280/OD315 of diluted wines</th>\n",
              "      <th>proline</th>\n",
              "    </tr>\n",
              "  </thead>\n",
              "  <tbody>\n",
              "    <tr>\n",
              "      <th>count</th>\n",
              "      <td>178.000000</td>\n",
              "      <td>178.000000</td>\n",
              "      <td>178.000000</td>\n",
              "      <td>178.000000</td>\n",
              "      <td>178.000000</td>\n",
              "      <td>178.000000</td>\n",
              "      <td>178.000000</td>\n",
              "      <td>178.000000</td>\n",
              "      <td>178.000000</td>\n",
              "      <td>178.000000</td>\n",
              "      <td>178.000000</td>\n",
              "      <td>178.000000</td>\n",
              "      <td>178.000000</td>\n",
              "    </tr>\n",
              "    <tr>\n",
              "      <th>mean</th>\n",
              "      <td>13.000618</td>\n",
              "      <td>2.336348</td>\n",
              "      <td>2.366517</td>\n",
              "      <td>19.494944</td>\n",
              "      <td>99.741573</td>\n",
              "      <td>2.295112</td>\n",
              "      <td>2.029270</td>\n",
              "      <td>0.361854</td>\n",
              "      <td>1.590899</td>\n",
              "      <td>5.058090</td>\n",
              "      <td>0.957449</td>\n",
              "      <td>2.611685</td>\n",
              "      <td>746.893258</td>\n",
              "    </tr>\n",
              "    <tr>\n",
              "      <th>std</th>\n",
              "      <td>0.811827</td>\n",
              "      <td>1.117146</td>\n",
              "      <td>0.274344</td>\n",
              "      <td>3.339564</td>\n",
              "      <td>14.282484</td>\n",
              "      <td>0.625851</td>\n",
              "      <td>0.998859</td>\n",
              "      <td>0.124453</td>\n",
              "      <td>0.572359</td>\n",
              "      <td>2.318286</td>\n",
              "      <td>0.228572</td>\n",
              "      <td>0.709990</td>\n",
              "      <td>314.907474</td>\n",
              "    </tr>\n",
              "    <tr>\n",
              "      <th>min</th>\n",
              "      <td>11.030000</td>\n",
              "      <td>0.740000</td>\n",
              "      <td>1.360000</td>\n",
              "      <td>10.600000</td>\n",
              "      <td>70.000000</td>\n",
              "      <td>0.980000</td>\n",
              "      <td>0.340000</td>\n",
              "      <td>0.130000</td>\n",
              "      <td>0.410000</td>\n",
              "      <td>1.280000</td>\n",
              "      <td>0.480000</td>\n",
              "      <td>1.270000</td>\n",
              "      <td>278.000000</td>\n",
              "    </tr>\n",
              "    <tr>\n",
              "      <th>25%</th>\n",
              "      <td>12.362500</td>\n",
              "      <td>1.602500</td>\n",
              "      <td>2.210000</td>\n",
              "      <td>17.200000</td>\n",
              "      <td>88.000000</td>\n",
              "      <td>1.742500</td>\n",
              "      <td>1.205000</td>\n",
              "      <td>0.270000</td>\n",
              "      <td>1.250000</td>\n",
              "      <td>3.220000</td>\n",
              "      <td>0.782500</td>\n",
              "      <td>1.937500</td>\n",
              "      <td>500.500000</td>\n",
              "    </tr>\n",
              "    <tr>\n",
              "      <th>50%</th>\n",
              "      <td>13.050000</td>\n",
              "      <td>1.865000</td>\n",
              "      <td>2.360000</td>\n",
              "      <td>19.500000</td>\n",
              "      <td>98.000000</td>\n",
              "      <td>2.355000</td>\n",
              "      <td>2.135000</td>\n",
              "      <td>0.340000</td>\n",
              "      <td>1.555000</td>\n",
              "      <td>4.690000</td>\n",
              "      <td>0.965000</td>\n",
              "      <td>2.780000</td>\n",
              "      <td>673.500000</td>\n",
              "    </tr>\n",
              "    <tr>\n",
              "      <th>75%</th>\n",
              "      <td>13.677500</td>\n",
              "      <td>3.082500</td>\n",
              "      <td>2.557500</td>\n",
              "      <td>21.500000</td>\n",
              "      <td>107.000000</td>\n",
              "      <td>2.800000</td>\n",
              "      <td>2.875000</td>\n",
              "      <td>0.437500</td>\n",
              "      <td>1.950000</td>\n",
              "      <td>6.200000</td>\n",
              "      <td>1.120000</td>\n",
              "      <td>3.170000</td>\n",
              "      <td>985.000000</td>\n",
              "    </tr>\n",
              "    <tr>\n",
              "      <th>max</th>\n",
              "      <td>14.830000</td>\n",
              "      <td>5.800000</td>\n",
              "      <td>3.230000</td>\n",
              "      <td>30.000000</td>\n",
              "      <td>162.000000</td>\n",
              "      <td>3.880000</td>\n",
              "      <td>5.080000</td>\n",
              "      <td>0.660000</td>\n",
              "      <td>3.580000</td>\n",
              "      <td>13.000000</td>\n",
              "      <td>1.710000</td>\n",
              "      <td>4.000000</td>\n",
              "      <td>1680.000000</td>\n",
              "    </tr>\n",
              "  </tbody>\n",
              "</table>\n",
              "</div>"
            ],
            "text/plain": [
              "          alcohol  malic acid  ...  OD280/OD315 of diluted wines      proline\n",
              "count  178.000000  178.000000  ...                    178.000000   178.000000\n",
              "mean    13.000618    2.336348  ...                      2.611685   746.893258\n",
              "std      0.811827    1.117146  ...                      0.709990   314.907474\n",
              "min     11.030000    0.740000  ...                      1.270000   278.000000\n",
              "25%     12.362500    1.602500  ...                      1.937500   500.500000\n",
              "50%     13.050000    1.865000  ...                      2.780000   673.500000\n",
              "75%     13.677500    3.082500  ...                      3.170000   985.000000\n",
              "max     14.830000    5.800000  ...                      4.000000  1680.000000\n",
              "\n",
              "[8 rows x 13 columns]"
            ]
          },
          "metadata": {
            "tags": []
          },
          "execution_count": 4
        }
      ]
    },
    {
      "cell_type": "markdown",
      "metadata": {
        "id": "PqSOZ_AodDJs"
      },
      "source": [
        "Podemos notar, dentre todos os atributos previsores, que **alcalinity of ash** e **magnesium** possuem média e desvio padrão muito distantes entre si, o que pode caracterizar a presença de _outliers_ em ambos os atributos"
      ]
    },
    {
      "cell_type": "markdown",
      "metadata": {
        "id": "7AMn76HImQu3"
      },
      "source": [
        "Vamos verificar a correlação entre os atributos, isto é, o quão eles estão relacionados"
      ]
    },
    {
      "cell_type": "code",
      "metadata": {
        "id": "pERoSdJU_fSD"
      },
      "source": [
        "import seaborn as sn\n",
        "import matplotlib.pyplot as plt"
      ],
      "execution_count": null,
      "outputs": []
    },
    {
      "cell_type": "code",
      "metadata": {
        "colab": {
          "base_uri": "https://localhost:8080/",
          "height": 854
        },
        "id": "LAxGLD72maQ8",
        "outputId": "6aa17589-8a97-47f7-daa5-951380beaa95"
      },
      "source": [
        "sn.set(style='ticks', color_codes=True)\n",
        "plt.figure(figsize=(14, 12))\n",
        "sn.heatmap(wine_dataset.corr(), \n",
        "            linewidths=0.1, \n",
        "            square=True, \n",
        "            linecolor='white', \n",
        "            annot=True)\n",
        "plt.show()"
      ],
      "execution_count": null,
      "outputs": [
        {
          "output_type": "display_data",
          "data": {
            "image/png": "[encoded data removed]",
            "text/plain": [
              "<Figure size 1008x864 with 2 Axes>"
            ]
          },
          "metadata": {
            "tags": []
          }
        }
      ]
    },
    {
      "cell_type": "markdown",
      "metadata": {
        "id": "QcYme4a-P34F"
      },
      "source": [
        "Agora, vamos verificar se há alguma ocorrência de valores nulos"
      ]
    },
    {
      "cell_type": "code",
      "metadata": {
        "colab": {
          "base_uri": "https://localhost:8080/"
        },
        "id": "YKz1yF7GP-L_",
        "outputId": "2d8c0fbb-f98d-44fb-f084-70b13efe1e1b"
      },
      "source": [
        "# Verificação de valores nulos\n",
        "pd.isnull(wine_dataset).sum()"
      ],
      "execution_count": null,
      "outputs": [
        {
          "output_type": "execute_result",
          "data": {
            "text/plain": [
              "alcohol                         0\n",
              "malic acid                      0\n",
              "ash                             0\n",
              "alcalinity of ash               0\n",
              "magnesium                       0\n",
              "total phenols                   0\n",
              "flavanoids                      0\n",
              "nonflavanoid phenols            0\n",
              "proanthocyanins                 0\n",
              "color intensity                 0\n",
              "hue                             0\n",
              "OD280/OD315 of diluted wines    0\n",
              "proline                         0\n",
              "dtype: int64"
            ]
          },
          "metadata": {
            "tags": []
          },
          "execution_count": 7
        }
      ]
    },
    {
      "cell_type": "markdown",
      "metadata": {
        "id": "0GMu8dHjQF8l"
      },
      "source": [
        "Podemos notar que a base não possui valores nulos em sua composição. Em seguida, vamos verificar a ocorrência de possíveis _outliers_, isto é, dados que se distanciam drasticamente dos demais dados da amostra. Para isso, iremos plotar um _boxplot_"
      ]
    },
    {
      "cell_type": "code",
      "metadata": {
        "colab": {
          "base_uri": "https://localhost:8080/",
          "height": 287
        },
        "id": "o1VWKm9SRSD4",
        "outputId": "b4f2c20e-e64a-41f5-b9bb-a1a88cd8d032"
      },
      "source": [
        "# Plotagem do boxplot da coluna 'magnesium'\n",
        "wine_dataset.boxplot()"
      ],
      "execution_count": null,
      "outputs": [
        {
          "output_type": "execute_result",
          "data": {
            "text/plain": [
              "<matplotlib.axes._subplots.AxesSubplot at 0x7fdb023d31d0>"
            ]
          },
          "metadata": {
            "tags": []
          },
          "execution_count": 8
        },
        {
          "output_type": "display_data",
          "data": {
            "image/png": "[encoded data removed]",
            "text/plain": [
              "<Figure size 432x288 with 1 Axes>"
            ]
          },
          "metadata": {
            "tags": []
          }
        }
      ]
    },
    {
      "cell_type": "markdown",
      "metadata": {
        "id": "5eT5bljpUe6r"
      },
      "source": [
        "Após uma verificação em toda a base de dados, foi constatado que as únicas colunas com presença significativa de _outliers_ foram a **alcalinity of ash** e a **magnesium*. Entretanto, iremos normalizar toda a base"
      ]
    },
    {
      "cell_type": "markdown",
      "metadata": {
        "id": "OgB-OfclGklR"
      },
      "source": [
        "Vamos utilizar o método `StandardScaler`, que leva em consideração a média e o desvio padrão dos atributos"
      ]
    },
    {
      "cell_type": "code",
      "metadata": {
        "colab": {
          "base_uri": "https://localhost:8080/",
          "height": 453
        },
        "id": "1Au8txEMGklj",
        "outputId": "ace677b9-83ab-42ab-e21e-f31240627136"
      },
      "source": [
        "# Armazenando os valores da média e do desvio padrão\n",
        "colunas_mean = wine_dataset.mean()\n",
        "colunas_std = wine_dataset.std()\n",
        "# Criação da base de dados normalizada\n",
        "wine_dataset_norm = (wine_dataset - colunas_mean) / colunas_std\n",
        "wine_dataset_norm"
      ],
      "execution_count": null,
      "outputs": [
        {
          "output_type": "execute_result",
          "data": {
            "text/html": [
              "<div>\n",
              "<style scoped>\n",
              "    .dataframe tbody tr th:only-of-type {\n",
              "        vertical-align: middle;\n",
              "    }\n",
              "\n",
              "    .dataframe tbody tr th {\n",
              "        vertical-align: top;\n",
              "    }\n",
              "\n",
              "    .dataframe thead th {\n",
              "        text-align: right;\n",
              "    }\n",
              "</style>\n",
              "<table border=\"1\" class=\"dataframe\">\n",
              "  <thead>\n",
              "    <tr style=\"text-align: right;\">\n",
              "      <th></th>\n",
              "      <th>alcohol</th>\n",
              "      <th>malic acid</th>\n",
              "      <th>ash</th>\n",
              "      <th>alcalinity of ash</th>\n",
              "      <th>magnesium</th>\n",
              "      <th>total phenols</th>\n",
              "      <th>flavanoids</th>\n",
              "      <th>nonflavanoid phenols</th>\n",
              "      <th>proanthocyanins</th>\n",
              "      <th>color intensity</th>\n",
              "      <th>hue</th>\n",
              "      <th>OD280/OD315 of diluted wines</th>\n",
              "      <th>proline</th>\n",
              "    </tr>\n",
              "  </thead>\n",
              "  <tbody>\n",
              "    <tr>\n",
              "      <th>0</th>\n",
              "      <td>1.514341</td>\n",
              "      <td>-0.560668</td>\n",
              "      <td>0.231400</td>\n",
              "      <td>-1.166303</td>\n",
              "      <td>1.908522</td>\n",
              "      <td>0.806722</td>\n",
              "      <td>1.031908</td>\n",
              "      <td>-0.657708</td>\n",
              "      <td>1.221438</td>\n",
              "      <td>0.251009</td>\n",
              "      <td>0.361158</td>\n",
              "      <td>1.842721</td>\n",
              "      <td>1.010159</td>\n",
              "    </tr>\n",
              "    <tr>\n",
              "      <th>1</th>\n",
              "      <td>0.245597</td>\n",
              "      <td>-0.498009</td>\n",
              "      <td>-0.825667</td>\n",
              "      <td>-2.483841</td>\n",
              "      <td>0.018094</td>\n",
              "      <td>0.567048</td>\n",
              "      <td>0.731565</td>\n",
              "      <td>-0.818411</td>\n",
              "      <td>-0.543189</td>\n",
              "      <td>-0.292496</td>\n",
              "      <td>0.404908</td>\n",
              "      <td>1.110317</td>\n",
              "      <td>0.962526</td>\n",
              "    </tr>\n",
              "    <tr>\n",
              "      <th>2</th>\n",
              "      <td>0.196325</td>\n",
              "      <td>0.021172</td>\n",
              "      <td>1.106214</td>\n",
              "      <td>-0.267982</td>\n",
              "      <td>0.088110</td>\n",
              "      <td>0.806722</td>\n",
              "      <td>1.212114</td>\n",
              "      <td>-0.497005</td>\n",
              "      <td>2.129959</td>\n",
              "      <td>0.268263</td>\n",
              "      <td>0.317409</td>\n",
              "      <td>0.786369</td>\n",
              "      <td>1.391224</td>\n",
              "    </tr>\n",
              "    <tr>\n",
              "      <th>3</th>\n",
              "      <td>1.686791</td>\n",
              "      <td>-0.345835</td>\n",
              "      <td>0.486554</td>\n",
              "      <td>-0.806975</td>\n",
              "      <td>0.928300</td>\n",
              "      <td>2.484437</td>\n",
              "      <td>1.462399</td>\n",
              "      <td>-0.979113</td>\n",
              "      <td>1.029251</td>\n",
              "      <td>1.182732</td>\n",
              "      <td>-0.426341</td>\n",
              "      <td>1.180741</td>\n",
              "      <td>2.328007</td>\n",
              "    </tr>\n",
              "    <tr>\n",
              "      <th>4</th>\n",
              "      <td>0.294868</td>\n",
              "      <td>0.227053</td>\n",
              "      <td>1.835226</td>\n",
              "      <td>0.450674</td>\n",
              "      <td>1.278379</td>\n",
              "      <td>0.806722</td>\n",
              "      <td>0.661485</td>\n",
              "      <td>0.226158</td>\n",
              "      <td>0.400275</td>\n",
              "      <td>-0.318377</td>\n",
              "      <td>0.361158</td>\n",
              "      <td>0.448336</td>\n",
              "      <td>-0.037767</td>\n",
              "    </tr>\n",
              "    <tr>\n",
              "      <th>...</th>\n",
              "      <td>...</td>\n",
              "      <td>...</td>\n",
              "      <td>...</td>\n",
              "      <td>...</td>\n",
              "      <td>...</td>\n",
              "      <td>...</td>\n",
              "      <td>...</td>\n",
              "      <td>...</td>\n",
              "      <td>...</td>\n",
              "      <td>...</td>\n",
              "      <td>...</td>\n",
              "      <td>...</td>\n",
              "      <td>...</td>\n",
              "    </tr>\n",
              "    <tr>\n",
              "      <th>173</th>\n",
              "      <td>0.873810</td>\n",
              "      <td>2.966176</td>\n",
              "      <td>0.304301</td>\n",
              "      <td>0.300954</td>\n",
              "      <td>-0.331985</td>\n",
              "      <td>-0.982841</td>\n",
              "      <td>-1.420891</td>\n",
              "      <td>1.270726</td>\n",
              "      <td>-0.927563</td>\n",
              "      <td>1.139596</td>\n",
              "      <td>-1.388840</td>\n",
              "      <td>-1.227742</td>\n",
              "      <td>-0.021890</td>\n",
              "    </tr>\n",
              "    <tr>\n",
              "      <th>174</th>\n",
              "      <td>0.491955</td>\n",
              "      <td>1.408636</td>\n",
              "      <td>0.413653</td>\n",
              "      <td>1.049555</td>\n",
              "      <td>0.158126</td>\n",
              "      <td>-0.791103</td>\n",
              "      <td>-1.280731</td>\n",
              "      <td>0.547563</td>\n",
              "      <td>-0.316058</td>\n",
              "      <td>0.967055</td>\n",
              "      <td>-1.126341</td>\n",
              "      <td>-1.481267</td>\n",
              "      <td>0.009866</td>\n",
              "    </tr>\n",
              "    <tr>\n",
              "      <th>175</th>\n",
              "      <td>0.331822</td>\n",
              "      <td>1.739837</td>\n",
              "      <td>-0.388260</td>\n",
              "      <td>0.151234</td>\n",
              "      <td>1.418411</td>\n",
              "      <td>-1.126646</td>\n",
              "      <td>-1.340800</td>\n",
              "      <td>0.547563</td>\n",
              "      <td>-0.420888</td>\n",
              "      <td>2.217979</td>\n",
              "      <td>-1.607590</td>\n",
              "      <td>-1.481267</td>\n",
              "      <td>0.279786</td>\n",
              "    </tr>\n",
              "    <tr>\n",
              "      <th>176</th>\n",
              "      <td>0.208643</td>\n",
              "      <td>0.227053</td>\n",
              "      <td>0.012696</td>\n",
              "      <td>0.151234</td>\n",
              "      <td>1.418411</td>\n",
              "      <td>-1.030776</td>\n",
              "      <td>-1.350811</td>\n",
              "      <td>1.351077</td>\n",
              "      <td>-0.228701</td>\n",
              "      <td>1.829761</td>\n",
              "      <td>-1.563840</td>\n",
              "      <td>-1.396759</td>\n",
              "      <td>0.295664</td>\n",
              "    </tr>\n",
              "    <tr>\n",
              "      <th>177</th>\n",
              "      <td>1.391162</td>\n",
              "      <td>1.578712</td>\n",
              "      <td>1.361368</td>\n",
              "      <td>1.498716</td>\n",
              "      <td>-0.261969</td>\n",
              "      <td>-0.391646</td>\n",
              "      <td>-1.270720</td>\n",
              "      <td>1.592131</td>\n",
              "      <td>-0.420888</td>\n",
              "      <td>1.786626</td>\n",
              "      <td>-1.520090</td>\n",
              "      <td>-1.424928</td>\n",
              "      <td>-0.593486</td>\n",
              "    </tr>\n",
              "  </tbody>\n",
              "</table>\n",
              "<p>178 rows × 13 columns</p>\n",
              "</div>"
            ],
            "text/plain": [
              "      alcohol  malic acid  ...  OD280/OD315 of diluted wines   proline\n",
              "0    1.514341   -0.560668  ...                      1.842721  1.010159\n",
              "1    0.245597   -0.498009  ...                      1.110317  0.962526\n",
              "2    0.196325    0.021172  ...                      0.786369  1.391224\n",
              "3    1.686791   -0.345835  ...                      1.180741  2.328007\n",
              "4    0.294868    0.227053  ...                      0.448336 -0.037767\n",
              "..        ...         ...  ...                           ...       ...\n",
              "173  0.873810    2.966176  ...                     -1.227742 -0.021890\n",
              "174  0.491955    1.408636  ...                     -1.481267  0.009866\n",
              "175  0.331822    1.739837  ...                     -1.481267  0.279786\n",
              "176  0.208643    0.227053  ...                     -1.396759  0.295664\n",
              "177  1.391162    1.578712  ...                     -1.424928 -0.593486\n",
              "\n",
              "[178 rows x 13 columns]"
            ]
          },
          "metadata": {
            "tags": []
          },
          "execution_count": 38
        }
      ]
    },
    {
      "cell_type": "markdown",
      "metadata": {
        "id": "X806R-WOwYIZ"
      },
      "source": [
        "Ao longo do desenvolvimento das aplicações, ambos os datasets (pré e pós-normalizado) serão utilizados, para comparação entre os resultados obtidos. Iremos, agora, para as aplicações"
      ]
    },
    {
      "cell_type": "markdown",
      "metadata": {
        "id": "UWFsovhSrdnq"
      },
      "source": [
        "### **K-means**\n",
        "---"
      ]
    },
    {
      "cell_type": "markdown",
      "metadata": {
        "id": "k-5ewwlrrdoI"
      },
      "source": [
        "Primeiramente, iremos utilizar a base de dados pré-normalizada -- `wine_dataset`"
      ]
    },
    {
      "cell_type": "markdown",
      "metadata": {
        "id": "by7wyvovtysr"
      },
      "source": [
        "Importando as bibliotecas `matplotlib`, `numpy` e `KMeans` para realizarmos a construção do modelo e a visualização dos resultados"
      ]
    },
    {
      "cell_type": "code",
      "metadata": {
        "id": "tCFICeKKuKvk"
      },
      "source": [
        "import matplotlib.pyplot as plt\n",
        "import numpy as np\n",
        "from sklearn.cluster import KMeans"
      ],
      "execution_count": null,
      "outputs": []
    },
    {
      "cell_type": "markdown",
      "metadata": {
        "id": "DOWf3D97rdoJ"
      },
      "source": [
        "Criando a variável que irá receber os atributos"
      ]
    },
    {
      "cell_type": "code",
      "metadata": {
        "colab": {
          "base_uri": "https://localhost:8080/",
          "height": 436
        },
        "id": "gIKCjzOyrdoK",
        "outputId": "b3fb6df8-421d-41c1-e607-d498d6b938c4"
      },
      "source": [
        "atributos = wine_dataset.iloc[:, 0:13]\n",
        "atributos"
      ],
      "execution_count": null,
      "outputs": [
        {
          "output_type": "execute_result",
          "data": {
            "text/html": [
              "<div>\n",
              "<style scoped>\n",
              "    .dataframe tbody tr th:only-of-type {\n",
              "        vertical-align: middle;\n",
              "    }\n",
              "\n",
              "    .dataframe tbody tr th {\n",
              "        vertical-align: top;\n",
              "    }\n",
              "\n",
              "    .dataframe thead th {\n",
              "        text-align: right;\n",
              "    }\n",
              "</style>\n",
              "<table border=\"1\" class=\"dataframe\">\n",
              "  <thead>\n",
              "    <tr style=\"text-align: right;\">\n",
              "      <th></th>\n",
              "      <th>alcohol</th>\n",
              "      <th>malic acid</th>\n",
              "      <th>ash</th>\n",
              "      <th>alcalinity of ash</th>\n",
              "      <th>magnesium</th>\n",
              "      <th>total phenols</th>\n",
              "      <th>flavanoids</th>\n",
              "      <th>nonflavanoid phenols</th>\n",
              "      <th>proanthocyanins</th>\n",
              "      <th>color intensity</th>\n",
              "      <th>hue</th>\n",
              "      <th>OD280/OD315 of diluted wines</th>\n",
              "      <th>proline</th>\n",
              "    </tr>\n",
              "  </thead>\n",
              "  <tbody>\n",
              "    <tr>\n",
              "      <th>0</th>\n",
              "      <td>14.23</td>\n",
              "      <td>1.71</td>\n",
              "      <td>2.43</td>\n",
              "      <td>15.6</td>\n",
              "      <td>0.783951</td>\n",
              "      <td>2.80</td>\n",
              "      <td>3.06</td>\n",
              "      <td>0.28</td>\n",
              "      <td>2.29</td>\n",
              "      <td>5.64</td>\n",
              "      <td>1.04</td>\n",
              "      <td>3.92</td>\n",
              "      <td>0.633929</td>\n",
              "    </tr>\n",
              "    <tr>\n",
              "      <th>1</th>\n",
              "      <td>13.20</td>\n",
              "      <td>1.78</td>\n",
              "      <td>2.14</td>\n",
              "      <td>11.2</td>\n",
              "      <td>0.617284</td>\n",
              "      <td>2.65</td>\n",
              "      <td>2.76</td>\n",
              "      <td>0.26</td>\n",
              "      <td>1.28</td>\n",
              "      <td>4.38</td>\n",
              "      <td>1.05</td>\n",
              "      <td>3.40</td>\n",
              "      <td>0.625000</td>\n",
              "    </tr>\n",
              "    <tr>\n",
              "      <th>2</th>\n",
              "      <td>13.16</td>\n",
              "      <td>2.36</td>\n",
              "      <td>2.67</td>\n",
              "      <td>18.6</td>\n",
              "      <td>0.623457</td>\n",
              "      <td>2.80</td>\n",
              "      <td>3.24</td>\n",
              "      <td>0.30</td>\n",
              "      <td>2.81</td>\n",
              "      <td>5.68</td>\n",
              "      <td>1.03</td>\n",
              "      <td>3.17</td>\n",
              "      <td>0.705357</td>\n",
              "    </tr>\n",
              "    <tr>\n",
              "      <th>3</th>\n",
              "      <td>14.37</td>\n",
              "      <td>1.95</td>\n",
              "      <td>2.50</td>\n",
              "      <td>16.8</td>\n",
              "      <td>0.697531</td>\n",
              "      <td>3.85</td>\n",
              "      <td>3.49</td>\n",
              "      <td>0.24</td>\n",
              "      <td>2.18</td>\n",
              "      <td>7.80</td>\n",
              "      <td>0.86</td>\n",
              "      <td>3.45</td>\n",
              "      <td>0.880952</td>\n",
              "    </tr>\n",
              "    <tr>\n",
              "      <th>4</th>\n",
              "      <td>13.24</td>\n",
              "      <td>2.59</td>\n",
              "      <td>2.87</td>\n",
              "      <td>21.0</td>\n",
              "      <td>0.728395</td>\n",
              "      <td>2.80</td>\n",
              "      <td>2.69</td>\n",
              "      <td>0.39</td>\n",
              "      <td>1.82</td>\n",
              "      <td>4.32</td>\n",
              "      <td>1.04</td>\n",
              "      <td>2.93</td>\n",
              "      <td>0.437500</td>\n",
              "    </tr>\n",
              "    <tr>\n",
              "      <th>...</th>\n",
              "      <td>...</td>\n",
              "      <td>...</td>\n",
              "      <td>...</td>\n",
              "      <td>...</td>\n",
              "      <td>...</td>\n",
              "      <td>...</td>\n",
              "      <td>...</td>\n",
              "      <td>...</td>\n",
              "      <td>...</td>\n",
              "      <td>...</td>\n",
              "      <td>...</td>\n",
              "      <td>...</td>\n",
              "      <td>...</td>\n",
              "    </tr>\n",
              "    <tr>\n",
              "      <th>173</th>\n",
              "      <td>13.71</td>\n",
              "      <td>5.65</td>\n",
              "      <td>2.45</td>\n",
              "      <td>20.5</td>\n",
              "      <td>0.586420</td>\n",
              "      <td>1.68</td>\n",
              "      <td>0.61</td>\n",
              "      <td>0.52</td>\n",
              "      <td>1.06</td>\n",
              "      <td>7.70</td>\n",
              "      <td>0.64</td>\n",
              "      <td>1.74</td>\n",
              "      <td>0.440476</td>\n",
              "    </tr>\n",
              "    <tr>\n",
              "      <th>174</th>\n",
              "      <td>13.40</td>\n",
              "      <td>3.91</td>\n",
              "      <td>2.48</td>\n",
              "      <td>23.0</td>\n",
              "      <td>0.629630</td>\n",
              "      <td>1.80</td>\n",
              "      <td>0.75</td>\n",
              "      <td>0.43</td>\n",
              "      <td>1.41</td>\n",
              "      <td>7.30</td>\n",
              "      <td>0.70</td>\n",
              "      <td>1.56</td>\n",
              "      <td>0.446429</td>\n",
              "    </tr>\n",
              "    <tr>\n",
              "      <th>175</th>\n",
              "      <td>13.27</td>\n",
              "      <td>4.28</td>\n",
              "      <td>2.26</td>\n",
              "      <td>20.0</td>\n",
              "      <td>0.740741</td>\n",
              "      <td>1.59</td>\n",
              "      <td>0.69</td>\n",
              "      <td>0.43</td>\n",
              "      <td>1.35</td>\n",
              "      <td>10.20</td>\n",
              "      <td>0.59</td>\n",
              "      <td>1.56</td>\n",
              "      <td>0.497024</td>\n",
              "    </tr>\n",
              "    <tr>\n",
              "      <th>176</th>\n",
              "      <td>13.17</td>\n",
              "      <td>2.59</td>\n",
              "      <td>2.37</td>\n",
              "      <td>20.0</td>\n",
              "      <td>0.740741</td>\n",
              "      <td>1.65</td>\n",
              "      <td>0.68</td>\n",
              "      <td>0.53</td>\n",
              "      <td>1.46</td>\n",
              "      <td>9.30</td>\n",
              "      <td>0.60</td>\n",
              "      <td>1.62</td>\n",
              "      <td>0.500000</td>\n",
              "    </tr>\n",
              "    <tr>\n",
              "      <th>177</th>\n",
              "      <td>14.13</td>\n",
              "      <td>4.10</td>\n",
              "      <td>2.74</td>\n",
              "      <td>24.5</td>\n",
              "      <td>0.592593</td>\n",
              "      <td>2.05</td>\n",
              "      <td>0.76</td>\n",
              "      <td>0.56</td>\n",
              "      <td>1.35</td>\n",
              "      <td>9.20</td>\n",
              "      <td>0.61</td>\n",
              "      <td>1.60</td>\n",
              "      <td>0.333333</td>\n",
              "    </tr>\n",
              "  </tbody>\n",
              "</table>\n",
              "<p>178 rows × 13 columns</p>\n",
              "</div>"
            ],
            "text/plain": [
              "     alcohol  malic acid   ash  ...   hue  OD280/OD315 of diluted wines   proline\n",
              "0      14.23        1.71  2.43  ...  1.04                          3.92  0.633929\n",
              "1      13.20        1.78  2.14  ...  1.05                          3.40  0.625000\n",
              "2      13.16        2.36  2.67  ...  1.03                          3.17  0.705357\n",
              "3      14.37        1.95  2.50  ...  0.86                          3.45  0.880952\n",
              "4      13.24        2.59  2.87  ...  1.04                          2.93  0.437500\n",
              "..       ...         ...   ...  ...   ...                           ...       ...\n",
              "173    13.71        5.65  2.45  ...  0.64                          1.74  0.440476\n",
              "174    13.40        3.91  2.48  ...  0.70                          1.56  0.446429\n",
              "175    13.27        4.28  2.26  ...  0.59                          1.56  0.497024\n",
              "176    13.17        2.59  2.37  ...  0.60                          1.62  0.500000\n",
              "177    14.13        4.10  2.74  ...  0.61                          1.60  0.333333\n",
              "\n",
              "[178 rows x 13 columns]"
            ]
          },
          "metadata": {
            "tags": []
          },
          "execution_count": 62
        }
      ]
    },
    {
      "cell_type": "markdown",
      "metadata": {
        "id": "oe7RevWUrdoL"
      },
      "source": [
        "Conferindo o número de _clusters_ que serão usados no algoritmo"
      ]
    },
    {
      "cell_type": "code",
      "metadata": {
        "id": "Q7_MoxDjrdoM"
      },
      "source": [
        "# Recebe a distância dos pontos até o centroide\n",
        "wcss = []\n",
        "\n",
        "for i in range(1, 20):\n",
        "    kmeans = KMeans(n_clusters = i, random_state = 0)\n",
        "    # Treinamento\n",
        "    kmeans.fit(atributos)\n",
        "    # Acréscimo da distância à variável 'wcss'\n",
        "    wcss.append(kmeans.inertia_)"
      ],
      "execution_count": null,
      "outputs": []
    },
    {
      "cell_type": "code",
      "metadata": {
        "colab": {
          "base_uri": "https://localhost:8080/",
          "height": 302
        },
        "id": "m4xZAd54yXAW",
        "outputId": "8aeacdfd-c661-49b3-ba91-16d16f08f865"
      },
      "source": [
        "plt.plot(range(1, 20), wcss)\n",
        "plt.xlabel('Número de clusters')\n",
        "plt.ylabel('WCSS')"
      ],
      "execution_count": null,
      "outputs": [
        {
          "output_type": "execute_result",
          "data": {
            "text/plain": [
              "Text(0, 0.5, 'WCSS')"
            ]
          },
          "metadata": {
            "tags": []
          },
          "execution_count": 64
        },
        {
          "output_type": "display_data",
          "data": {
            "image/png": "[encoded data removed]",
            "text/plain": [
              "<Figure size 432x288 with 1 Axes>"
            ]
          },
          "metadata": {
            "tags": []
          }
        }
      ]
    },
    {
      "cell_type": "markdown",
      "metadata": {
        "id": "CmM1ObW74zC8"
      },
      "source": [
        "Iremos escolher 3 _clusters_, uma vez que a variação da distância entre 2 e 5 _clusters_ é muito pequena em comparação com os valores anteriores"
      ]
    },
    {
      "cell_type": "markdown",
      "metadata": {
        "id": "5k8Z1fC3J8qY"
      },
      "source": [
        "Criando uma instância do `KMeans` com 3 _clusters_ e `random_state = 0`, para garantir a replicação dos resultados por terceiros"
      ]
    },
    {
      "cell_type": "code",
      "metadata": {
        "colab": {
          "base_uri": "https://localhost:8080/"
        },
        "id": "fQPZ6m3lzDb3",
        "outputId": "1140f650-a3ba-40bd-bb74-0335816ec03d"
      },
      "source": [
        "kmeans = KMeans(n_clusters = 3, random_state = 0)\n",
        "previsoes = kmeans.fit_predict(atributos)\n",
        "previsoes"
      ],
      "execution_count": null,
      "outputs": [
        {
          "output_type": "execute_result",
          "data": {
            "text/plain": [
              "array([0, 0, 0, 0, 1, 0, 0, 0, 0, 0, 0, 0, 0, 0, 0, 0, 0, 0, 0, 0, 0, 0,\n",
              "       0, 0, 1, 1, 0, 0, 0, 0, 1, 0, 0, 0, 0, 1, 0, 0, 0, 0, 0, 0, 0, 0,\n",
              "       0, 0, 0, 0, 0, 0, 0, 0, 0, 0, 0, 0, 0, 0, 0, 0, 0, 0, 0, 0, 0, 0,\n",
              "       0, 0, 0, 0, 1, 1, 1, 1, 1, 0, 0, 0, 0, 1, 0, 0, 1, 1, 0, 0, 1, 1,\n",
              "       1, 1, 0, 1, 1, 0, 0, 0, 1, 0, 0, 0, 0, 0, 1, 1, 1, 1, 0, 1, 0, 1,\n",
              "       1, 1, 1, 1, 1, 1, 1, 1, 0, 1, 1, 1, 1, 1, 1, 1, 1, 1, 1, 1, 0, 2,\n",
              "       1, 1, 0, 2, 1, 1, 2, 1, 1, 2, 1, 1, 2, 1, 2, 2, 2, 2, 2, 2, 2, 2,\n",
              "       2, 2, 2, 2, 2, 2, 2, 2, 1, 0, 2, 2, 2, 2, 2, 2, 0, 2, 2, 2, 2, 2,\n",
              "       2, 2], dtype=int32)"
            ]
          },
          "metadata": {
            "tags": []
          },
          "execution_count": 125
        }
      ]
    },
    {
      "cell_type": "markdown",
      "metadata": {
        "id": "LDh6_FPXKO7G"
      },
      "source": [
        "Convertendo os atributos para um array, a fim de visualizarmos as instâncias no gráfico"
      ]
    },
    {
      "cell_type": "code",
      "metadata": {
        "colab": {
          "base_uri": "https://localhost:8080/"
        },
        "id": "VYyN2qVsC567",
        "outputId": "4866205c-79e0-438a-c528-fcc492b8ffba"
      },
      "source": [
        "atributos = np.array(atributos)\n",
        "atributos"
      ],
      "execution_count": null,
      "outputs": [
        {
          "output_type": "execute_result",
          "data": {
            "text/plain": [
              "array([[14.23      ,  1.71      ,  2.43      , ...,  1.04      ,\n",
              "         3.92      ,  0.63392857],\n",
              "       [13.2       ,  1.78      ,  2.14      , ...,  1.05      ,\n",
              "         3.4       ,  0.625     ],\n",
              "       [13.16      ,  2.36      ,  2.67      , ...,  1.03      ,\n",
              "         3.17      ,  0.70535714],\n",
              "       ...,\n",
              "       [13.27      ,  4.28      ,  2.26      , ...,  0.59      ,\n",
              "         1.56      ,  0.49702381],\n",
              "       [13.17      ,  2.59      ,  2.37      , ...,  0.6       ,\n",
              "         1.62      ,  0.5       ],\n",
              "       [14.13      ,  4.1       ,  2.74      , ...,  0.61      ,\n",
              "         1.6       ,  0.33333333]])"
            ]
          },
          "metadata": {
            "tags": []
          },
          "execution_count": 126
        }
      ]
    },
    {
      "cell_type": "markdown",
      "metadata": {
        "id": "Bj7UyrT4KV2o"
      },
      "source": [
        "Plotagem dos _clusters_ em 2D, a partir das colunas **alcohol** e **malic acid**"
      ]
    },
    {
      "cell_type": "code",
      "metadata": {
        "colab": {
          "base_uri": "https://localhost:8080/",
          "height": 304
        },
        "id": "OpE6dBmnzLXP",
        "outputId": "6573d115-b0ea-4781-b663-0ae99f40cae9"
      },
      "source": [
        "plt.scatter(atributos[previsoes == 0, 0], atributos[previsoes == 0, 1], s = 100, c = 'red', label = 'Cluster 1')\n",
        "plt.scatter(atributos[previsoes == 1, 0], atributos[previsoes == 1, 1], s = 100, c = 'orange', label = 'Cluster 2')\n",
        "plt.scatter(atributos[previsoes == 2, 0], atributos[previsoes == 2, 1], s = 100, c = 'green', label = 'Cluster 3')\n",
        "plt.xlabel('Alcohol')\n",
        "plt.ylabel('Malic Acid')\n",
        "plt.legend()"
      ],
      "execution_count": null,
      "outputs": [
        {
          "output_type": "execute_result",
          "data": {
            "text/plain": [
              "<matplotlib.legend.Legend at 0x7fdafa2b6e48>"
            ]
          },
          "metadata": {
            "tags": []
          },
          "execution_count": 127
        },
        {
          "output_type": "display_data",
          "data": {
            "image/png": "[encoded data removed]",
            "text/plain": [
              "<Figure size 432x288 with 1 Axes>"
            ]
          },
          "metadata": {
            "tags": []
          }
        }
      ]
    },
    {
      "cell_type": "markdown",
      "metadata": {
        "id": "aMk1wgv7JC9c"
      },
      "source": [
        "Agora, vamos avaliar o modelo a partir da métrica `silhouette_score`"
      ]
    },
    {
      "cell_type": "code",
      "metadata": {
        "id": "wnQIzcMVG_nt"
      },
      "source": [
        "from sklearn.metrics import silhouette_score"
      ],
      "execution_count": null,
      "outputs": []
    },
    {
      "cell_type": "code",
      "metadata": {
        "colab": {
          "base_uri": "https://localhost:8080/"
        },
        "id": "sLWG55pAHDee",
        "outputId": "33a8de09-23de-4b6a-9285-e2b2c2c86d6e"
      },
      "source": [
        "silhueta = silhouette_score(atributos, previsoes)\n",
        "silhueta"
      ],
      "execution_count": null,
      "outputs": [
        {
          "output_type": "execute_result",
          "data": {
            "text/plain": [
              "0.3360903354475261"
            ]
          },
          "metadata": {
            "tags": []
          },
          "execution_count": 129
        }
      ]
    },
    {
      "cell_type": "markdown",
      "metadata": {
        "id": "qqCYu8e_We0X"
      },
      "source": [
        "Antes, vamos à uma breve descrição dos possíveis resultados de silhueta\n",
        "\n",
        "|                s(i)               | Descrição |\n",
        "|:------------------------------------:|:---------:|\n",
        "|                  0,71 -- 1,00                 |    Uma estrutura forte foi encontrada       |\n",
        "|                  0,51 -- 0,70               |       Uma estrutura razoável foi encontrada    |\n",
        "|            0,26 -- 0,50      |    A estrutura é fraca e pode ser superficial. O uso de outro método é aconselhável       |\n",
        "|           <= 0,25   |  Nenhuma estrutura substancial foi encontrada         |"
      ]
    },
    {
      "cell_type": "markdown",
      "metadata": {
        "id": "ucOBdmXkrdoR"
      },
      "source": [
        "Podemos notar uma silhueta de 0.3361, o que indica que a estrutura encontrada pelo modelo é fraca e pode representar um modelo superficial dos dados. Sendo assim, é recomendável a utilização de outros métodos de agrupamento para o banco de dados em questão"
      ]
    },
    {
      "cell_type": "markdown",
      "metadata": {
        "id": "55qEICu9rdoR"
      },
      "source": [
        "Os mesmos procedimentos foram feitos com a base de dados normalizada -- `wine_dataset_norm`. O resultado foi o seguinte:\n",
        "\n",
        "* Silhueta: 0,2848"
      ]
    },
    {
      "cell_type": "markdown",
      "metadata": {
        "id": "MFH-I9AjrdoR"
      },
      "source": [
        "Comparando a silhueta, podemos inferir que o resultado do modelo que usou a base normalizada obteve o mesmo intervalo de silhueta da base não normalizada, o que indica que a estrutura de agrupamento é fraca e pode representar um modelo superficial dos dados"
      ]
    },
    {
      "cell_type": "markdown",
      "metadata": {
        "id": "4Gv1IPnIO8eM"
      },
      "source": [
        "### **Agrupamento hierárquico**\n",
        "---"
      ]
    },
    {
      "cell_type": "markdown",
      "metadata": {
        "id": "RmsAwfjXO8eY"
      },
      "source": [
        "Primeiramente, iremos utilizar a base de dados pré-normalizada -- `wine_dataset`"
      ]
    },
    {
      "cell_type": "markdown",
      "metadata": {
        "id": "HGUuui-9O8eZ"
      },
      "source": [
        "Importando as bibliotecas `matplotlib`, `numpy` e `KMeans`; e as funções `dendrogram` e `linkage` para realizarmos a construção do modelo e a visualização dos resultados"
      ]
    },
    {
      "cell_type": "code",
      "metadata": {
        "id": "OFvvrczYO8ea"
      },
      "source": [
        "import matplotlib.pyplot as plt\n",
        "import numpy as np\n",
        "from scipy.cluster.hierarchy import dendrogram, linkage\n",
        "from sklearn.cluster import AgglomerativeClustering"
      ],
      "execution_count": null,
      "outputs": []
    },
    {
      "cell_type": "markdown",
      "metadata": {
        "id": "i-WY-cRtO8ea"
      },
      "source": [
        "Criando a variável que irá receber os atributos"
      ]
    },
    {
      "cell_type": "code",
      "metadata": {
        "colab": {
          "base_uri": "https://localhost:8080/",
          "height": 436
        },
        "id": "uRC2dGNtO8eb",
        "outputId": "b65a2287-f682-4e34-f546-026f14081722"
      },
      "source": [
        "atributos = wine_dataset.iloc[:, 0:13]\n",
        "atributos"
      ],
      "execution_count": null,
      "outputs": [
        {
          "output_type": "execute_result",
          "data": {
            "text/html": [
              "<div>\n",
              "<style scoped>\n",
              "    .dataframe tbody tr th:only-of-type {\n",
              "        vertical-align: middle;\n",
              "    }\n",
              "\n",
              "    .dataframe tbody tr th {\n",
              "        vertical-align: top;\n",
              "    }\n",
              "\n",
              "    .dataframe thead th {\n",
              "        text-align: right;\n",
              "    }\n",
              "</style>\n",
              "<table border=\"1\" class=\"dataframe\">\n",
              "  <thead>\n",
              "    <tr style=\"text-align: right;\">\n",
              "      <th></th>\n",
              "      <th>alcohol</th>\n",
              "      <th>malic acid</th>\n",
              "      <th>ash</th>\n",
              "      <th>alcalinity of ash</th>\n",
              "      <th>magnesium</th>\n",
              "      <th>total phenols</th>\n",
              "      <th>flavanoids</th>\n",
              "      <th>nonflavanoid phenols</th>\n",
              "      <th>proanthocyanins</th>\n",
              "      <th>color intensity</th>\n",
              "      <th>hue</th>\n",
              "      <th>OD280/OD315 of diluted wines</th>\n",
              "      <th>proline</th>\n",
              "    </tr>\n",
              "  </thead>\n",
              "  <tbody>\n",
              "    <tr>\n",
              "      <th>0</th>\n",
              "      <td>14.23</td>\n",
              "      <td>1.71</td>\n",
              "      <td>2.43</td>\n",
              "      <td>15.6</td>\n",
              "      <td>0.783951</td>\n",
              "      <td>2.80</td>\n",
              "      <td>3.06</td>\n",
              "      <td>0.28</td>\n",
              "      <td>2.29</td>\n",
              "      <td>5.64</td>\n",
              "      <td>1.04</td>\n",
              "      <td>3.92</td>\n",
              "      <td>0.633929</td>\n",
              "    </tr>\n",
              "    <tr>\n",
              "      <th>1</th>\n",
              "      <td>13.20</td>\n",
              "      <td>1.78</td>\n",
              "      <td>2.14</td>\n",
              "      <td>11.2</td>\n",
              "      <td>0.617284</td>\n",
              "      <td>2.65</td>\n",
              "      <td>2.76</td>\n",
              "      <td>0.26</td>\n",
              "      <td>1.28</td>\n",
              "      <td>4.38</td>\n",
              "      <td>1.05</td>\n",
              "      <td>3.40</td>\n",
              "      <td>0.625000</td>\n",
              "    </tr>\n",
              "    <tr>\n",
              "      <th>2</th>\n",
              "      <td>13.16</td>\n",
              "      <td>2.36</td>\n",
              "      <td>2.67</td>\n",
              "      <td>18.6</td>\n",
              "      <td>0.623457</td>\n",
              "      <td>2.80</td>\n",
              "      <td>3.24</td>\n",
              "      <td>0.30</td>\n",
              "      <td>2.81</td>\n",
              "      <td>5.68</td>\n",
              "      <td>1.03</td>\n",
              "      <td>3.17</td>\n",
              "      <td>0.705357</td>\n",
              "    </tr>\n",
              "    <tr>\n",
              "      <th>3</th>\n",
              "      <td>14.37</td>\n",
              "      <td>1.95</td>\n",
              "      <td>2.50</td>\n",
              "      <td>16.8</td>\n",
              "      <td>0.697531</td>\n",
              "      <td>3.85</td>\n",
              "      <td>3.49</td>\n",
              "      <td>0.24</td>\n",
              "      <td>2.18</td>\n",
              "      <td>7.80</td>\n",
              "      <td>0.86</td>\n",
              "      <td>3.45</td>\n",
              "      <td>0.880952</td>\n",
              "    </tr>\n",
              "    <tr>\n",
              "      <th>4</th>\n",
              "      <td>13.24</td>\n",
              "      <td>2.59</td>\n",
              "      <td>2.87</td>\n",
              "      <td>21.0</td>\n",
              "      <td>0.728395</td>\n",
              "      <td>2.80</td>\n",
              "      <td>2.69</td>\n",
              "      <td>0.39</td>\n",
              "      <td>1.82</td>\n",
              "      <td>4.32</td>\n",
              "      <td>1.04</td>\n",
              "      <td>2.93</td>\n",
              "      <td>0.437500</td>\n",
              "    </tr>\n",
              "    <tr>\n",
              "      <th>...</th>\n",
              "      <td>...</td>\n",
              "      <td>...</td>\n",
              "      <td>...</td>\n",
              "      <td>...</td>\n",
              "      <td>...</td>\n",
              "      <td>...</td>\n",
              "      <td>...</td>\n",
              "      <td>...</td>\n",
              "      <td>...</td>\n",
              "      <td>...</td>\n",
              "      <td>...</td>\n",
              "      <td>...</td>\n",
              "      <td>...</td>\n",
              "    </tr>\n",
              "    <tr>\n",
              "      <th>173</th>\n",
              "      <td>13.71</td>\n",
              "      <td>5.65</td>\n",
              "      <td>2.45</td>\n",
              "      <td>20.5</td>\n",
              "      <td>0.586420</td>\n",
              "      <td>1.68</td>\n",
              "      <td>0.61</td>\n",
              "      <td>0.52</td>\n",
              "      <td>1.06</td>\n",
              "      <td>7.70</td>\n",
              "      <td>0.64</td>\n",
              "      <td>1.74</td>\n",
              "      <td>0.440476</td>\n",
              "    </tr>\n",
              "    <tr>\n",
              "      <th>174</th>\n",
              "      <td>13.40</td>\n",
              "      <td>3.91</td>\n",
              "      <td>2.48</td>\n",
              "      <td>23.0</td>\n",
              "      <td>0.629630</td>\n",
              "      <td>1.80</td>\n",
              "      <td>0.75</td>\n",
              "      <td>0.43</td>\n",
              "      <td>1.41</td>\n",
              "      <td>7.30</td>\n",
              "      <td>0.70</td>\n",
              "      <td>1.56</td>\n",
              "      <td>0.446429</td>\n",
              "    </tr>\n",
              "    <tr>\n",
              "      <th>175</th>\n",
              "      <td>13.27</td>\n",
              "      <td>4.28</td>\n",
              "      <td>2.26</td>\n",
              "      <td>20.0</td>\n",
              "      <td>0.740741</td>\n",
              "      <td>1.59</td>\n",
              "      <td>0.69</td>\n",
              "      <td>0.43</td>\n",
              "      <td>1.35</td>\n",
              "      <td>10.20</td>\n",
              "      <td>0.59</td>\n",
              "      <td>1.56</td>\n",
              "      <td>0.497024</td>\n",
              "    </tr>\n",
              "    <tr>\n",
              "      <th>176</th>\n",
              "      <td>13.17</td>\n",
              "      <td>2.59</td>\n",
              "      <td>2.37</td>\n",
              "      <td>20.0</td>\n",
              "      <td>0.740741</td>\n",
              "      <td>1.65</td>\n",
              "      <td>0.68</td>\n",
              "      <td>0.53</td>\n",
              "      <td>1.46</td>\n",
              "      <td>9.30</td>\n",
              "      <td>0.60</td>\n",
              "      <td>1.62</td>\n",
              "      <td>0.500000</td>\n",
              "    </tr>\n",
              "    <tr>\n",
              "      <th>177</th>\n",
              "      <td>14.13</td>\n",
              "      <td>4.10</td>\n",
              "      <td>2.74</td>\n",
              "      <td>24.5</td>\n",
              "      <td>0.592593</td>\n",
              "      <td>2.05</td>\n",
              "      <td>0.76</td>\n",
              "      <td>0.56</td>\n",
              "      <td>1.35</td>\n",
              "      <td>9.20</td>\n",
              "      <td>0.61</td>\n",
              "      <td>1.60</td>\n",
              "      <td>0.333333</td>\n",
              "    </tr>\n",
              "  </tbody>\n",
              "</table>\n",
              "<p>178 rows × 13 columns</p>\n",
              "</div>"
            ],
            "text/plain": [
              "     alcohol  malic acid   ash  ...   hue  OD280/OD315 of diluted wines   proline\n",
              "0      14.23        1.71  2.43  ...  1.04                          3.92  0.633929\n",
              "1      13.20        1.78  2.14  ...  1.05                          3.40  0.625000\n",
              "2      13.16        2.36  2.67  ...  1.03                          3.17  0.705357\n",
              "3      14.37        1.95  2.50  ...  0.86                          3.45  0.880952\n",
              "4      13.24        2.59  2.87  ...  1.04                          2.93  0.437500\n",
              "..       ...         ...   ...  ...   ...                           ...       ...\n",
              "173    13.71        5.65  2.45  ...  0.64                          1.74  0.440476\n",
              "174    13.40        3.91  2.48  ...  0.70                          1.56  0.446429\n",
              "175    13.27        4.28  2.26  ...  0.59                          1.56  0.497024\n",
              "176    13.17        2.59  2.37  ...  0.60                          1.62  0.500000\n",
              "177    14.13        4.10  2.74  ...  0.61                          1.60  0.333333\n",
              "\n",
              "[178 rows x 13 columns]"
            ]
          },
          "metadata": {
            "tags": []
          },
          "execution_count": 102
        }
      ]
    },
    {
      "cell_type": "markdown",
      "metadata": {
        "id": "K3P_CEBBO8eb"
      },
      "source": [
        "Conferindo o número de _clusters_ que serão usados no algoritmo"
      ]
    },
    {
      "cell_type": "code",
      "metadata": {
        "colab": {
          "base_uri": "https://localhost:8080/",
          "height": 271
        },
        "id": "KS9yklL6Qe2B",
        "outputId": "1081881c-1955-443d-c770-02dcb48545e7"
      },
      "source": [
        "dendrograma = dendrogram(linkage(atributos, method = 'ward'))"
      ],
      "execution_count": null,
      "outputs": [
        {
          "output_type": "display_data",
          "data": {
            "image/png": "[encoded data removed]",
            "text/plain": [
              "<Figure size 432x288 with 1 Axes>"
            ]
          },
          "metadata": {
            "tags": []
          }
        }
      ]
    },
    {
      "cell_type": "markdown",
      "metadata": {
        "id": "phtwaYGtUVry"
      },
      "source": [
        "Podemos notar que a linha vertical mais à direita do gráfico possui apenas três cruzamentos, número este que podemos adotar como sendo a quantidade de _clusters_"
      ]
    },
    {
      "cell_type": "markdown",
      "metadata": {
        "id": "5WWH_BxzU4Ml"
      },
      "source": [
        "Criando o modelo de agrupamento com 3 _clusters_"
      ]
    },
    {
      "cell_type": "code",
      "metadata": {
        "colab": {
          "base_uri": "https://localhost:8080/"
        },
        "id": "uAblVjT9O8ec",
        "outputId": "5b1c26bf-b5f9-4c01-824f-0285bb99f3f9"
      },
      "source": [
        "# Criando o modelo de agrupamento\n",
        "agruphier = AgglomerativeClustering(n_clusters = 3, affinity = 'euclidean',\n",
        "                                    linkage = 'ward')\n",
        "# Conferindo as previsões\n",
        "previsoes = agruphier.fit_predict(atributos)\n",
        "previsoes"
      ],
      "execution_count": null,
      "outputs": [
        {
          "output_type": "execute_result",
          "data": {
            "text/plain": [
              "array([1, 1, 0, 1, 0, 1, 1, 1, 1, 1, 1, 1, 1, 1, 1, 1, 0, 0, 1, 1, 1, 0,\n",
              "       1, 1, 0, 0, 1, 1, 0, 1, 0, 0, 1, 0, 0, 0, 1, 0, 1, 1, 1, 0, 1, 0,\n",
              "       1, 0, 1, 1, 0, 1, 1, 1, 1, 1, 1, 0, 1, 1, 1, 1, 1, 1, 1, 0, 0, 0,\n",
              "       1, 0, 1, 0, 0, 0, 0, 0, 0, 1, 1, 0, 1, 0, 0, 0, 0, 2, 0, 0, 0, 0,\n",
              "       0, 0, 0, 0, 0, 0, 0, 0, 0, 1, 0, 0, 0, 0, 0, 0, 0, 0, 0, 0, 0, 0,\n",
              "       0, 0, 0, 0, 0, 0, 0, 0, 1, 0, 0, 0, 0, 0, 0, 0, 0, 0, 0, 0, 1, 2,\n",
              "       2, 2, 1, 2, 2, 2, 2, 2, 2, 2, 2, 2, 2, 2, 2, 2, 2, 2, 2, 2, 2, 2,\n",
              "       2, 2, 2, 2, 2, 2, 2, 2, 2, 2, 2, 2, 2, 2, 2, 2, 2, 2, 2, 2, 2, 2,\n",
              "       2, 2])"
            ]
          },
          "metadata": {
            "tags": []
          },
          "execution_count": 110
        }
      ]
    },
    {
      "cell_type": "markdown",
      "metadata": {
        "id": "b5DbqkNvO8ee"
      },
      "source": [
        "Convertendo os atributos para um array, a fim de visualizarmos as instâncias no gráfico"
      ]
    },
    {
      "cell_type": "code",
      "metadata": {
        "colab": {
          "base_uri": "https://localhost:8080/"
        },
        "id": "8Z25nbpnO8ee",
        "outputId": "a89fbe5e-2b32-46eb-cf67-a68bade45160"
      },
      "source": [
        "atributos = np.array(atributos)\n",
        "atributos"
      ],
      "execution_count": null,
      "outputs": [
        {
          "output_type": "execute_result",
          "data": {
            "text/plain": [
              "array([[14.23      ,  1.71      ,  2.43      , ...,  1.04      ,\n",
              "         3.92      ,  0.63392857],\n",
              "       [13.2       ,  1.78      ,  2.14      , ...,  1.05      ,\n",
              "         3.4       ,  0.625     ],\n",
              "       [13.16      ,  2.36      ,  2.67      , ...,  1.03      ,\n",
              "         3.17      ,  0.70535714],\n",
              "       ...,\n",
              "       [13.27      ,  4.28      ,  2.26      , ...,  0.59      ,\n",
              "         1.56      ,  0.49702381],\n",
              "       [13.17      ,  2.59      ,  2.37      , ...,  0.6       ,\n",
              "         1.62      ,  0.5       ],\n",
              "       [14.13      ,  4.1       ,  2.74      , ...,  0.61      ,\n",
              "         1.6       ,  0.33333333]])"
            ]
          },
          "metadata": {
            "tags": []
          },
          "execution_count": 111
        }
      ]
    },
    {
      "cell_type": "markdown",
      "metadata": {
        "id": "V8UJzuvHO8ee"
      },
      "source": [
        "Plotagem dos _clusters_ em 2D, a partir das colunas **alcohol** e **malic acid**"
      ]
    },
    {
      "cell_type": "code",
      "metadata": {
        "colab": {
          "base_uri": "https://localhost:8080/",
          "height": 304
        },
        "id": "3A6Hw10YO8ee",
        "outputId": "8d4dde10-4836-4217-bc59-de963bdb03d5"
      },
      "source": [
        "plt.scatter(atributos[previsoes == 0, 0], atributos[previsoes == 0, 1], s = 100, c = 'red', label = 'Cluster 1')\n",
        "plt.scatter(atributos[previsoes == 1, 0], atributos[previsoes == 1, 1], s = 100, c = 'orange', label = 'Cluster 2')\n",
        "plt.scatter(atributos[previsoes == 2, 0], atributos[previsoes == 2, 1], s = 100, c = 'green', label = 'Cluster 3')\n",
        "plt.xlabel('Alcohol')\n",
        "plt.ylabel('Malic Acid')\n",
        "plt.legend()"
      ],
      "execution_count": null,
      "outputs": [
        {
          "output_type": "execute_result",
          "data": {
            "text/plain": [
              "<matplotlib.legend.Legend at 0x7fdafa1c7240>"
            ]
          },
          "metadata": {
            "tags": []
          },
          "execution_count": 112
        },
        {
          "output_type": "display_data",
          "data": {
            "image/png": "[encoded data removed]",
            "text/plain": [
              "<Figure size 432x288 with 1 Axes>"
            ]
          },
          "metadata": {
            "tags": []
          }
        }
      ]
    },
    {
      "cell_type": "markdown",
      "metadata": {
        "id": "huLlxyoZO8ef"
      },
      "source": [
        "Agora, vamos avaliar o modelo a partir da métrica `silhouette_score`"
      ]
    },
    {
      "cell_type": "code",
      "metadata": {
        "id": "2bhhWM8xO8ef"
      },
      "source": [
        "from sklearn.metrics import silhouette_score"
      ],
      "execution_count": null,
      "outputs": []
    },
    {
      "cell_type": "code",
      "metadata": {
        "colab": {
          "base_uri": "https://localhost:8080/"
        },
        "id": "3nqDT3V7O8ef",
        "outputId": "b2366e1c-142d-4d96-c8d9-3452e9e8e026"
      },
      "source": [
        "silhueta = silhouette_score(atributos, previsoes)\n",
        "silhueta"
      ],
      "execution_count": null,
      "outputs": [
        {
          "output_type": "execute_result",
          "data": {
            "text/plain": [
              "0.2908992328173456"
            ]
          },
          "metadata": {
            "tags": []
          },
          "execution_count": 114
        }
      ]
    },
    {
      "cell_type": "markdown",
      "metadata": {
        "id": "ek2l9jMyO8ej"
      },
      "source": [
        "Comparando a silhueta, podemos inferir que o resultado do modelo que usou a base normalizada obteve... "
      ]
    },
    {
      "cell_type": "markdown",
      "metadata": {
        "id": "VpbRPXUJYRME"
      },
      "source": [
        "Antes, vamos à uma breve descrição dos possíveis resultados de silhueta\n",
        "\n",
        "|                s(i)               | Descrição |\n",
        "|:------------------------------------:|:---------:|\n",
        "|                  0,71 -- 1,00                 |    Uma estrutura forte foi encontrada       |\n",
        "|                  0,51 -- 0,70               |       Uma estrutura razoável foi encontrada    |\n",
        "|            0,26 -- 0,50      |    A estrutura é fraca e pode ser superficial. O uso de outro método é aconselhável       |\n",
        "|           <= 0,25   |  Nenhuma estrutura substancial foi encontrada         |"
      ]
    },
    {
      "cell_type": "markdown",
      "metadata": {
        "id": "E4m5_lZyYRMP"
      },
      "source": [
        "Podemos notar uma silhueta de 0.2909, o que indica que a estrutura encontrada pelo modelo é fraca e pode representar um modelo superficial dos dados. Sendo assim, é recomendável a utilização de outros métodos de agrupamento para o banco de dados em questão"
      ]
    },
    {
      "cell_type": "markdown",
      "metadata": {
        "id": "L9ammJ8ZO8ej"
      },
      "source": [
        "Os mesmos procedimentos foram feitos com a base de dados normalizada -- `wine_dataset_norm`. O resultado foi o seguinte:\n",
        "\n",
        "* Silhueta: 0,2774"
      ]
    },
    {
      "cell_type": "markdown",
      "metadata": {
        "id": "T7YjbgmJYRMQ"
      },
      "source": [
        "Comparando a silhueta, podemos inferir que o resultado do modelo que usou a base normalizada obteve o mesmo intervalo de silhueta da base não normalizada, o que indica que a estrutura de agrupamento é fraca e pode representar um modelo superficial dos dados. Portanto, tanto o _K_means_ quanto o _Agrupamento hierárquico_ não obtiveram representações consistentes dos dados, o que conduz à realização de outros métodos para essa base de dados"
      ]
    }
  ]
}